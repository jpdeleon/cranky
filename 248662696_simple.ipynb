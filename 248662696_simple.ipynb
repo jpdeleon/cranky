{
 "cells": [
  {
   "cell_type": "markdown",
   "metadata": {},
   "source": [
    "## gotoflux() function\n",
    "\n",
    "* 09/16: add sigma clipping and plotting  \n",
    "* fixed on 09/11\n",
    "* see k2phot_v2 "
   ]
  },
  {
   "cell_type": "code",
   "execution_count": 1,
   "metadata": {
    "ExecuteTime": {
     "end_time": "2017-09-25T02:25:30.501880Z",
     "start_time": "2017-09-25T02:25:30.377446Z"
    }
   },
   "outputs": [
    {
     "name": "stdout",
     "output_type": "stream",
     "text": [
      "Python 2.7.13 :: Continuum Analytics, Inc.\r\n"
     ]
    }
   ],
   "source": [
    "!python --version"
   ]
  },
  {
   "cell_type": "code",
   "execution_count": 2,
   "metadata": {
    "ExecuteTime": {
     "end_time": "2017-09-25T02:25:30.529677Z",
     "start_time": "2017-09-25T02:25:30.504435Z"
    }
   },
   "outputs": [
    {
     "data": {
      "text/plain": [
       "'K2phot'"
      ]
     },
     "execution_count": 2,
     "metadata": {},
     "output_type": "execute_result"
    }
   ],
   "source": [
    "import os\n",
    "\n",
    "os.environ['CONDA_DEFAULT_ENV']"
   ]
  },
  {
   "cell_type": "raw",
   "metadata": {
    "ExecuteTime": {
     "end_time": "2017-09-07T12:55:34.382725Z",
     "start_time": "2017-09-07T12:55:34.369790Z"
    }
   },
   "source": [
    "hdr1=fits.getheader(fit[0])\n",
    "hdr1\n",
    "\n",
    "hdr2=fits.getheader(fit[0])\n",
    "hdr2"
   ]
  },
  {
   "cell_type": "code",
   "execution_count": 3,
   "metadata": {
    "ExecuteTime": {
     "end_time": "2017-09-25T02:25:31.356862Z",
     "start_time": "2017-09-25T02:25:30.537976Z"
    },
    "collapsed": true
   },
   "outputs": [],
   "source": [
    "from astropy.io import fits\n",
    "import numpy as np\n",
    "import matplotlib.pyplot as pl\n",
    "%matplotlib inline\n",
    "from glob import glob\n",
    "import getpass\n",
    "import os \n",
    "\n",
    "#fitfiles = glob('new_example_input/*.fits')\n",
    "#fitfiles = glob('/home/jp/data/transit/c14/*.fits.gz')"
   ]
  },
  {
   "cell_type": "markdown",
   "metadata": {},
   "source": [
    "## raw"
   ]
  },
  {
   "cell_type": "code",
   "execution_count": 32,
   "metadata": {
    "ExecuteTime": {
     "end_time": "2017-09-25T02:47:02.273067Z",
     "start_time": "2017-09-25T02:47:02.267348Z"
    }
   },
   "outputs": [
    {
     "data": {
      "text/plain": [
       "'24866269'"
      ]
     },
     "execution_count": 32,
     "metadata": {},
     "output_type": "execute_result"
    }
   ],
   "source": [
    "name='/home/jp/data/transit/c14/ktwo248662696-kadenza-lpd-targ.fits.gz'\n",
    "starname = name.split('/')[-1].split('-')[0][4:-1]\n",
    "starname"
   ]
  },
  {
   "cell_type": "code",
   "execution_count": 33,
   "metadata": {
    "ExecuteTime": {
     "end_time": "2017-09-25T02:54:54.074467Z",
     "start_time": "2017-09-25T02:54:54.071310Z"
    },
    "collapsed": true
   },
   "outputs": [],
   "source": [
    "outputpath='output'\n",
    "starname='24866269'"
   ]
  },
  {
   "cell_type": "code",
   "execution_count": 37,
   "metadata": {
    "ExecuteTime": {
     "end_time": "2017-09-25T02:55:32.292142Z",
     "start_time": "2017-09-25T02:55:32.285810Z"
    }
   },
   "outputs": [
    {
     "data": {
      "text/plain": [
       "'output/24866269/lightcurve_raw_24866269.txt'"
      ]
     },
     "execution_count": 37,
     "metadata": {},
     "output_type": "execute_result"
    }
   ],
   "source": [
    "fname='lightcurve_raw_'+starname+'.txt'\n",
    "join(outputpath,starname,fname)"
   ]
  },
  {
   "cell_type": "code",
   "execution_count": 34,
   "metadata": {
    "ExecuteTime": {
     "end_time": "2017-09-25T02:54:55.059964Z",
     "start_time": "2017-09-25T02:54:54.614981Z"
    },
    "collapsed": true
   },
   "outputs": [],
   "source": [
    "import pandas as pd\n",
    "from astropy.stats import sigma_clip\n",
    "from os.path import join\n",
    "\n",
    "def load_df(outputpath,starname,sigma_upper=10,sigma_lower=2):\n",
    "    fname='lightcurve_raw_'+starname+'.txt'\n",
    "    txtfile=join(outputpath,starname,fname)\n",
    "    df = pd.read_csv(txtfile, skiprows=1, delimiter=' ', names=['t','f','x','y'])\n",
    "    df['f_clip'] = sigma_clip(df.f, sigma_upper=sigma_upper,sigma_lower=sigma_lower)\n",
    "    df['fmed'] = df.f_clip.apply(lambda x: x/np.nanmedian(df.f_clip))\n",
    "    df['f_mask'] = df.fmed[df.fmed.apply(lambda x: (x > 0.9) & (x < 1.1))]\n",
    "    df.head()\n",
    "    return df\n",
    "\n",
    "df=load_df(outputpath,starname)"
   ]
  },
  {
   "cell_type": "code",
   "execution_count": 35,
   "metadata": {
    "ExecuteTime": {
     "end_time": "2017-09-25T02:55:01.246640Z",
     "start_time": "2017-09-25T02:55:01.225117Z"
    }
   },
   "outputs": [
    {
     "data": {
      "text/html": [
       "<div>\n",
       "<style>\n",
       "    .dataframe thead tr:only-child th {\n",
       "        text-align: right;\n",
       "    }\n",
       "\n",
       "    .dataframe thead th {\n",
       "        text-align: left;\n",
       "    }\n",
       "\n",
       "    .dataframe tbody tr th {\n",
       "        vertical-align: top;\n",
       "    }\n",
       "</style>\n",
       "<table border=\"1\" class=\"dataframe\">\n",
       "  <thead>\n",
       "    <tr style=\"text-align: right;\">\n",
       "      <th></th>\n",
       "      <th>t</th>\n",
       "      <th>f</th>\n",
       "      <th>x</th>\n",
       "      <th>y</th>\n",
       "      <th>f_clip</th>\n",
       "      <th>fmed</th>\n",
       "      <th>f_mask</th>\n",
       "    </tr>\n",
       "  </thead>\n",
       "  <tbody>\n",
       "    <tr>\n",
       "      <th>0</th>\n",
       "      <td>3072.723055</td>\n",
       "      <td>3818319.0</td>\n",
       "      <td>572.403585</td>\n",
       "      <td>966.464704</td>\n",
       "      <td>3818319.0</td>\n",
       "      <td>0.990996</td>\n",
       "      <td>0.990996</td>\n",
       "    </tr>\n",
       "    <tr>\n",
       "      <th>1</th>\n",
       "      <td>3072.743489</td>\n",
       "      <td>3821228.0</td>\n",
       "      <td>572.406562</td>\n",
       "      <td>966.464730</td>\n",
       "      <td>3821228.0</td>\n",
       "      <td>0.991751</td>\n",
       "      <td>0.991751</td>\n",
       "    </tr>\n",
       "    <tr>\n",
       "      <th>2</th>\n",
       "      <td>3072.763923</td>\n",
       "      <td>3824836.0</td>\n",
       "      <td>572.409431</td>\n",
       "      <td>966.463025</td>\n",
       "      <td>3824836.0</td>\n",
       "      <td>0.992687</td>\n",
       "      <td>0.992687</td>\n",
       "    </tr>\n",
       "    <tr>\n",
       "      <th>3</th>\n",
       "      <td>3072.784356</td>\n",
       "      <td>3827722.0</td>\n",
       "      <td>572.413336</td>\n",
       "      <td>966.462434</td>\n",
       "      <td>3827722.0</td>\n",
       "      <td>0.993436</td>\n",
       "      <td>0.993436</td>\n",
       "    </tr>\n",
       "    <tr>\n",
       "      <th>4</th>\n",
       "      <td>3072.804790</td>\n",
       "      <td>3830503.0</td>\n",
       "      <td>572.419457</td>\n",
       "      <td>966.461292</td>\n",
       "      <td>3830503.0</td>\n",
       "      <td>0.994158</td>\n",
       "      <td>0.994158</td>\n",
       "    </tr>\n",
       "  </tbody>\n",
       "</table>\n",
       "</div>"
      ],
      "text/plain": [
       "             t          f           x           y     f_clip      fmed  \\\n",
       "0  3072.723055  3818319.0  572.403585  966.464704  3818319.0  0.990996   \n",
       "1  3072.743489  3821228.0  572.406562  966.464730  3821228.0  0.991751   \n",
       "2  3072.763923  3824836.0  572.409431  966.463025  3824836.0  0.992687   \n",
       "3  3072.784356  3827722.0  572.413336  966.462434  3827722.0  0.993436   \n",
       "4  3072.804790  3830503.0  572.419457  966.461292  3830503.0  0.994158   \n",
       "\n",
       "     f_mask  \n",
       "0  0.990996  \n",
       "1  0.991751  \n",
       "2  0.992687  \n",
       "3  0.993436  \n",
       "4  0.994158  "
      ]
     },
     "execution_count": 35,
     "metadata": {},
     "output_type": "execute_result"
    }
   ],
   "source": [
    "df.head()"
   ]
  },
  {
   "cell_type": "code",
   "execution_count": 7,
   "metadata": {
    "ExecuteTime": {
     "end_time": "2017-09-25T02:25:53.759665Z",
     "start_time": "2017-09-25T02:25:52.971243Z"
    }
   },
   "outputs": [
    {
     "name": "stdout",
     "output_type": "stream",
     "text": [
      "clipped datapoints: 39\n"
     ]
    },
    {
     "data": {
      "image/png": "[encoded data removed]",
      "text/plain": [
       "<matplotlib.figure.Figure at 0x7f9332ff5f50>"
      ]
     },
     "metadata": {},
     "output_type": "display_data"
    }
   ],
   "source": [
    "import matplotlib.pyplot as plt\n",
    "%matplotlib inline\n",
    "plt.style.use('seaborn-white')\n",
    "\n",
    "def plot_f_xy(df):\n",
    "    fig, ax = plt.subplots(2,1,figsize=(15,8))\n",
    "    #ax[0].plot(df.t, df.f_clip,'.', alpha=0.5, color='r', marker='.')\n",
    "    ax[0].plot(df.t, df.f_mask,'.', alpha=0.5, color='r', marker='.')\n",
    "    ax[0].set_ylabel('Flux')\n",
    "    ax[0].set_xlabel('Time (day)')\n",
    "    #ax[0].set_ylim([np.median(df.fmed)-0.1,np.median(df.fmed)+0.1])\n",
    "    ax[0].set_xlim([df.t.iloc[0],df.t.iloc[-1]])\n",
    "    #centroid drift\n",
    "    ax[1].plot(df.t, df.x.apply(lambda x: x-df.x.iloc[0]),'.', alpha=0.5, color='g', marker='.', label='x')\n",
    "    ax[1].plot(df.t, df.y.apply(lambda x: x-df.y.iloc[0]),'.', alpha=0.5, color='b', marker='.', label='y')\n",
    "    ax[1].set_ylim([-1,1])\n",
    "    ax[1].set_xlim([df.t.iloc[0],df.t.iloc[-1]])\n",
    "    plt.legend()\n",
    "\n",
    "    print('clipped datapoints: {}'.format(np.isnan(df.f_mask).sum()))\n",
    "    \n",
    "plot_f_xy(df)"
   ]
  },
  {
   "cell_type": "code",
   "execution_count": 8,
   "metadata": {
    "ExecuteTime": {
     "end_time": "2017-09-25T02:25:53.767582Z",
     "start_time": "2017-09-25T02:25:53.761634Z"
    },
    "collapsed": true
   },
   "outputs": [],
   "source": [
    "x=df.x\n",
    "y=df.y\n",
    "f=df.f/np.median(df.f)\n",
    "t=df.t\n",
    "\n",
    "#design matrix\n",
    "X = np.c_[x,y,x*y,x**2,y**2,np.ones_like(x)]"
   ]
  },
  {
   "cell_type": "code",
   "execution_count": 9,
   "metadata": {
    "ExecuteTime": {
     "end_time": "2017-09-25T02:25:54.094996Z",
     "start_time": "2017-09-25T02:25:54.090313Z"
    },
    "collapsed": true
   },
   "outputs": [],
   "source": [
    "#coeff\n",
    "beta = np.dot(np.dot(np.linalg.inv(np.dot(X.T,X)),X.T),f)"
   ]
  },
  {
   "cell_type": "code",
   "execution_count": 10,
   "metadata": {
    "ExecuteTime": {
     "end_time": "2017-09-25T02:25:54.956093Z",
     "start_time": "2017-09-25T02:25:54.592847Z"
    }
   },
   "outputs": [
    {
     "data": {
      "text/plain": [
       "<matplotlib.legend.Legend at 0x7f932cc6c490>"
      ]
     },
     "execution_count": 10,
     "metadata": {},
     "output_type": "execute_result"
    },
    {
     "data": {
      "image/png": "[encoded data removed]",
      "text/plain": [
       "<matplotlib.figure.Figure at 0x7f932eec3dd0>"
      ]
     },
     "metadata": {},
     "output_type": "display_data"
    }
   ],
   "source": [
    "fig,ax=pl.subplots(1,1,figsize=(15,6))\n",
    "f_hat=np.dot(X,beta)\n",
    "ax.plot(t,f,'r.',label='raw')\n",
    "ax.plot(t,f_hat,'b.',label='model')\n",
    "ax.legend()"
   ]
  },
  {
   "cell_type": "code",
   "execution_count": 13,
   "metadata": {
    "ExecuteTime": {
     "end_time": "2017-09-25T02:26:17.449320Z",
     "start_time": "2017-09-25T02:26:17.139915Z"
    }
   },
   "outputs": [
    {
     "data": {
      "image/png": "[encoded data removed]",
      "text/plain": [
       "<matplotlib.figure.Figure at 0x7f932c450d90>"
      ]
     },
     "metadata": {},
     "output_type": "display_data"
    }
   ],
   "source": [
    "#sigma clipping\n",
    "from astropy.stats import sigma_clip\n",
    "\n",
    "def astropy_sigma_clip(t,f,x,y,sigma=3,showfig=True):\n",
    "    fmask= sigma_clip(f, sigma=sigma).mask\n",
    "    xmask= sigma_clip(x, sigma=sigma).mask\n",
    "    ymask= sigma_clip(y, sigma=sigma).mask\n",
    "\n",
    "    zz = np.c_[fmask, xmask, ymask]\n",
    "    # idx = zz.sum(axis=1) != 0\n",
    "    # idx.sum()\n",
    "    mask=zz.any(axis=1)\n",
    "    if showfig:\n",
    "        fig, ax = pl.subplots(1,1,figsize=(15,3))\n",
    "        ax.plot(t,f,'r.',label='raw')\n",
    "        ax.plot(t[~mask],f[~mask],'b.',label='clipped')\n",
    "        #ax.set_ylim(0.98,1.01)\n",
    "    t,f,x,y=t[~mask],f[~mask],x[~mask],y[~mask]\n",
    "    return t,f,x,y\n",
    "\n",
    "t,f,x,y=astropy_sigma_clip(t,f,x,y,sigma=3,showfig=True)"
   ]
  },
  {
   "cell_type": "code",
   "execution_count": 14,
   "metadata": {
    "ExecuteTime": {
     "end_time": "2017-09-25T02:26:39.510556Z",
     "start_time": "2017-09-25T02:26:39.501341Z"
    },
    "collapsed": true
   },
   "outputs": [],
   "source": [
    "#model\n",
    "X = np.c_[x,y,x*y,x**2,y**2,np.ones_like(x)]\n",
    "beta = np.dot(np.dot(np.linalg.inv(np.dot(X.T,X)),X.T),f)"
   ]
  },
  {
   "cell_type": "code",
   "execution_count": 15,
   "metadata": {
    "ExecuteTime": {
     "end_time": "2017-09-25T02:26:41.125278Z",
     "start_time": "2017-09-25T02:26:40.719169Z"
    }
   },
   "outputs": [
    {
     "data": {
      "text/plain": [
       "<matplotlib.legend.Legend at 0x7f932c3d1f90>"
      ]
     },
     "execution_count": 15,
     "metadata": {},
     "output_type": "execute_result"
    },
    {
     "data": {
      "image/png": "[encoded data removed]",
      "text/plain": [
       "<matplotlib.figure.Figure at 0x7f932cd8ac90>"
      ]
     },
     "metadata": {},
     "output_type": "display_data"
    }
   ],
   "source": [
    "fig,ax=pl.subplots(1,1,figsize=(15,6))\n",
    "f_hat=np.dot(X,beta)\n",
    "ax.plot(t,f,'r.',label='raw')\n",
    "ax.plot(t,f_hat,'b.',label='model')\n",
    "ax.legend()"
   ]
  },
  {
   "cell_type": "code",
   "execution_count": 20,
   "metadata": {
    "ExecuteTime": {
     "end_time": "2017-09-25T02:28:30.614647Z",
     "start_time": "2017-09-25T02:28:24.392338Z"
    }
   },
   "outputs": [
    {
     "data": {
      "image/png": "[encoded data removed]",
      "text/plain": [
       "<matplotlib.figure.Figure at 0x7f9324035d90>"
      ]
     },
     "metadata": {},
     "output_type": "display_data"
    }
   ],
   "source": [
    "#fit spline\n",
    "from scipy.interpolate import Rbf\n",
    "\n",
    "def fit_rbf(t,f,showfig=True):\n",
    "    rbfi = Rbf(t, f, function='quintic', smooth=100)\n",
    "    if showfig:\n",
    "        fig, ax = pl.subplots(1,1,figsize=(15,3))\n",
    "        ax.plot(t, f, '.')\n",
    "        ax.plot(t, rbfi(t), 'r-')\n",
    "    return t,rbfi(t)\n",
    "\n",
    "t_rbf,f_rbf=fit_rbf(t,f)"
   ]
  },
  {
   "cell_type": "code",
   "execution_count": 22,
   "metadata": {
    "ExecuteTime": {
     "end_time": "2017-09-25T02:29:55.532587Z",
     "start_time": "2017-09-25T02:29:55.260270Z"
    }
   },
   "outputs": [
    {
     "data": {
      "text/plain": [
       "[<matplotlib.lines.Line2D at 0x7f931ba1df50>]"
      ]
     },
     "execution_count": 22,
     "metadata": {},
     "output_type": "execute_result"
    },
    {
     "data": {
      "image/png": "[encoded data removed]",
      "text/plain": [
       "<matplotlib.figure.Figure at 0x7f931ba1dfd0>"
      ]
     },
     "metadata": {},
     "output_type": "display_data"
    }
   ],
   "source": [
    "#detrended lc\n",
    "\n",
    "fig, ax = pl.subplots(1,1,figsize=(15,3))\n",
    "\n",
    "f_cd = f / f_rbf\n",
    "pl.plot(t,f_cd,'.-', alpha=0.5 )\n",
    "#ax.set_ylim(0.98,1.01)"
   ]
  },
  {
   "cell_type": "code",
   "execution_count": 23,
   "metadata": {
    "ExecuteTime": {
     "end_time": "2017-09-25T02:29:55.881639Z",
     "start_time": "2017-09-25T02:29:55.872835Z"
    },
    "collapsed": true
   },
   "outputs": [],
   "source": [
    "#new model\n",
    "X = np.c_[x,y,x*y,x**2,y**2,np.ones_like(x)]\n",
    "beta = np.dot(np.dot(np.linalg.inv(np.dot(X.T,X)),X.T),f_cd)"
   ]
  },
  {
   "cell_type": "code",
   "execution_count": 24,
   "metadata": {
    "ExecuteTime": {
     "end_time": "2017-09-25T02:29:56.888110Z",
     "start_time": "2017-09-25T02:29:56.475041Z"
    }
   },
   "outputs": [
    {
     "data": {
      "text/plain": [
       "<matplotlib.legend.Legend at 0x7f931b877510>"
      ]
     },
     "execution_count": 24,
     "metadata": {},
     "output_type": "execute_result"
    },
    {
     "data": {
      "image/png": "[encoded data removed]",
      "text/plain": [
       "<matplotlib.figure.Figure at 0x7f931b977ad0>"
      ]
     },
     "metadata": {},
     "output_type": "display_data"
    }
   ],
   "source": [
    "fig,ax=pl.subplots(1,1,figsize=(15,6))\n",
    "f_hat=np.dot(X,beta)\n",
    "\n",
    "ax.plot(t,f_cd,'r.',label='raw')\n",
    "ax.plot(t,f_hat,'b.',label='model')\n",
    "ax.legend()"
   ]
  },
  {
   "cell_type": "code",
   "execution_count": 25,
   "metadata": {
    "ExecuteTime": {
     "end_time": "2017-09-25T02:30:00.856433Z",
     "start_time": "2017-09-25T02:30:00.449913Z"
    }
   },
   "outputs": [
    {
     "data": {
      "text/plain": [
       "(0.98, 1.01)"
      ]
     },
     "execution_count": 25,
     "metadata": {},
     "output_type": "execute_result"
    },
    {
     "data": {
      "image/png": "[encoded data removed]",
      "text/plain": [
       "<matplotlib.figure.Figure at 0x7f932c29edd0>"
      ]
     },
     "metadata": {},
     "output_type": "display_data"
    }
   ],
   "source": [
    "#out of transit\n",
    "xx=sigma_clip(f_cd, sigma_lower=5, sigma_upper=5)\n",
    "tt,ff=t[~xx.mask],f_cd[~xx.mask]\n",
    "x,y=x[~xx.mask],y[~xx.mask]\n",
    "\n",
    "fig, ax = pl.subplots(1,1,figsize=(15,3))\n",
    "\n",
    "ax.plot(t,f_cd,'r.',label='raw')\n",
    "ax.plot(tt,ff,'b.',label='clipped')\n",
    "ax.set_ylim(0.98,1.01)"
   ]
  },
  {
   "cell_type": "code",
   "execution_count": 26,
   "metadata": {
    "ExecuteTime": {
     "end_time": "2017-09-25T02:30:06.698922Z",
     "start_time": "2017-09-25T02:30:06.685787Z"
    },
    "collapsed": true
   },
   "outputs": [],
   "source": [
    "#new model\n",
    "X = np.c_[x,y,x*y,x**2,y**2,np.ones_like(x)]\n",
    "beta = np.dot(np.dot(np.linalg.inv(np.dot(X.T,X)),X.T),ff)"
   ]
  },
  {
   "cell_type": "code",
   "execution_count": 27,
   "metadata": {
    "ExecuteTime": {
     "end_time": "2017-09-25T02:30:08.570608Z",
     "start_time": "2017-09-25T02:30:08.165519Z"
    }
   },
   "outputs": [
    {
     "data": {
      "text/plain": [
       "<matplotlib.legend.Legend at 0x7f931bbfb750>"
      ]
     },
     "execution_count": 27,
     "metadata": {},
     "output_type": "execute_result"
    },
    {
     "data": {
      "image/png": "[encoded data removed]",
      "text/plain": [
       "<matplotlib.figure.Figure at 0x7f933301ac90>"
      ]
     },
     "metadata": {},
     "output_type": "display_data"
    }
   ],
   "source": [
    "fig,ax=pl.subplots(1,1,figsize=(15,6))\n",
    "f_hat=np.dot(X,beta)\n",
    "\n",
    "ax.plot(t,f_cd,'r.',label='raw')\n",
    "ax.plot(tt,f_hat,'b-',label='model')\n",
    "ax.legend()"
   ]
  },
  {
   "cell_type": "code",
   "execution_count": 28,
   "metadata": {
    "ExecuteTime": {
     "end_time": "2017-09-25T02:30:15.043110Z",
     "start_time": "2017-09-25T02:30:14.659321Z"
    }
   },
   "outputs": [
    {
     "data": {
      "text/plain": [
       "<matplotlib.legend.Legend at 0x7f931b815b50>"
      ]
     },
     "execution_count": 28,
     "metadata": {},
     "output_type": "execute_result"
    },
    {
     "data": {
      "image/png": "[encoded data removed]",
      "text/plain": [
       "<matplotlib.figure.Figure at 0x7f932c2c0e90>"
      ]
     },
     "metadata": {},
     "output_type": "display_data"
    }
   ],
   "source": [
    "fig,ax=pl.subplots(1,1,figsize=(15,6))\n",
    "f_hat=np.dot(X,beta)\n",
    "\n",
    "ax.plot(t,f_cd,'r.',label='raw')\n",
    "ax.plot(tt,ff,'b-',label='model')\n",
    "ax.legend()"
   ]
  },
  {
   "cell_type": "markdown",
   "metadata": {},
   "source": [
    "## least squares without bias"
   ]
  },
  {
   "cell_type": "code",
   "execution_count": 29,
   "metadata": {
    "ExecuteTime": {
     "end_time": "2017-09-25T02:30:18.239313Z",
     "start_time": "2017-09-25T02:30:18.232058Z"
    },
    "collapsed": true
   },
   "outputs": [],
   "source": [
    "#new model\n",
    "X = np.c_[x,y,x*y,x**2,y**2]\n",
    "beta = np.dot(np.dot(np.linalg.inv(np.dot(X.T,X)),X.T),ff)"
   ]
  },
  {
   "cell_type": "code",
   "execution_count": 30,
   "metadata": {
    "ExecuteTime": {
     "end_time": "2017-09-25T02:30:20.215771Z",
     "start_time": "2017-09-25T02:30:19.762017Z"
    }
   },
   "outputs": [
    {
     "data": {
      "text/plain": [
       "<matplotlib.legend.Legend at 0x7f931b794990>"
      ]
     },
     "execution_count": 30,
     "metadata": {},
     "output_type": "execute_result"
    },
    {
     "data": {
      "image/png": "[encoded data removed]",
      "text/plain": [
       "<matplotlib.figure.Figure at 0x7f931bc7f5d0>"
      ]
     },
     "metadata": {},
     "output_type": "display_data"
    }
   ],
   "source": [
    "fig,ax=pl.subplots(1,1,figsize=(15,6))\n",
    "f_hat=np.dot(X,beta)\n",
    "\n",
    "ax.plot(t,f_cd,'r.',label='raw')\n",
    "ax.plot(tt,f_hat,'b-',label='model')\n",
    "ax.legend()"
   ]
  },
  {
   "cell_type": "markdown",
   "metadata": {},
   "source": [
    "## MLE without bias"
   ]
  },
  {
   "cell_type": "code",
   "execution_count": null,
   "metadata": {
    "ExecuteTime": {
     "end_time": "2017-09-25T02:25:13.383307Z",
     "start_time": "2017-09-25T02:25:13.337Z"
    },
    "collapsed": true
   },
   "outputs": [],
   "source": [
    "from scipy import optimize as op\n",
    "\n",
    "X = np.c_[x,y,x*y,x**2,y**2]\n",
    "\n",
    "#sigma as a free parameter\n",
    "def log_like(theta, X, y):\n",
    "    logsigma = theta[-1]\n",
    "    sigma = np.exp(logsigma)\n",
    "    y_model = (theta[:-1]*X).sum(axis=1)\n",
    "    return -0.5 * np.sum(np.log(sigma**2) + (y-y_model)**2 / sigma**2)\n",
    "\n",
    "x0 = [0,0,0,0,0,np.log((np.std(ff)))]\n",
    "\n",
    "args = (X, ff)\n",
    "nll = lambda *x: -log_like(*x)"
   ]
  },
  {
   "cell_type": "code",
   "execution_count": null,
   "metadata": {
    "ExecuteTime": {
     "end_time": "2017-09-25T02:25:13.385605Z",
     "start_time": "2017-09-25T02:25:13.340Z"
    },
    "collapsed": true,
    "scrolled": true
   },
   "outputs": [],
   "source": [
    "nll(x0, X, ff)"
   ]
  },
  {
   "cell_type": "code",
   "execution_count": null,
   "metadata": {
    "ExecuteTime": {
     "end_time": "2017-09-25T02:25:13.387994Z",
     "start_time": "2017-09-25T02:25:13.343Z"
    },
    "collapsed": true
   },
   "outputs": [],
   "source": [
    "opt = op.minimize(nll, x0, args=args, method='powell')"
   ]
  },
  {
   "cell_type": "code",
   "execution_count": null,
   "metadata": {
    "ExecuteTime": {
     "end_time": "2017-09-25T02:25:13.389858Z",
     "start_time": "2017-09-25T02:25:13.346Z"
    },
    "collapsed": true
   },
   "outputs": [],
   "source": [
    "print(opt.success)\n",
    "print(opt.x)"
   ]
  },
  {
   "cell_type": "code",
   "execution_count": null,
   "metadata": {
    "ExecuteTime": {
     "end_time": "2017-09-25T02:25:13.392324Z",
     "start_time": "2017-09-25T02:25:13.349Z"
    },
    "collapsed": true
   },
   "outputs": [],
   "source": [
    "fig,ax = pl.subplots(1,1,figsize=(15,6))\n",
    "f_hat=(opt.x[:-1]*X).sum(axis=1)\n",
    "\n",
    "ax.plot(tt,ff,'r.',label='raw')\n",
    "ax.plot(tt,f_hat,'b.',label='model')\n",
    "ax.legend()"
   ]
  },
  {
   "cell_type": "markdown",
   "metadata": {},
   "source": [
    "Making sigma a free parameter allows the optimizer to assign small number at the expense of fitting the model. In contrast to LSE which assumes equal constant sigma, it is forced to explain all (overfit) the data."
   ]
  },
  {
   "cell_type": "code",
   "execution_count": null,
   "metadata": {
    "ExecuteTime": {
     "end_time": "2017-09-25T02:25:13.394393Z",
     "start_time": "2017-09-25T02:25:13.354Z"
    },
    "collapsed": true
   },
   "outputs": [],
   "source": [
    "#sigma\n",
    "np.exp(opt.x[-1])"
   ]
  },
  {
   "cell_type": "code",
   "execution_count": null,
   "metadata": {
    "ExecuteTime": {
     "end_time": "2017-09-25T02:25:13.396748Z",
     "start_time": "2017-09-25T02:25:13.358Z"
    },
    "collapsed": true
   },
   "outputs": [],
   "source": [
    "np.std(ff)"
   ]
  },
  {
   "cell_type": "markdown",
   "metadata": {},
   "source": [
    "## MCMC with fixed small sigma"
   ]
  },
  {
   "cell_type": "code",
   "execution_count": null,
   "metadata": {
    "ExecuteTime": {
     "end_time": "2017-09-25T02:25:13.398795Z",
     "start_time": "2017-09-25T02:25:13.364Z"
    },
    "collapsed": true
   },
   "outputs": [],
   "source": [
    "from scipy import optimize as op\n",
    "\n",
    "X = np.c_[x,y,x*y,x**2,y**2]\n",
    "\n",
    "#sigma as a free parameter\n",
    "def log_like(theta, X, y):\n",
    "    logsigma = -100\n",
    "    sigma = np.exp(logsigma)\n",
    "    y_model = (theta*X).sum(axis=1)\n",
    "    return -0.5 * np.sum(np.log(sigma**2) + (y-y_model)**2 / sigma**2)\n",
    "\n",
    "x0 = [0,0,0,0,0]\n",
    "\n",
    "args = (X, ff)\n",
    "nll = lambda *x: -log_like(*x)"
   ]
  },
  {
   "cell_type": "code",
   "execution_count": null,
   "metadata": {
    "ExecuteTime": {
     "end_time": "2017-09-25T02:25:13.400676Z",
     "start_time": "2017-09-25T02:25:13.370Z"
    },
    "collapsed": true
   },
   "outputs": [],
   "source": [
    "import emcee\n",
    "from tqdm import tqdm\n",
    "\n",
    "nwalkers=100\n",
    "ndim = len(x0)\n",
    "nsteps=1000\n",
    "\n",
    "sampler.reset\n",
    "sampler = emcee.EnsembleSampler(nwalkers, ndim, log_like, args=args)\n",
    "x0ball = [np.random.normal(loc=i,scale=0.01,size=nwalkers) for i in x0]\n",
    "#x0ball = [np.random.normal(loc=i,scale=0.01,size=nwalkers) for i in opt.x]\n",
    "x0ball = np.array(x0ball).reshape(nwalkers, ndim)"
   ]
  },
  {
   "cell_type": "code",
   "execution_count": null,
   "metadata": {
    "ExecuteTime": {
     "end_time": "2017-09-25T02:25:13.402860Z",
     "start_time": "2017-09-25T02:25:13.376Z"
    },
    "collapsed": true
   },
   "outputs": [],
   "source": [
    "for pos,lp,_ in tqdm(sampler.sample(x0ball,iterations=nsteps)):\n",
    "    pass"
   ]
  },
  {
   "cell_type": "code",
   "execution_count": null,
   "metadata": {
    "ExecuteTime": {
     "end_time": "2017-09-25T02:25:13.404799Z",
     "start_time": "2017-09-25T02:25:13.380Z"
    },
    "collapsed": true,
    "scrolled": true
   },
   "outputs": [],
   "source": [
    "sampler.chain.shape"
   ]
  },
  {
   "cell_type": "code",
   "execution_count": null,
   "metadata": {
    "ExecuteTime": {
     "end_time": "2017-09-25T02:25:13.407385Z",
     "start_time": "2017-09-25T02:25:13.383Z"
    },
    "collapsed": true
   },
   "outputs": [],
   "source": [
    "for post,lp,_ in tqdm(sampler.sample(pos,iterations=nsteps)):\n",
    "    pass"
   ]
  },
  {
   "cell_type": "code",
   "execution_count": null,
   "metadata": {
    "ExecuteTime": {
     "end_time": "2017-09-25T02:25:13.415851Z",
     "start_time": "2017-09-25T02:25:13.386Z"
    },
    "collapsed": true,
    "scrolled": true
   },
   "outputs": [],
   "source": [
    "trace = sampler.chain\n",
    "nburn=1000\n",
    "labels='x,y,x*y,x2,y2'.split(',')\n",
    "fig, axs = plt.subplots(ndim, 1, figsize=(15,ndim/1.5), sharex=True)\n",
    "[axs.flat[i].plot(c, drawstyle='steps', color='k', alpha=4./nwalkers) for i,c in enumerate(trace.T)]\n",
    "[axs.flat[i].set_ylabel(l) for i,l in enumerate(labels)]\n",
    "\n",
    "plt.xlabel('nsteps')"
   ]
  },
  {
   "cell_type": "code",
   "execution_count": null,
   "metadata": {
    "ExecuteTime": {
     "end_time": "2017-09-25T02:25:13.422962Z",
     "start_time": "2017-09-25T02:25:13.391Z"
    },
    "collapsed": true,
    "scrolled": false
   },
   "outputs": [],
   "source": [
    "import corner\n",
    "\n",
    "burn=1000\n",
    "#theta_hat=sampler.flatchain[np.argmax(sampler.flatlnprobability)]\n",
    "\n",
    "fc=trace[:,burn:,:].reshape(nsteps*nwalkers,ndim)\n",
    "corner.corner(fc, labels=labels, \n",
    "              quantiles=[0.16, 0.5, 0.84], \n",
    "              truths=beta,#theta_hat,\n",
    "              show_titles=True, title_kwargs={\"fontsize\": 12});"
   ]
  },
  {
   "cell_type": "code",
   "execution_count": null,
   "metadata": {
    "ExecuteTime": {
     "end_time": "2017-09-25T02:25:13.428037Z",
     "start_time": "2017-09-25T02:25:13.397Z"
    },
    "collapsed": true
   },
   "outputs": [],
   "source": [
    "theta_hat=sampler.flatchain[np.argmax(sampler.flatlnprobability)]\n",
    "\n",
    "fig,ax = pl.subplots(1,1,figsize=(15,6))\n",
    "f_hat=(theta_hat*X).sum(axis=1)\n",
    "\n",
    "ax.plot(tt,ff,'r.',label='raw')\n",
    "ax.plot(tt,f_hat,'b.',label='model')\n",
    "ax.legend()"
   ]
  },
  {
   "cell_type": "code",
   "execution_count": null,
   "metadata": {
    "collapsed": true
   },
   "outputs": [],
   "source": []
  },
  {
   "cell_type": "markdown",
   "metadata": {},
   "source": [
    "## MCMC with varying sigma"
   ]
  },
  {
   "cell_type": "code",
   "execution_count": null,
   "metadata": {
    "ExecuteTime": {
     "end_time": "2017-09-25T02:25:13.433170Z",
     "start_time": "2017-09-25T02:25:13.408Z"
    },
    "collapsed": true
   },
   "outputs": [],
   "source": [
    "from scipy import optimize as op\n",
    "\n",
    "X = np.c_[x,y,x*y,x**2,y**2]\n",
    "\n",
    "#sigma as a free parameter\n",
    "def log_like(theta, X, y):\n",
    "    logsigma = theta[-1]\n",
    "    sigma = np.exp(logsigma)\n",
    "    y_model = (theta[:-1]*X).sum(axis=1)\n",
    "    return -0.5 * np.sum(np.log(sigma**2) + (y-y_model)**2 / sigma**2)\n",
    "\n",
    "x0 = [0,0,0,0,0,np.log((np.std(ff)))]\n",
    "\n",
    "args = (X, ff)\n",
    "nll = lambda *x: -log_like(*x)"
   ]
  },
  {
   "cell_type": "code",
   "execution_count": null,
   "metadata": {
    "ExecuteTime": {
     "end_time": "2017-09-25T02:25:13.438657Z",
     "start_time": "2017-09-25T02:25:13.411Z"
    },
    "collapsed": true
   },
   "outputs": [],
   "source": [
    "import emcee\n",
    "from tqdm import tqdm\n",
    "\n",
    "nwalkers=100\n",
    "ndim = len(x0)\n",
    "nsteps=1000\n",
    "\n",
    "sampler.reset\n",
    "sampler = emcee.EnsembleSampler(nwalkers, ndim, log_like, args=args)\n",
    "#x0ball = [np.random.normal(loc=i,scale=0.01,size=nwalkers) for i in x0]\n",
    "x0ball = [np.random.normal(loc=i,scale=0.01,size=nwalkers) for i in opt.x]\n",
    "x0ball = np.array(x0ball).reshape(nwalkers, ndim)"
   ]
  },
  {
   "cell_type": "code",
   "execution_count": null,
   "metadata": {
    "ExecuteTime": {
     "end_time": "2017-09-25T02:25:13.443736Z",
     "start_time": "2017-09-25T02:25:13.415Z"
    },
    "collapsed": true
   },
   "outputs": [],
   "source": [
    "for pos,lp,_ in tqdm(sampler.sample(x0ball,iterations=nsteps)):\n",
    "    pass"
   ]
  },
  {
   "cell_type": "code",
   "execution_count": null,
   "metadata": {
    "ExecuteTime": {
     "end_time": "2017-09-25T02:25:13.455042Z",
     "start_time": "2017-09-25T02:25:13.419Z"
    },
    "collapsed": true,
    "scrolled": true
   },
   "outputs": [],
   "source": [
    "sampler.chain.shape"
   ]
  },
  {
   "cell_type": "code",
   "execution_count": null,
   "metadata": {
    "ExecuteTime": {
     "end_time": "2017-09-25T02:25:13.457090Z",
     "start_time": "2017-09-25T02:25:13.423Z"
    },
    "collapsed": true
   },
   "outputs": [],
   "source": [
    "for post,lp,_ in tqdm(sampler.sample(pos,iterations=nsteps)):\n",
    "    pass"
   ]
  },
  {
   "cell_type": "code",
   "execution_count": null,
   "metadata": {
    "ExecuteTime": {
     "end_time": "2017-09-25T02:25:13.465408Z",
     "start_time": "2017-09-25T02:25:13.427Z"
    },
    "collapsed": true,
    "scrolled": true
   },
   "outputs": [],
   "source": [
    "trace = sampler.chain\n",
    "nburn=1000\n",
    "labels='x,y,x*y,x2,y2,sigma'.split(',')\n",
    "fig, axs = plt.subplots(ndim, 1, figsize=(15,ndim/1.5), sharex=True)\n",
    "[axs.flat[i].plot(c, drawstyle='steps', color='k', alpha=4./nwalkers) for i,c in enumerate(trace.T)]\n",
    "[axs.flat[i].set_ylabel(l) for i,l in enumerate(labels)]\n",
    "\n",
    "plt.xlabel('nsteps')"
   ]
  },
  {
   "cell_type": "code",
   "execution_count": null,
   "metadata": {
    "ExecuteTime": {
     "end_time": "2017-09-25T02:25:13.473578Z",
     "start_time": "2017-09-25T02:25:13.431Z"
    },
    "collapsed": true
   },
   "outputs": [],
   "source": [
    "import corner\n",
    "\n",
    "burn=1000\n",
    "theta_hat=sampler.flatchain[np.argmax(sampler.flatlnprobability)]\n",
    "#f_hat=np.dot(X,beta)\n",
    "fc=trace[:,burn:,:].reshape(nsteps*nwalkers,ndim)\n",
    "corner.corner(fc, labels=labels, \n",
    "              quantiles=[0.16, 0.5, 0.84], \n",
    "              truths=np.concatenate((beta,[0]),axis=0),#theta_hat,\n",
    "              show_titles=True, title_kwargs={\"fontsize\": 12});"
   ]
  },
  {
   "cell_type": "code",
   "execution_count": null,
   "metadata": {
    "ExecuteTime": {
     "end_time": "2017-09-25T02:25:13.481546Z",
     "start_time": "2017-09-25T02:25:13.435Z"
    },
    "collapsed": true
   },
   "outputs": [],
   "source": [
    "fig,ax = pl.subplots(1,1,figsize=(15,6))\n",
    "f_hat=(theta_hat[:-1]*X).sum(axis=1)\n",
    "\n",
    "ax.plot(tt,ff,'r.',label='raw')\n",
    "ax.plot(tt,f_hat,'b.',label='model')\n",
    "ax.legend()"
   ]
  },
  {
   "cell_type": "code",
   "execution_count": null,
   "metadata": {
    "collapsed": true
   },
   "outputs": [],
   "source": []
  },
  {
   "cell_type": "code",
   "execution_count": null,
   "metadata": {
    "collapsed": true
   },
   "outputs": [],
   "source": []
  },
  {
   "cell_type": "code",
   "execution_count": null,
   "metadata": {
    "collapsed": true
   },
   "outputs": [],
   "source": []
  },
  {
   "cell_type": "code",
   "execution_count": null,
   "metadata": {
    "collapsed": true
   },
   "outputs": [],
   "source": []
  },
  {
   "cell_type": "code",
   "execution_count": null,
   "metadata": {
    "collapsed": true
   },
   "outputs": [],
   "source": []
  },
  {
   "cell_type": "code",
   "execution_count": null,
   "metadata": {
    "collapsed": true
   },
   "outputs": [],
   "source": []
  },
  {
   "cell_type": "code",
   "execution_count": null,
   "metadata": {
    "collapsed": true
   },
   "outputs": [],
   "source": []
  },
  {
   "cell_type": "code",
   "execution_count": null,
   "metadata": {
    "collapsed": true
   },
   "outputs": [],
   "source": []
  },
  {
   "cell_type": "code",
   "execution_count": null,
   "metadata": {
    "collapsed": true
   },
   "outputs": [],
   "source": []
  },
  {
   "cell_type": "code",
   "execution_count": null,
   "metadata": {
    "ExecuteTime": {
     "end_time": "2017-09-25T02:25:13.489357Z",
     "start_time": "2017-09-25T02:25:13.468Z"
    },
    "collapsed": true
   },
   "outputs": [],
   "source": [
    "theta_hat=sampler.flatchain[np.argmax(sampler.flatlnprobability)]\n",
    "#c.f.sampler.flatchain[np.argmax(lp)]\n",
    "theta_hat"
   ]
  },
  {
   "cell_type": "code",
   "execution_count": null,
   "metadata": {
    "ExecuteTime": {
     "end_time": "2017-09-25T02:25:13.494534Z",
     "start_time": "2017-09-25T02:25:13.473Z"
    },
    "collapsed": true
   },
   "outputs": [],
   "source": [
    "fig,ax = pl.subplots(1,1,figsize=(15,6))\n",
    "f_hat=(theta_hat[:-1]*X).sum(axis=1)\n",
    "\n",
    "ax.plot(tt,ff,'r.',label='raw')\n",
    "ax.plot(tt,f_hat,'b.',label='model')\n",
    "ax.legend()"
   ]
  },
  {
   "cell_type": "code",
   "execution_count": null,
   "metadata": {
    "ExecuteTime": {
     "end_time": "2017-09-25T02:25:13.501770Z",
     "start_time": "2017-09-25T02:25:13.477Z"
    },
    "collapsed": true
   },
   "outputs": [],
   "source": [
    "fig = plt.figure(figsize=(12,3))\n",
    "for i in range(ndim):\n",
    "    plt.subplot(1,len(labels),i+1)\n",
    "    plt.hist(trace[:,i], 10, histtype=\"step\")\n",
    "    yl = plt.ylim()\n",
    "    #plt.vlines(theta_true[i], yl[0], yl[1], color='blue', lw=3, alpha=0.25, label='true')\n",
    "    #plt.title(\"{}\".format(labels[i]))\n",
    "    plt.legend()"
   ]
  },
  {
   "cell_type": "code",
   "execution_count": null,
   "metadata": {
    "collapsed": true
   },
   "outputs": [],
   "source": []
  },
  {
   "cell_type": "code",
   "execution_count": null,
   "metadata": {
    "collapsed": true
   },
   "outputs": [],
   "source": []
  },
  {
   "cell_type": "code",
   "execution_count": null,
   "metadata": {
    "collapsed": true
   },
   "outputs": [],
   "source": []
  },
  {
   "cell_type": "code",
   "execution_count": null,
   "metadata": {
    "collapsed": true
   },
   "outputs": [],
   "source": []
  },
  {
   "cell_type": "code",
   "execution_count": null,
   "metadata": {
    "collapsed": true
   },
   "outputs": [],
   "source": []
  },
  {
   "cell_type": "code",
   "execution_count": null,
   "metadata": {
    "collapsed": true
   },
   "outputs": [],
   "source": []
  },
  {
   "cell_type": "code",
   "execution_count": null,
   "metadata": {
    "ExecuteTime": {
     "end_time": "2017-09-25T02:25:13.508324Z",
     "start_time": "2017-09-25T02:25:13.498Z"
    },
    "collapsed": true
   },
   "outputs": [],
   "source": [
    "#get out of transit lc\n",
    "def get_tns(t, p, t0):\n",
    "\n",
    "    idx = t != 0\n",
    "    t = t[idx]\n",
    "\n",
    "    while t0-p > t.min():\n",
    "        t0 -= p\n",
    "    if t0 < t.min():\n",
    "        t0 += p\n",
    "\n",
    "    tns = [t0+p*i for i in range(int((t.max()-t0)/p+1))]\n",
    "\n",
    "    while tns[-1] > t.max():\n",
    "        tns.pop()\n",
    "\n",
    "    while tns[0] < t.min():\n",
    "        tns = tns[1:]\n",
    "\n",
    "    return tns"
   ]
  },
  {
   "cell_type": "code",
   "execution_count": null,
   "metadata": {
    "ExecuteTime": {
     "end_time": "2017-09-25T02:25:13.514671Z",
     "start_time": "2017-09-25T02:25:13.502Z"
    },
    "collapsed": true
   },
   "outputs": [],
   "source": [
    "#get period\n",
    "from astropy.stats import LombScargle\n",
    "\n",
    "frequency, power = LombScargle(t, f).autopower(nyquist_factor=10,\n",
    "                                                minimum_frequency=0.1,\n",
    "                                                maximum_frequency=3)"
   ]
  },
  {
   "cell_type": "code",
   "execution_count": null,
   "metadata": {
    "ExecuteTime": {
     "end_time": "2017-09-25T02:25:13.521707Z",
     "start_time": "2017-09-25T02:25:13.505Z"
    },
    "collapsed": true
   },
   "outputs": [],
   "source": [
    "idx1 = frequency > 1\n",
    "idx2 = np.argmax(power[idx1])\n",
    "peak = 1./frequency[idx1][idx2]\n",
    "\n",
    "fig, ax = plt.subplots(1,1,figsize=(15,5))\n",
    "ax.plot(1./frequency, power, '-',label='y')\n",
    "\n",
    "ax.set(xlim=(0.5, 3),\n",
    "#         , ylim=(0, 0.01),\n",
    "   xlabel='period (days)',\n",
    "   ylabel='Lomb-Scargle Power')\n",
    "ax.vlines(peak, *ax.get_ylim(), linestyles='dotted', colors='r')\n",
    "ax.legend()\n",
    "\n",
    "print(peak)"
   ]
  },
  {
   "cell_type": "code",
   "execution_count": null,
   "metadata": {
    "ExecuteTime": {
     "end_time": "2017-09-25T02:25:13.526680Z",
     "start_time": "2017-09-25T02:25:13.510Z"
    },
    "collapsed": true
   },
   "outputs": [],
   "source": [
    "2*peak"
   ]
  },
  {
   "cell_type": "code",
   "execution_count": null,
   "metadata": {
    "ExecuteTime": {
     "end_time": "2017-09-25T02:25:13.532183Z",
     "start_time": "2017-09-25T02:25:13.513Z"
    },
    "collapsed": true
   },
   "outputs": [],
   "source": [
    "p=1.7555 #2*peak\n",
    "t0=3074\n",
    "\n",
    "tns=get_tns(t, p, t0)"
   ]
  },
  {
   "cell_type": "code",
   "execution_count": null,
   "metadata": {
    "ExecuteTime": {
     "end_time": "2017-09-25T02:25:13.539668Z",
     "start_time": "2017-09-25T02:25:13.517Z"
    },
    "collapsed": true
   },
   "outputs": [],
   "source": [
    "#get out of transit lc\n",
    "\n",
    "intransit = np.zeros_like(t).astype(bool)\n",
    "t14=0.1\n",
    "\n",
    "for tn in tns:\n",
    "    idx = (t > tn - t14/2.) & (t < tn + t14/2.)\n",
    "    intransit = np.logical_or(intransit, idx)\n",
    "    \n",
    "fig, ax = pl.subplots(1,1,figsize=(15,3))\n",
    "ax.plot(t[~intransit], f[~intransit], '.')"
   ]
  },
  {
   "cell_type": "code",
   "execution_count": null,
   "metadata": {
    "ExecuteTime": {
     "end_time": "2017-09-25T02:25:13.544641Z",
     "start_time": "2017-09-25T02:25:13.521Z"
    },
    "collapsed": true
   },
   "outputs": [],
   "source": [
    "#fit spline\n",
    "\n",
    "from scipy.interpolate import Rbf\n",
    "rbfi = Rbf(t[~intransit], f[~intransit], function='quintic', smooth=100)\n",
    "\n",
    "fig, ax = pl.subplots(1,1,figsize=(15,3))\n",
    "ax.plot(t[~intransit], f[~intransit], '.')\n",
    "ax.plot(t, rbfi(t), 'r-')"
   ]
  },
  {
   "cell_type": "code",
   "execution_count": null,
   "metadata": {
    "ExecuteTime": {
     "end_time": "2017-09-25T02:25:13.550623Z",
     "start_time": "2017-09-25T02:25:13.525Z"
    },
    "collapsed": true
   },
   "outputs": [],
   "source": [
    "#detrended out of transit lc\n",
    "\n",
    "fig, ax = pl.subplots(1,1,figsize=(15,3))\n",
    "\n",
    "y_cs=f - rbfi(t) + 1.0\n",
    "# ax.plot(t, y_cs, '.-', alpha=0.5)\n",
    "# ax.set_ylim(0.98,1.01)\n",
    "pl.plot(t[~intransit],y_cs[~intransit],'.-', alpha=0.5 )\n",
    "ax.set_ylim(0.98,1.01)"
   ]
  },
  {
   "cell_type": "code",
   "execution_count": null,
   "metadata": {
    "collapsed": true
   },
   "outputs": [],
   "source": []
  },
  {
   "cell_type": "code",
   "execution_count": null,
   "metadata": {
    "collapsed": true
   },
   "outputs": [],
   "source": []
  },
  {
   "cell_type": "code",
   "execution_count": null,
   "metadata": {
    "collapsed": true
   },
   "outputs": [],
   "source": []
  },
  {
   "cell_type": "code",
   "execution_count": null,
   "metadata": {
    "collapsed": true
   },
   "outputs": [],
   "source": []
  },
  {
   "cell_type": "code",
   "execution_count": null,
   "metadata": {
    "collapsed": true
   },
   "outputs": [],
   "source": []
  },
  {
   "cell_type": "code",
   "execution_count": null,
   "metadata": {
    "collapsed": true
   },
   "outputs": [],
   "source": []
  },
  {
   "cell_type": "code",
   "execution_count": null,
   "metadata": {
    "collapsed": true
   },
   "outputs": [],
   "source": []
  },
  {
   "cell_type": "code",
   "execution_count": null,
   "metadata": {
    "collapsed": true
   },
   "outputs": [],
   "source": []
  },
  {
   "cell_type": "code",
   "execution_count": null,
   "metadata": {
    "collapsed": true
   },
   "outputs": [],
   "source": []
  },
  {
   "cell_type": "code",
   "execution_count": null,
   "metadata": {
    "collapsed": true
   },
   "outputs": [],
   "source": []
  },
  {
   "cell_type": "code",
   "execution_count": null,
   "metadata": {
    "collapsed": true
   },
   "outputs": [],
   "source": []
  },
  {
   "cell_type": "code",
   "execution_count": null,
   "metadata": {
    "collapsed": true
   },
   "outputs": [],
   "source": []
  },
  {
   "cell_type": "code",
   "execution_count": null,
   "metadata": {
    "collapsed": true
   },
   "outputs": [],
   "source": []
  },
  {
   "cell_type": "code",
   "execution_count": null,
   "metadata": {
    "collapsed": true
   },
   "outputs": [],
   "source": []
  },
  {
   "cell_type": "code",
   "execution_count": null,
   "metadata": {
    "ExecuteTime": {
     "end_time": "2017-09-25T02:25:13.564424Z",
     "start_time": "2017-09-25T02:25:13.561Z"
    },
    "collapsed": true
   },
   "outputs": [],
   "source": [
    "def get_tns(t, p, t0):\n",
    "\n",
    "    idx = t != 0\n",
    "    t = t[idx]\n",
    "\n",
    "    while t0-p > t.min():\n",
    "        t0 -= p\n",
    "    if t0 < t.min():\n",
    "        t0 += p\n",
    "\n",
    "    tns = [t0+p*i for i in range(int((t.max()-t0)/p+1))]\n",
    "\n",
    "    while tns[-1] > t.max():\n",
    "        tns.pop()\n",
    "\n",
    "    while tns[0] < t.min():\n",
    "        tns = tns[1:]\n",
    "\n",
    "    return tns\n",
    "\n",
    "\n",
    "def extract_individual(star, p, t0, width=1):\n",
    "\n",
    "    t, f = star.time, star.flux\n",
    "    idx = np.isfinite(t) & np.isfinite(f)\n",
    "    t, f = t[idx], f[idx]\n",
    "\n",
    "    tns =  get_tns(t, p, t0)\n",
    "\n",
    "    transits = []\n",
    "    for i,tn in enumerate(tns):\n",
    "        idx = (t > tn - width/2.) & (t < tn + width/2.)\n",
    "        if idx.sum() == 0:\n",
    "            continue\n",
    "        ti = t[idx].tolist()\n",
    "        fi = f[idx].tolist()\n",
    "        transits.append((ti,fi))\n",
    "\n",
    "    return transits\n",
    "\n",
    "def fold(t, f, p, t0, width=0.4, clip=False, bl=False, t14=0.2):\n",
    "    tns = get_tns(t, p, t0)\n",
    "    tf, ff = np.empty(0), np.empty(0)\n",
    "    for i,tn in enumerate(tns):\n",
    "        idx = (t > tn - width/2.) & (t < tn + width/2.)\n",
    "        ti = t[idx]-tn\n",
    "        fi = f[idx]\n",
    "        fi /= np.nanmedian(fi)\n",
    "        if bl:\n",
    "            idx = (ti < -t14/2.) | (ti > t14/2.)\n",
    "            assert np.isfinite(ti[idx]).all() & np.isfinite(fi[idx]).all()\n",
    "            assert idx.sum() > 0\n",
    "            try:\n",
    "                res = sm.RLM(fi[idx], sm.add_constant(ti[idx])).fit()\n",
    "                if np.abs(res.params[1]) > 1e-2:\n",
    "                    print('bad data probably causing poor fit')\n",
    "                    print('transit {} baseline params: {}'.format(i, res.params))\n",
    "                    continue\n",
    "                model = res.params[0] + res.params[1] * ti\n",
    "                fi = fi - model + 1\n",
    "            except:\n",
    "                print(\"error computing baseline for transit {}\".format(i))\n",
    "                print(\"num. points: {}\".format(idx.sum()))\n",
    "                print(ti)\n",
    "        tf = np.append(tf, ti)\n",
    "        ff = np.append(ff, fi / np.nanmedian(fi))\n",
    "    idx = np.argsort(tf)\n",
    "    tf = tf[idx]\n",
    "    ff = ff[idx]\n",
    "    if clip:\n",
    "        fc = sigma_clip(ff, sigma_lower=10, sigma_upper=2)\n",
    "        tf, ff = tf[~fc.mask], ff[~fc.mask]\n",
    "    return tf, ff"
   ]
  },
  {
   "cell_type": "code",
   "execution_count": null,
   "metadata": {
    "ExecuteTime": {
     "end_time": "2017-09-25T02:25:13.568414Z",
     "start_time": "2017-09-25T02:25:13.564Z"
    },
    "collapsed": true
   },
   "outputs": [],
   "source": [
    "t,f=df.t, df.f_mask#df.fmed\n",
    "\n",
    "p=1.7555\n",
    "t0=3074\n",
    "tns=get_tns(t, p, t0)"
   ]
  },
  {
   "cell_type": "code",
   "execution_count": null,
   "metadata": {
    "ExecuteTime": {
     "end_time": "2017-09-25T02:25:13.574203Z",
     "start_time": "2017-09-25T02:25:13.569Z"
    },
    "collapsed": true
   },
   "outputs": [],
   "source": [
    "fig, ax = pl.subplots(1,1,figsize=(15,3))\n",
    "ax.plot(t, f, '.')\n",
    "ax.vlines(tns, 0.98, 0.99)"
   ]
  },
  {
   "cell_type": "code",
   "execution_count": null,
   "metadata": {
    "ExecuteTime": {
     "end_time": "2017-09-25T02:25:13.576695Z",
     "start_time": "2017-09-25T02:25:13.573Z"
    },
    "collapsed": true
   },
   "outputs": [],
   "source": [
    "intransit = np.zeros_like(t).astype(bool)\n",
    "t14=0.1\n",
    "\n",
    "for tn in tns:\n",
    "    idx = (t > tn - t14/2.) & (t < tn + t14/2.)\n",
    "    intransit = np.logical_or(intransit, idx)\n",
    "    \n",
    "fig, ax = pl.subplots(1,1,figsize=(15,3))\n",
    "ax.plot(t[~intransit], f[~intransit], '.')"
   ]
  },
  {
   "cell_type": "code",
   "execution_count": null,
   "metadata": {
    "ExecuteTime": {
     "end_time": "2017-09-25T02:25:13.587317Z",
     "start_time": "2017-09-25T02:25:13.576Z"
    },
    "collapsed": true
   },
   "outputs": [],
   "source": [
    "t=pd.DataFrame({'t':t,'f':f}).dropna()['t']\n",
    "f=pd.DataFrame({'t':t,'f':f}).dropna()['f']\n",
    "\n",
    "#t, f = tf[~fc.mask], ff[~fc.mask]"
   ]
  },
  {
   "cell_type": "code",
   "execution_count": null,
   "metadata": {
    "ExecuteTime": {
     "end_time": "2017-09-25T02:25:13.589960Z",
     "start_time": "2017-09-25T02:25:13.581Z"
    },
    "collapsed": true
   },
   "outputs": [],
   "source": [
    "from scipy.interpolate import Rbf\n",
    "rbfi = Rbf(t[~intransit], f[~intransit], function='quintic', smooth=100)\n",
    "\n",
    "fig, ax = pl.subplots(1,1,figsize=(15,3))\n",
    "ax.plot(t[~intransit], f[~intransit], '.')\n",
    "ax.plot(t, rbfi(t), 'r-')"
   ]
  },
  {
   "cell_type": "code",
   "execution_count": null,
   "metadata": {
    "ExecuteTime": {
     "end_time": "2017-09-25T02:25:13.592076Z",
     "start_time": "2017-09-25T02:25:13.584Z"
    },
    "collapsed": true
   },
   "outputs": [],
   "source": [
    "fig, ax = pl.subplots(1,1,figsize=(15,3))\n",
    "ax.plot(t, f - rbfi(t) + 1.0, '.-', alpha=0.5)\n",
    "ax.set_ylim(0.98,1.01)"
   ]
  },
  {
   "cell_type": "code",
   "execution_count": null,
   "metadata": {
    "ExecuteTime": {
     "end_time": "2017-09-25T02:25:13.597720Z",
     "start_time": "2017-09-25T02:25:13.587Z"
    },
    "collapsed": true
   },
   "outputs": [],
   "source": [
    "fig, ax = pl.subplots(1,1,figsize=(15,3))\n",
    "ax.plot(t, f - rbfi(t) + 1.0, '.-', alpha=0.5)\n",
    "ax.set_ylim(0.98,1.01)"
   ]
  },
  {
   "cell_type": "code",
   "execution_count": null,
   "metadata": {
    "ExecuteTime": {
     "end_time": "2017-09-25T02:25:13.603164Z",
     "start_time": "2017-09-25T02:25:13.590Z"
    },
    "collapsed": true
   },
   "outputs": [],
   "source": [
    "from gatspy.periodic import LombScargleFast\n",
    "\n",
    "#t,f=df.t, df.f\n",
    "model = LombScargleFast().fit(t, f - rbfi(t) + 1.0)\n",
    "periods, power = model.periodogram_auto(nyquist_factor=100)"
   ]
  },
  {
   "cell_type": "code",
   "execution_count": null,
   "metadata": {
    "ExecuteTime": {
     "end_time": "2017-09-25T02:25:13.605583Z",
     "start_time": "2017-09-25T02:25:13.595Z"
    },
    "collapsed": true
   },
   "outputs": [],
   "source": [
    "periods[periods > 1][np.argmax(power[periods > 1])]"
   ]
  },
  {
   "cell_type": "code",
   "execution_count": null,
   "metadata": {
    "ExecuteTime": {
     "end_time": "2017-09-25T02:25:13.609558Z",
     "start_time": "2017-09-25T02:25:13.599Z"
    },
    "collapsed": true
   },
   "outputs": [],
   "source": [
    "#get positive periods\n",
    "idx1 = periods > 1\n",
    "#\n",
    "idx2 = np.argmax(power[idx1])\n",
    "peak = periods[idx1][idx2]\n",
    "\n",
    "fig, ax = plt.subplots(1,1,figsize=(15,5))\n",
    "ax.plot(periods, power, 'k-')\n",
    "ax.set(xlim=(0.5, 3),\n",
    "#         , ylim=(0, 0.01),\n",
    "   xlabel='period (days)',\n",
    "   ylabel='Lomb-Scargle Power')\n",
    "ax.vlines(peak, *ax.get_ylim(), linestyles='dotted', colors='r')\n",
    "\n",
    "print(peak)"
   ]
  },
  {
   "cell_type": "markdown",
   "metadata": {},
   "source": [
    "Using GP"
   ]
  },
  {
   "cell_type": "code",
   "execution_count": null,
   "metadata": {
    "ExecuteTime": {
     "end_time": "2017-09-25T02:25:13.615328Z",
     "start_time": "2017-09-25T02:25:13.606Z"
    },
    "collapsed": true,
    "scrolled": true
   },
   "outputs": [],
   "source": [
    "import george\n",
    "\n",
    "george.__version__"
   ]
  },
  {
   "cell_type": "raw",
   "metadata": {
    "ExecuteTime": {
     "end_time": "2017-09-20T01:25:00.691176Z",
     "start_time": "2017-09-20T01:25:00.684181Z"
    }
   },
   "source": [
    "np.correlate(df.x,df.f)"
   ]
  },
  {
   "cell_type": "code",
   "execution_count": 2,
   "metadata": {
    "ExecuteTime": {
     "end_time": "2017-09-25T02:25:13.704286Z",
     "start_time": "2017-09-25T02:25:13.689696Z"
    }
   },
   "outputs": [
    {
     "ename": "NameError",
     "evalue": "name 'pl' is not defined",
     "output_type": "error",
     "traceback": [
      "\u001b[0;31m---------------------------------------------------------------------------\u001b[0m",
      "\u001b[0;31mNameError\u001b[0m                                 Traceback (most recent call last)",
      "\u001b[0;32m<ipython-input-2-586b9479e4ec>\u001b[0m in \u001b[0;36m<module>\u001b[0;34m()\u001b[0m\n\u001b[0;32m----> 1\u001b[0;31m \u001b[0mpl\u001b[0m\u001b[0;34m.\u001b[0m\u001b[0mplot\u001b[0m\u001b[0;34m(\u001b[0m\u001b[0mdf\u001b[0m\u001b[0;34m.\u001b[0m\u001b[0mx\u001b[0m\u001b[0;34m,\u001b[0m\u001b[0mdf\u001b[0m\u001b[0;34m.\u001b[0m\u001b[0mf\u001b[0m\u001b[0;34m,\u001b[0m\u001b[0;34m'bo'\u001b[0m\u001b[0;34m)\u001b[0m\u001b[0;34m\u001b[0m\u001b[0m\n\u001b[0m",
      "\u001b[0;31mNameError\u001b[0m: name 'pl' is not defined"
     ]
    }
   ],
   "source": [
    "pl.plot(df.x,df.f,'bo')"
   ]
  },
  {
   "cell_type": "code",
   "execution_count": null,
   "metadata": {
    "ExecuteTime": {
     "end_time": "2017-09-25T02:25:13.705439Z",
     "start_time": "2017-09-25T02:25:13.687Z"
    },
    "collapsed": true
   },
   "outputs": [],
   "source": [
    "from george.kernels import ExpSquaredKernel\n",
    "\n",
    "kernel = ExpSquaredKernel(1.0)\n",
    "gp = george.GP(kernel)\n",
    "\n",
    "fc/=np.median(fc)\n",
    "gp.compute(tc, np.nanstd(fc))\n",
    "\n",
    "# Compute the log likelihood.\n",
    "print(gp.lnlikelihood(fc))"
   ]
  },
  {
   "cell_type": "code",
   "execution_count": null,
   "metadata": {
    "ExecuteTime": {
     "end_time": "2017-09-25T02:25:13.707250Z",
     "start_time": "2017-09-25T02:25:13.692Z"
    },
    "collapsed": true
   },
   "outputs": [],
   "source": [
    "mu, cov = gp.predict(fc,tc)\n",
    "std = np.sqrt(np.diag(cov))"
   ]
  },
  {
   "cell_type": "code",
   "execution_count": null,
   "metadata": {
    "ExecuteTime": {
     "end_time": "2017-09-25T02:25:13.716390Z",
     "start_time": "2017-09-25T02:25:13.697Z"
    },
    "collapsed": true
   },
   "outputs": [],
   "source": [
    "fig, ax = pl.subplots(1,1,figsize=(15,3))\n",
    "ax.plot(tc,fc)\n",
    "ax.plot(tc,mu,'r-',lw=3)\n",
    "ax.fill_between(tc, mu-std,mu+std, color='r', alpha=0.01)"
   ]
  },
  {
   "cell_type": "code",
   "execution_count": null,
   "metadata": {
    "ExecuteTime": {
     "end_time": "2017-09-25T02:25:13.725433Z",
     "start_time": "2017-09-25T02:25:13.703Z"
    },
    "collapsed": true
   },
   "outputs": [],
   "source": [
    "fig, ax = pl.subplots(1,1,figsize=(15,3))\n",
    "ax.plot(t,fc-mu + 1.0,'r-',lw=2)\n",
    "\n",
    "n=1\n",
    "ax.fill_between(t, fc-mu-n*std+1.0,fc-mu+n*std+1.0, color='k', alpha=0.3)\n",
    "ax.set_ylim(0.98,1.01)"
   ]
  },
  {
   "cell_type": "code",
   "execution_count": null,
   "metadata": {
    "ExecuteTime": {
     "end_time": "2017-09-25T02:25:13.734210Z",
     "start_time": "2017-09-25T02:25:13.708Z"
    },
    "collapsed": true
   },
   "outputs": [],
   "source": [
    "#periodogram peak\n",
    "tf, ff = fold(t, f, peak, t0, width=0.5, clip=False, bl=False, t14=t14)\n",
    "\n",
    "fig, ax = plt.subplots(1,1,figsize=(15,5))\n",
    "ax.plot(tf, ff, '.')"
   ]
  },
  {
   "cell_type": "code",
   "execution_count": null,
   "metadata": {
    "ExecuteTime": {
     "end_time": "2017-09-25T02:25:13.739545Z",
     "start_time": "2017-09-25T02:25:13.713Z"
    },
    "collapsed": true
   },
   "outputs": [],
   "source": [
    "#guess\n",
    "p=1.7555\n",
    "tf, ff = fold(t, f, p, t0, width=0.5, clip=False, bl=False, t14=t14)\n",
    "\n",
    "fig, ax = plt.subplots(1,1,figsize=(15,5))\n",
    "ax.plot(tf, ff, '.')"
   ]
  },
  {
   "cell_type": "code",
   "execution_count": null,
   "metadata": {
    "ExecuteTime": {
     "end_time": "2017-09-25T02:25:13.748540Z",
     "start_time": "2017-09-25T02:25:13.718Z"
    },
    "collapsed": true
   },
   "outputs": [],
   "source": [
    "from pytransit import MandelAgol\n",
    "\n",
    "MA = MandelAgol()\n",
    "\n",
    "def model(theta, t):\n",
    "    \n",
    "    k,t0,p,a,i,u1,u2,_,_,_,_,_ = theta\n",
    "    model = MA.evaluate(t, k, (u1,u2), t0, p, a, i)\n",
    "    \n",
    "    return model\n",
    "\n",
    "def model_s(theta, xcenter, ycenter, t):\n",
    "    offset = np.ones(len(t))\n",
    "    s = (np.array(theta)*np.c_[xcenter, ycenter, offset, t]).sum(axis=1)\n",
    "    return s\n",
    "\n",
    "def baseline(theta, t):\n",
    "    ti = t - t.mean()\n",
    "    c0,c1,c2,c3 = theta[-4:]\n",
    "    return c0 + c1 * ti + c2 * ti**2 + c3 * ti**3\n",
    "    \n",
    "    \n",
    "def lnlike(theta, t, f):\n",
    "    \n",
    "    k,t0,p,a,i,u1,u2,sig,c0,c1,c2,c3 = theta\n",
    "    m = model(theta, t) + baseline(theta, t)\n",
    "    resid = f - m\n",
    "    inv_sigma2 = 1.0/(sig**2)\n",
    "\n",
    "    return -0.5*(np.sum((resid)**2*inv_sigma2 - np.log(inv_sigma2)))\n",
    "\n",
    "\n",
    "def lnprob(theta, t, f):\n",
    "    \n",
    "    if np.any(theta[:-4] < 0):\n",
    "        return -np.inf\n",
    "    if theta[4] > np.pi/2.:\n",
    "        return -np.inf\n",
    "\n",
    "    ll = lnlike(theta, t, f)\n",
    "    return ll if np.isfinite(ll) else -np.inf\n",
    "\n",
    "\n",
    "def scaled_a(p, t14, k, i=np.pi/2.):\n",
    "    numer = np.sqrt( (k + 1) ** 2 )\n",
    "    denom = np.sin(i) * np.sin(t14 * np.pi / p)\n",
    "    return float(numer / denom)"
   ]
  },
  {
   "cell_type": "code",
   "execution_count": null,
   "metadata": {
    "ExecuteTime": {
     "end_time": "2017-09-25T02:25:13.754079Z",
     "start_time": "2017-09-25T02:25:13.722Z"
    },
    "collapsed": true
   },
   "outputs": [],
   "source": [
    "m=model_s([1,1,1,1], df.x, df.y, df.t)\n",
    "plt.plot(df.t,m)"
   ]
  },
  {
   "cell_type": "code",
   "execution_count": null,
   "metadata": {
    "ExecuteTime": {
     "end_time": "2017-09-25T02:25:13.761970Z",
     "start_time": "2017-09-25T02:25:13.725Z"
    },
    "collapsed": true
   },
   "outputs": [],
   "source": [
    "len(xc)"
   ]
  },
  {
   "cell_type": "code",
   "execution_count": null,
   "metadata": {
    "ExecuteTime": {
     "end_time": "2017-09-25T02:25:13.767453Z",
     "start_time": "2017-09-25T02:25:13.728Z"
    },
    "collapsed": true
   },
   "outputs": [],
   "source": [
    "len(yc)"
   ]
  },
  {
   "cell_type": "code",
   "execution_count": null,
   "metadata": {
    "ExecuteTime": {
     "end_time": "2017-09-25T02:25:13.775663Z",
     "start_time": "2017-09-25T02:25:13.731Z"
    },
    "collapsed": true
   },
   "outputs": [],
   "source": [
    "len(fc)"
   ]
  },
  {
   "cell_type": "code",
   "execution_count": null,
   "metadata": {
    "ExecuteTime": {
     "end_time": "2017-09-25T02:25:13.780999Z",
     "start_time": "2017-09-25T02:25:13.736Z"
    },
    "collapsed": true
   },
   "outputs": [],
   "source": [
    "len(tc)"
   ]
  },
  {
   "cell_type": "raw",
   "metadata": {
    "ExecuteTime": {
     "end_time": "2017-09-19T13:49:22.865141Z",
     "start_time": "2017-09-19T13:49:22.827869Z"
    }
   },
   "source": [
    "#systematics\n",
    "import scipy.optimize as op\n",
    "\n",
    "initial=[0,0,0,0]\n",
    "args=(df.x, df.y, df.t)\n",
    "\n",
    "opt = op.minimize(model_s, initial, args=args, method='nelder-mead')\n",
    "print(opt.success)\n",
    "print(opt.x)"
   ]
  },
  {
   "cell_type": "code",
   "execution_count": null,
   "metadata": {
    "ExecuteTime": {
     "end_time": "2017-09-25T02:25:13.797566Z",
     "start_time": "2017-09-25T02:25:13.795Z"
    },
    "collapsed": true
   },
   "outputs": [],
   "source": [
    "p=1.7555\n",
    "t0=3074\n",
    "t14 = 0.5\n",
    "k = np.sqrt(1-0.985)\n",
    "i = np.pi/2.\n",
    "a = scaled_a(p, t14, k, i)\n",
    "u1, u2 = 0.2, 0.2\n",
    "sig = f.std()\n",
    "lna = 1e-1\n",
    "lntau = 1\n",
    "initial = [k,t0,p,a,i,u1,u2,sig,0,0,0,0]\n",
    "args = (t, f)\n",
    "\n",
    "nlp = lambda *args: -lnprob(*args)\n",
    "\n",
    "import scipy.optimize as op\n",
    "\n",
    "opt = op.minimize(nlp, initial, args=args, method='nelder-mead')\n",
    "print(opt.success)\n",
    "print(opt.x)"
   ]
  },
  {
   "cell_type": "code",
   "execution_count": null,
   "metadata": {
    "ExecuteTime": {
     "end_time": "2017-09-25T02:25:13.805625Z",
     "start_time": "2017-09-25T02:25:13.798Z"
    },
    "collapsed": true
   },
   "outputs": [],
   "source": [
    "opt.x[1], opt.x[2]"
   ]
  },
  {
   "cell_type": "code",
   "execution_count": null,
   "metadata": {
    "ExecuteTime": {
     "end_time": "2017-09-25T02:25:13.807614Z",
     "start_time": "2017-09-25T02:25:13.803Z"
    },
    "collapsed": true
   },
   "outputs": [],
   "source": [
    "t0, p = opt.x[1], opt.x[2]\n",
    "\n",
    "tf, ff = fold(t, f, p, t0)\n",
    "ff /= np.median(ff)\n",
    "\n",
    "fig, ax = plt.subplots(1,1,figsize=(15,5))\n",
    "ax.plot(tf, ff, '.')\n",
    "plt.xlabel('Phase')\n",
    "plt.ylabel('Normalized Flux')"
   ]
  },
  {
   "cell_type": "markdown",
   "metadata": {},
   "source": [
    "Worse results. Stick to guessed period."
   ]
  },
  {
   "cell_type": "raw",
   "metadata": {
    "ExecuteTime": {
     "end_time": "2017-09-18T22:29:27.489603Z",
     "start_time": "2017-09-18T22:23:55.206000Z"
    }
   },
   "source": [
    "from emcee import EnsembleSampler\n",
    "from emcee.utils import sample_ball\n",
    "from tqdm import tqdm\n",
    "\n",
    "# initial = opt.x\n",
    "\n",
    "ndim = len(initial)\n",
    "nwalkers = 8 * ndim\n",
    "nsteps1 = 1000\n",
    "nsteps2 = 2000\n",
    "\n",
    "sampler = EnsembleSampler(nwalkers, ndim, lnprob, args=args, threads=1)\n",
    "pos0 = sample_ball(initial, [1e-1]*ndim, nwalkers)\n",
    "\n",
    "width = 30\n",
    "print(\"\\nstage 1\")\n",
    "\n",
    "for pos,_,_ in tqdm(sampler.sample(pos0, iterations=nsteps1)):\n",
    "    pass\n",
    "\n",
    "#     n = int((width+1) * float(i) / nsteps1)\n",
    "#     sys.stdout.write(\"\\r[{0}{1}]\".format('#' * n, ' ' * (width - n)))"
   ]
  },
  {
   "cell_type": "raw",
   "metadata": {
    "ExecuteTime": {
     "end_time": "2017-09-18T22:29:27.500057Z",
     "start_time": "2017-09-18T22:29:27.493470Z"
    }
   },
   "source": [
    "sampler.chain.shape"
   ]
  },
  {
   "cell_type": "raw",
   "metadata": {
    "ExecuteTime": {
     "end_time": "2017-09-18T22:47:31.480955Z",
     "start_time": "2017-09-18T22:32:54.806826Z"
    }
   },
   "source": [
    "print(\"\\nstage 2\")\n",
    "idx = np.argmax(sampler.lnprobability)\n",
    "best = sampler.flatchain[idx]\n",
    "pos0 = sample_ball(best, [1e-5]*ndim, nwalkers)\n",
    "sampler.reset()\n",
    "\n",
    "for pos,_,_ in tqdm(sampler.sample(pos0, iterations=nsteps2)):\n",
    "    pass\n",
    "#     n = int((width+1) * float(i) / nsteps2)\n",
    "#     sys.stdout.write(\"\\r[{0}{1}]\".format('#' * n, ' ' * (width - n)))"
   ]
  },
  {
   "cell_type": "raw",
   "metadata": {
    "ExecuteTime": {
     "end_time": "2017-09-18T23:08:01.004655Z",
     "start_time": "2017-09-18T22:54:47.222139Z"
    }
   },
   "source": [
    "print(\"\\nstage 3\")\n",
    "sampler.reset()\n",
    "\n",
    "for post,lp,_ in tqdm(sampler.sample(pos, iterations=2000)):\n",
    "    pass\n",
    "#     n = int((width+1) * float(i) / nsteps2)\n",
    "#     sys.stdout.write(\"\\r[{0}{1}]\".format('#' * n, ' ' * (width - n)))"
   ]
  },
  {
   "cell_type": "raw",
   "metadata": {
    "ExecuteTime": {
     "end_time": "2017-09-18T23:08:01.516232Z",
     "start_time": "2017-09-18T23:08:01.007463Z"
    }
   },
   "source": [
    "#save gzip\n",
    "\n",
    "import gzip\n",
    "loc='output/'\n",
    "with gzip.GzipFile(os.path.join(loc,'chain.npy.gz'), \"w\") as g:\n",
    "    np.save(g, sampler.chain)\n",
    "#np.allclose(sample_chain.shape,chain.shape)"
   ]
  },
  {
   "cell_type": "code",
   "execution_count": 3,
   "metadata": {
    "ExecuteTime": {
     "end_time": "2017-09-25T02:25:14.075228Z",
     "start_time": "2017-09-25T02:25:14.048151Z"
    }
   },
   "outputs": [
    {
     "ename": "NameError",
     "evalue": "name 'os' is not defined",
     "output_type": "error",
     "traceback": [
      "\u001b[0;31m---------------------------------------------------------------------------\u001b[0m",
      "\u001b[0;31mNameError\u001b[0m                                 Traceback (most recent call last)",
      "\u001b[0;32m<ipython-input-3-bdd0ebac3980>\u001b[0m in \u001b[0;36m<module>\u001b[0;34m()\u001b[0m\n\u001b[1;32m      1\u001b[0m \u001b[0;32mimport\u001b[0m \u001b[0mgzip\u001b[0m\u001b[0;34m\u001b[0m\u001b[0m\n\u001b[1;32m      2\u001b[0m \u001b[0mloc\u001b[0m\u001b[0;34m=\u001b[0m\u001b[0;34m'output/'\u001b[0m\u001b[0;34m\u001b[0m\u001b[0m\n\u001b[0;32m----> 3\u001b[0;31m \u001b[0;32mwith\u001b[0m \u001b[0mgzip\u001b[0m\u001b[0;34m.\u001b[0m\u001b[0mGzipFile\u001b[0m\u001b[0;34m(\u001b[0m\u001b[0mos\u001b[0m\u001b[0;34m.\u001b[0m\u001b[0mpath\u001b[0m\u001b[0;34m.\u001b[0m\u001b[0mjoin\u001b[0m\u001b[0;34m(\u001b[0m\u001b[0mloc\u001b[0m\u001b[0;34m,\u001b[0m\u001b[0;34m'chain.npy.gz'\u001b[0m\u001b[0;34m)\u001b[0m\u001b[0;34m,\u001b[0m \u001b[0;34m\"r\"\u001b[0m\u001b[0;34m)\u001b[0m \u001b[0;32mas\u001b[0m \u001b[0mg\u001b[0m\u001b[0;34m:\u001b[0m\u001b[0;34m\u001b[0m\u001b[0m\n\u001b[0m\u001b[1;32m      4\u001b[0m     \u001b[0mchain\u001b[0m\u001b[0;34m=\u001b[0m\u001b[0mnp\u001b[0m\u001b[0;34m.\u001b[0m\u001b[0mload\u001b[0m\u001b[0;34m(\u001b[0m\u001b[0mg\u001b[0m\u001b[0;34m)\u001b[0m\u001b[0;34m\u001b[0m\u001b[0m\n",
      "\u001b[0;31mNameError\u001b[0m: name 'os' is not defined"
     ]
    }
   ],
   "source": [
    "import gzip\n",
    "loc='output/'\n",
    "with gzip.GzipFile(os.path.join(loc,'chain.npy.gz'), \"r\") as g:\n",
    "    chain=np.load(g)"
   ]
  },
  {
   "cell_type": "raw",
   "metadata": {
    "ExecuteTime": {
     "end_time": "2017-09-18T23:40:16.517506Z",
     "start_time": "2017-09-18T23:40:16.350030Z"
    }
   },
   "source": [
    "fig=plt.figure(figsize=(15,3))\n",
    "plt.plot(lp[::1], lw=1, alpha=0.5)"
   ]
  },
  {
   "cell_type": "code",
   "execution_count": 4,
   "metadata": {
    "ExecuteTime": {
     "end_time": "2017-09-25T02:25:14.132282Z",
     "start_time": "2017-09-25T02:25:14.104220Z"
    }
   },
   "outputs": [
    {
     "ename": "NameError",
     "evalue": "name 'initial' is not defined",
     "output_type": "error",
     "traceback": [
      "\u001b[0;31m---------------------------------------------------------------------------\u001b[0m",
      "\u001b[0;31mNameError\u001b[0m                                 Traceback (most recent call last)",
      "\u001b[0;32m<ipython-input-4-9e3e2a298257>\u001b[0m in \u001b[0;36m<module>\u001b[0;34m()\u001b[0m\n\u001b[1;32m      1\u001b[0m \u001b[0;31m#chain = sampler.chain\u001b[0m\u001b[0;34m\u001b[0m\u001b[0;34m\u001b[0m\u001b[0m\n\u001b[0;32m----> 2\u001b[0;31m \u001b[0mndim\u001b[0m \u001b[0;34m=\u001b[0m \u001b[0mlen\u001b[0m\u001b[0;34m(\u001b[0m\u001b[0minitial\u001b[0m\u001b[0;34m)\u001b[0m\u001b[0;34m\u001b[0m\u001b[0m\n\u001b[0m\u001b[1;32m      3\u001b[0m \u001b[0mnwalkers\u001b[0m \u001b[0;34m=\u001b[0m \u001b[0;36m8\u001b[0m \u001b[0;34m*\u001b[0m \u001b[0mndim\u001b[0m\u001b[0;34m\u001b[0m\u001b[0m\n\u001b[1;32m      4\u001b[0m \u001b[0;34m\u001b[0m\u001b[0m\n\u001b[1;32m      5\u001b[0m \u001b[0mlabels\u001b[0m \u001b[0;34m=\u001b[0m \u001b[0;34m[\u001b[0m\u001b[0;34m'${}$'\u001b[0m\u001b[0;34m.\u001b[0m\u001b[0mformat\u001b[0m\u001b[0;34m(\u001b[0m\u001b[0mi\u001b[0m\u001b[0;34m)\u001b[0m \u001b[0;32mfor\u001b[0m \u001b[0mi\u001b[0m \u001b[0;32min\u001b[0m \u001b[0;34mr'k,t_0,P,a,i,u_1,u_2,\\sigma,c_0,c_1,c_2,c_3'\u001b[0m\u001b[0;34m.\u001b[0m\u001b[0msplit\u001b[0m\u001b[0;34m(\u001b[0m\u001b[0;34m','\u001b[0m\u001b[0;34m)\u001b[0m\u001b[0;34m]\u001b[0m\u001b[0;34m\u001b[0m\u001b[0m\n",
      "\u001b[0;31mNameError\u001b[0m: name 'initial' is not defined"
     ]
    }
   ],
   "source": [
    "#chain = sampler.chain\n",
    "ndim = len(initial)\n",
    "nwalkers = 8 * ndim\n",
    "\n",
    "labels = ['${}$'.format(i) for i in r'k,t_0,P,a,i,u_1,u_2,\\sigma,c_0,c_1,c_2,c_3'.split(',')]\n",
    "\n",
    "fig, axs = pl.subplots(ndim, 1, figsize=(15,ndim), sharex=True)\n",
    "[axs.flat[i].plot(c, drawstyle='steps', color='k', alpha=4./nwalkers) for i,c in enumerate(chain.T)]\n",
    "for i,ax in enumerate(axs):\n",
    "    ax.set_ylabel(labels[i], fontsize=20)\n",
    "fig.tight_layout()"
   ]
  },
  {
   "cell_type": "code",
   "execution_count": null,
   "metadata": {
    "ExecuteTime": {
     "end_time": "2017-09-25T02:25:14.134844Z",
     "start_time": "2017-09-25T02:25:14.110Z"
    },
    "collapsed": true
   },
   "outputs": [],
   "source": [
    "burn = 1000\n",
    "thin = 1\n",
    "fc = chain[:,burn::thin,:].reshape([-1,chain.shape[-1]])\n",
    "\n",
    "param_names= 'k,t_0,P,a,i,u_1,u_2,\\sigma,c_0,c_1,c_2,c_3'.split(',')\n",
    "pd.set_option('display.precision',4)\n",
    "df = pd.DataFrame(data=fc.copy(), columns=param_names)\n",
    "df.describe()"
   ]
  },
  {
   "cell_type": "code",
   "execution_count": null,
   "metadata": {
    "ExecuteTime": {
     "end_time": "2017-09-25T02:25:14.137552Z",
     "start_time": "2017-09-25T02:25:14.115Z"
    },
    "collapsed": true,
    "scrolled": true
   },
   "outputs": [],
   "source": [
    "import corner\n",
    "\n",
    "hist_kwargs = dict(lw=2, alpha=0.5)\n",
    "title_kwargs = dict(fontdict=dict(fontsize=12))\n",
    "\n",
    "corner.corner(fc, \n",
    "              labels=labels,\n",
    "#                   truths=truths,\n",
    "              hist_kwargs=hist_kwargs,\n",
    "              title_kwargs=title_kwargs,\n",
    "              show_titles=True, \n",
    "              quantiles=[0.16,0.5,0.84],\n",
    "              title_fmt='.4f') #     fig.tight_layout()"
   ]
  },
  {
   "cell_type": "code",
   "execution_count": null,
   "metadata": {
    "ExecuteTime": {
     "end_time": "2017-09-25T02:25:14.139724Z",
     "start_time": "2017-09-25T02:25:14.120Z"
    },
    "collapsed": true
   },
   "outputs": [],
   "source": [
    "#sampling\n",
    "nsamples=100\n",
    "\n",
    "mod_best = [model(th, t) for th in fc[np.random.randint(0, fc.shape[0], size=nsamples)]]\n",
    "bl_best = [baseline(th, t) for th in fc[np.random.randint(0, fc.shape[0], size=nsamples)]]"
   ]
  },
  {
   "cell_type": "raw",
   "metadata": {
    "ExecuteTime": {
     "end_time": "2017-09-19T06:38:15.289116Z",
     "start_time": "2017-09-19T06:38:15.271610Z"
    }
   },
   "source": [
    "np.argmax(lp)"
   ]
  },
  {
   "cell_type": "code",
   "execution_count": null,
   "metadata": {
    "ExecuteTime": {
     "end_time": "2017-09-25T02:25:14.174957Z",
     "start_time": "2017-09-25T02:25:14.171Z"
    },
    "collapsed": true,
    "scrolled": true
   },
   "outputs": [],
   "source": [
    "med = np.median(fc, axis=0)\n",
    "t0 = med[1]\n",
    "p = med[2]\n",
    "\n",
    "tf, ff = fold(t, f, p, t0)\n",
    "ff /= np.median(ff)\n",
    "\n",
    "tm, fm = fold(t, mod_best[0], p, t0)\n",
    "fm /= np.median(fm)\n",
    "\n",
    "fig, ax = pl.subplots(1,1,figsize=(15,5))\n",
    "ax.plot(tf, ff, 'b.')\n",
    "ax.plot(tm, fm, 'r-')"
   ]
  },
  {
   "cell_type": "raw",
   "metadata": {
    "ExecuteTime": {
     "end_time": "2017-09-19T09:39:30.537091Z",
     "start_time": "2017-09-19T09:39:30.528837Z"
    }
   },
   "source": [
    "fc[np.argmax(lp)]"
   ]
  },
  {
   "cell_type": "code",
   "execution_count": null,
   "metadata": {
    "collapsed": true
   },
   "outputs": [],
   "source": []
  },
  {
   "cell_type": "code",
   "execution_count": null,
   "metadata": {
    "collapsed": true
   },
   "outputs": [],
   "source": []
  },
  {
   "cell_type": "code",
   "execution_count": null,
   "metadata": {
    "collapsed": true
   },
   "outputs": [],
   "source": []
  },
  {
   "cell_type": "code",
   "execution_count": null,
   "metadata": {
    "collapsed": true
   },
   "outputs": [],
   "source": []
  },
  {
   "cell_type": "code",
   "execution_count": null,
   "metadata": {
    "collapsed": true
   },
   "outputs": [],
   "source": []
  },
  {
   "cell_type": "code",
   "execution_count": null,
   "metadata": {
    "collapsed": true
   },
   "outputs": [],
   "source": []
  },
  {
   "cell_type": "markdown",
   "metadata": {},
   "source": [
    "## centroid detrended"
   ]
  },
  {
   "cell_type": "code",
   "execution_count": 5,
   "metadata": {
    "ExecuteTime": {
     "end_time": "2017-09-25T02:25:15.348259Z",
     "start_time": "2017-09-25T02:25:14.236922Z"
    }
   },
   "outputs": [
    {
     "ename": "NameError",
     "evalue": "name 'glob' is not defined",
     "output_type": "error",
     "traceback": [
      "\u001b[0;31m---------------------------------------------------------------------------\u001b[0m",
      "\u001b[0;31mNameError\u001b[0m                                 Traceback (most recent call last)",
      "\u001b[0;32m<ipython-input-5-55dcb2b441e2>\u001b[0m in \u001b[0;36m<module>\u001b[0;34m()\u001b[0m\n\u001b[1;32m      2\u001b[0m \u001b[0;32mfrom\u001b[0m \u001b[0mastropy\u001b[0m\u001b[0;34m.\u001b[0m\u001b[0mstats\u001b[0m \u001b[0;32mimport\u001b[0m \u001b[0msigma_clip\u001b[0m\u001b[0;34m\u001b[0m\u001b[0m\n\u001b[1;32m      3\u001b[0m \u001b[0;34m\u001b[0m\u001b[0m\n\u001b[0;32m----> 4\u001b[0;31m \u001b[0md\u001b[0m \u001b[0;34m=\u001b[0m \u001b[0mglob\u001b[0m\u001b[0;34m(\u001b[0m\u001b[0mos\u001b[0m\u001b[0;34m.\u001b[0m\u001b[0mpath\u001b[0m\u001b[0;34m.\u001b[0m\u001b[0mjoin\u001b[0m\u001b[0;34m(\u001b[0m\u001b[0mfolders\u001b[0m\u001b[0;34m[\u001b[0m\u001b[0;36m1\u001b[0m\u001b[0;34m]\u001b[0m\u001b[0;34m,\u001b[0m\u001b[0;34m'lcs/*.txt'\u001b[0m\u001b[0;34m)\u001b[0m\u001b[0;34m)\u001b[0m\u001b[0;34m[\u001b[0m\u001b[0;36m0\u001b[0m\u001b[0;34m]\u001b[0m\u001b[0;34m\u001b[0m\u001b[0m\n\u001b[0m\u001b[1;32m      5\u001b[0m \u001b[0mdf\u001b[0m \u001b[0;34m=\u001b[0m \u001b[0mpd\u001b[0m\u001b[0;34m.\u001b[0m\u001b[0mread_csv\u001b[0m\u001b[0;34m(\u001b[0m\u001b[0md\u001b[0m\u001b[0;34m,\u001b[0m \u001b[0mskiprows\u001b[0m\u001b[0;34m=\u001b[0m\u001b[0;36m1\u001b[0m\u001b[0;34m,\u001b[0m \u001b[0mdelimiter\u001b[0m\u001b[0;34m=\u001b[0m\u001b[0;34m' '\u001b[0m\u001b[0;34m,\u001b[0m \u001b[0mnames\u001b[0m\u001b[0;34m=\u001b[0m\u001b[0;34m[\u001b[0m\u001b[0;34m't'\u001b[0m\u001b[0;34m,\u001b[0m\u001b[0;34m'f'\u001b[0m\u001b[0;34m]\u001b[0m\u001b[0;34m)\u001b[0m\u001b[0;34m\u001b[0m\u001b[0m\n\u001b[1;32m      6\u001b[0m \u001b[0mf_\u001b[0m \u001b[0;34m=\u001b[0m \u001b[0msigma_clip\u001b[0m\u001b[0;34m(\u001b[0m\u001b[0mdf\u001b[0m\u001b[0;34m.\u001b[0m\u001b[0mf\u001b[0m\u001b[0;34m,\u001b[0m\u001b[0msigma\u001b[0m\u001b[0;34m=\u001b[0m\u001b[0;36m2\u001b[0m\u001b[0;34m)\u001b[0m\u001b[0;34m\u001b[0m\u001b[0m\n",
      "\u001b[0;31mNameError\u001b[0m: name 'glob' is not defined"
     ]
    }
   ],
   "source": [
    "import pandas as pd\n",
    "from astropy.stats import sigma_clip\n",
    "\n",
    "d = glob(os.path.join(folders[1],'lcs/*.txt'))[0]\n",
    "df = pd.read_csv(d, skiprows=1, delimiter=' ', names=['t','f'])\n",
    "f_ = sigma_clip(df.f,sigma=2)\n",
    "df['f_clip'] = f_"
   ]
  },
  {
   "cell_type": "code",
   "execution_count": null,
   "metadata": {
    "ExecuteTime": {
     "end_time": "2017-09-25T02:25:15.349645Z",
     "start_time": "2017-09-25T02:25:14.236Z"
    },
    "collapsed": true
   },
   "outputs": [],
   "source": [
    "import matplotlib.pyplot as plt\n",
    "%matplotlib inline\n",
    "plt.style.use('seaborn-white')\n",
    "\n",
    "fig, ax = plt.subplots(1,1,figsize=(15,3))\n",
    "ax.plot(df.t, df.f_clip,'.', alpha=0.5, color='r', marker='.')\n",
    "ax.set_ylabel('Flux')\n",
    "ax.set_xlabel('Time (day)')\n",
    "ax.set_xlim([df.t.iloc[0],df.t.iloc[-1]])"
   ]
  },
  {
   "cell_type": "code",
   "execution_count": null,
   "metadata": {
    "ExecuteTime": {
     "end_time": "2017-09-25T02:25:15.351678Z",
     "start_time": "2017-09-25T02:25:14.240Z"
    },
    "collapsed": true
   },
   "outputs": [],
   "source": [
    "import matplotlib.pyplot as plt\n",
    "%matplotlib inline\n",
    "plt.style.use('seaborn-white')\n",
    "\n",
    "fig, ax = plt.subplots(1,1,figsize=(15,3))\n",
    "#ax.plot(df.t, df.f,'.', alpha=0.5, color='k', marker='o')\n",
    "ax.plot(df.t, df.f_clip,'.', alpha=0.5, color='r', marker='.')\n",
    "ax.set_ylabel('Flux')\n",
    "ax.set_xlabel('Time (day)')\n",
    "ax.set_xlim([3100,3110])\n",
    "ax.set_ylim([-0.004,0.001])"
   ]
  },
  {
   "cell_type": "code",
   "execution_count": null,
   "metadata": {
    "ExecuteTime": {
     "end_time": "2017-09-25T02:25:15.353847Z",
     "start_time": "2017-09-25T02:25:14.243Z"
    },
    "collapsed": true
   },
   "outputs": [],
   "source": [
    "from gatspy.periodic import LombScargleFast\n",
    "\n",
    "t,f=df.t, df.f\n",
    "model = LombScargleFast().fit(t, f)\n",
    "periods, power = model.periodogram_auto(nyquist_factor=100)"
   ]
  },
  {
   "cell_type": "code",
   "execution_count": null,
   "metadata": {
    "ExecuteTime": {
     "end_time": "2017-09-25T02:25:15.356365Z",
     "start_time": "2017-09-25T02:25:14.246Z"
    },
    "collapsed": true
   },
   "outputs": [],
   "source": [
    "periods[periods > 1][np.argmax(power[periods > 1])]"
   ]
  },
  {
   "cell_type": "code",
   "execution_count": null,
   "metadata": {
    "ExecuteTime": {
     "end_time": "2017-09-25T02:25:15.358944Z",
     "start_time": "2017-09-25T02:25:14.250Z"
    },
    "collapsed": true
   },
   "outputs": [],
   "source": [
    "#get positive periods\n",
    "idx1 = periods > 1\n",
    "#\n",
    "idx2 = np.argmax(power[idx1])\n",
    "peak = periods[idx1][idx2]\n",
    "\n",
    "fig, ax = plt.subplots(1,1,figsize=(15,5))\n",
    "ax.plot(periods, power, 'k-')\n",
    "ax.set(xlim=(0.5, 3),\n",
    "#         , ylim=(0, 0.01),\n",
    "   xlabel='period (days)',\n",
    "   ylabel='Lomb-Scargle Power')\n",
    "ax.vlines(peak, *ax.get_ylim(), linestyles='dotted', colors='r')"
   ]
  },
  {
   "cell_type": "code",
   "execution_count": null,
   "metadata": {
    "ExecuteTime": {
     "end_time": "2017-09-25T02:25:15.361351Z",
     "start_time": "2017-09-25T02:25:14.253Z"
    },
    "collapsed": true
   },
   "outputs": [],
   "source": [
    "idx = (3100 < t) & (t < 3110)\n",
    "tsub, fsub = t[idx], f[idx]\n",
    "idx = fsub < np.median(fsub) - 0.5 * np.std(fsub)\n",
    "t0 = np.median(tsub[idx])\n",
    "\n",
    "fig, ax = plt.subplots(1,1,figsize=(15,3))\n",
    "ax.plot(tsub, fsub, '.')\n",
    "ax.vlines(t0, *ax.get_ylim())"
   ]
  },
  {
   "cell_type": "code",
   "execution_count": null,
   "metadata": {
    "ExecuteTime": {
     "end_time": "2017-09-25T02:25:15.363829Z",
     "start_time": "2017-09-25T02:25:14.258Z"
    },
    "collapsed": true,
    "scrolled": true
   },
   "outputs": [],
   "source": [
    "#import simfit\n",
    "#tf, ff = simfit.util.fold(t, f, peak, t0)\n",
    "\n",
    "def get_tns(t, p, t0):\n",
    "\n",
    "    idx = t != 0\n",
    "    t = t[idx]\n",
    "\n",
    "    while t0-p > t.min():\n",
    "        t0 -= p\n",
    "    if t0 < t.min():\n",
    "        t0 += p\n",
    "\n",
    "    tns = [t0+p*i for i in range(int((t.max()-t0)/p+1))]\n",
    "\n",
    "    while tns[-1] > t.max():\n",
    "        tns.pop()\n",
    "\n",
    "    while tns[0] < t.min():\n",
    "        tns = tns[1:]\n",
    "\n",
    "    return tns\n",
    "\n",
    "\n",
    "def extract_individual(star, p, t0, width=1):\n",
    "\n",
    "    t, f = star.time, star.flux\n",
    "    idx = np.isfinite(t) & np.isfinite(f)\n",
    "    t, f = t[idx], f[idx]\n",
    "\n",
    "    tns =  get_tns(t, p, t0)\n",
    "\n",
    "    transits = []\n",
    "    for i,tn in enumerate(tns):\n",
    "        idx = (t > tn - width/2.) & (t < tn + width/2.)\n",
    "        if idx.sum() == 0:\n",
    "            continue\n",
    "        ti = t[idx].tolist()\n",
    "        fi = f[idx].tolist()\n",
    "        transits.append((ti,fi))\n",
    "\n",
    "    return transits\n",
    "\n",
    "def fold(t, f, p, t0, width=0.4, clip=False, bl=False, t14=0.2):\n",
    "    tns = get_tns(t, p, t0)\n",
    "    tf, ff = np.empty(0), np.empty(0)\n",
    "    for i,tn in enumerate(tns):\n",
    "        idx = (t > tn - width/2.) & (t < tn + width/2.)\n",
    "        ti = t[idx]-tn\n",
    "        fi = f[idx]\n",
    "        fi /= np.nanmedian(fi)\n",
    "        if bl:\n",
    "            idx = (ti < -t14/2.) | (ti > t14/2.)\n",
    "            assert np.isfinite(ti[idx]).all() & np.isfinite(fi[idx]).all()\n",
    "            assert idx.sum() > 0\n",
    "            try:\n",
    "                res = sm.RLM(fi[idx], sm.add_constant(ti[idx])).fit()\n",
    "                if np.abs(res.params[1]) > 1e-2:\n",
    "                    print('bad data probably causing poor fit')\n",
    "                    print('transit {} baseline params: {}'.format(i, res.params))\n",
    "                    continue\n",
    "                model = res.params[0] + res.params[1] * ti\n",
    "                fi = fi - model + 1\n",
    "            except:\n",
    "                print(\"error computing baseline for transit {}\".format(i))\n",
    "                print(\"num. points: {}\".format(idx.sum()))\n",
    "                print(ti)\n",
    "        tf = np.append(tf, ti)\n",
    "        ff = np.append(ff, fi / np.nanmedian(fi))\n",
    "    idx = np.argsort(tf)\n",
    "    tf = tf[idx]\n",
    "    ff = ff[idx]\n",
    "    if clip:\n",
    "        fc = sigma_clip(ff, sigma_lower=10, sigma_upper=2)\n",
    "        tf, ff = tf[~fc.mask], ff[~fc.mask]\n",
    "    return tf, ff\n",
    "\n",
    "tf, ff = fold(t, f, peak, t0)\n",
    "\n",
    "\n",
    "fig, ax = plt.subplots(1,1,figsize=(15,5))\n",
    "ax.plot(tf, ff, '.')"
   ]
  },
  {
   "cell_type": "code",
   "execution_count": null,
   "metadata": {
    "ExecuteTime": {
     "end_time": "2017-09-25T02:25:15.366234Z",
     "start_time": "2017-09-25T02:25:14.263Z"
    },
    "collapsed": true
   },
   "outputs": [],
   "source": [
    "import pandas as pd\n",
    "\n",
    "d = glob(os.path.join(folders[1],'folded_*.txt'))[0]"
   ]
  },
  {
   "cell_type": "code",
   "execution_count": null,
   "metadata": {
    "ExecuteTime": {
     "end_time": "2017-09-25T02:25:15.368641Z",
     "start_time": "2017-09-25T02:25:14.268Z"
    },
    "collapsed": true
   },
   "outputs": [],
   "source": [
    "df = pd.read_csv(d, skiprows=1, delimiter=' ', names=['t','f'])\n",
    "# f_ = sigma_clip(df.f,sigma=2)\n",
    "# df['f_clip'] = f_\n",
    "df.head()"
   ]
  },
  {
   "cell_type": "code",
   "execution_count": null,
   "metadata": {
    "ExecuteTime": {
     "end_time": "2017-09-25T02:25:15.371117Z",
     "start_time": "2017-09-25T02:25:14.276Z"
    },
    "collapsed": true
   },
   "outputs": [],
   "source": [
    "fig, ax = plt.subplots(1,1,figsize=(15,3))\n",
    "ax.plot(df.t, df.f,'.', alpha=0.1, color='k', marker='.')\n",
    "ax.set_ylabel('Flux')\n",
    "ax.set_xlabel('Time (day)')\n",
    "#ax.set_xlim([df.t.iloc[0],df.t.iloc[-1]])\n",
    "ax.set_xlim([1,1.3])"
   ]
  },
  {
   "cell_type": "code",
   "execution_count": null,
   "metadata": {
    "ExecuteTime": {
     "end_time": "2017-09-25T02:25:15.373479Z",
     "start_time": "2017-09-25T02:25:14.284Z"
    },
    "collapsed": true
   },
   "outputs": [],
   "source": [
    "from pytransit import MandelAgol"
   ]
  },
  {
   "cell_type": "code",
   "execution_count": null,
   "metadata": {
    "ExecuteTime": {
     "end_time": "2017-09-25T02:25:15.376118Z",
     "start_time": "2017-09-25T02:25:14.292Z"
    },
    "collapsed": true
   },
   "outputs": [],
   "source": [
    "from pytransit import MandelAgol\n",
    "\n",
    "MA = MandelAgol()\n",
    "\n",
    "\n",
    "def model(theta, t):\n",
    "    \n",
    "    k,t0,p,a,i,u1,u2,_,_,_,_,_ = theta\n",
    "    model = MA.evaluate(t, k, (u1,u2), t0, p, a, i)\n",
    "    \n",
    "    return model\n",
    "\n",
    "\n",
    "def baseline(theta, t):\n",
    "    ti = t - t.mean()\n",
    "    c0,c1,c2,c3 = theta[-4:]\n",
    "    return c0 + c1 * ti + c2 * ti**2 + c3 * ti**3\n",
    "    \n",
    "    \n",
    "def lnlike(theta, t, f):\n",
    "    \n",
    "    k,t0,p,a,i,u1,u2,sig,c0,c1,c2,c3 = theta\n",
    "    m = model(theta, t) + baseline(theta, t)\n",
    "    resid = f - m\n",
    "    inv_sigma2 = 1.0/(sig**2)\n",
    "\n",
    "    return -0.5*(np.sum((resid)**2*inv_sigma2 - np.log(inv_sigma2)))\n",
    "\n",
    "\n",
    "def lnprob(theta, t, f):\n",
    "    \n",
    "    if np.any(theta[:-4] < 0):\n",
    "        return -np.inf\n",
    "    if theta[4] > np.pi/2.:\n",
    "        return -np.inf\n",
    "\n",
    "    ll = lnlike(theta, t, f)\n",
    "    return ll if np.isfinite(ll) else -np.inf\n",
    "\n",
    "\n",
    "def scaled_a(p, t14, k, i=np.pi/2.):\n",
    "    numer = np.sqrt( (k + 1) ** 2 )\n",
    "    denom = np.sin(i) * np.sin(t14 * np.pi / p)\n",
    "    return float(numer / denom)"
   ]
  },
  {
   "cell_type": "code",
   "execution_count": null,
   "metadata": {
    "ExecuteTime": {
     "end_time": "2017-09-25T02:25:15.378763Z",
     "start_time": "2017-09-25T02:25:14.299Z"
    },
    "collapsed": true,
    "scrolled": true
   },
   "outputs": [],
   "source": [
    "p = peak\n",
    "t14 = 0.10\n",
    "k = np.sqrt(1-0.993)\n",
    "i = np.pi/2.\n",
    "a = scaled_a(p, t14, k, i)\n",
    "u1, u2 = 0.2, 0.2\n",
    "sig = f.std()\n",
    "lna = 1e-1\n",
    "lntau = 1\n",
    "\n",
    "\n",
    "initial = k,t0,p,a,i,u1,u2,sig,0,0,0,0\n",
    "args = (t, f)\n",
    "\n",
    "nlp = lambda *args: -lnprob(*args)\n",
    "\n",
    "import scipy.optimize as op\n",
    "\n",
    "opt = op.minimize(nlp, initial, args=args, method='nelder-mead')\n",
    "print(opt.success)\n",
    "print(opt.x)"
   ]
  },
  {
   "cell_type": "code",
   "execution_count": null,
   "metadata": {
    "ExecuteTime": {
     "end_time": "2017-09-25T02:25:15.387372Z",
     "start_time": "2017-09-25T02:25:14.305Z"
    },
    "collapsed": true
   },
   "outputs": [],
   "source": [
    "opt.x[1], opt.x[2]"
   ]
  },
  {
   "cell_type": "code",
   "execution_count": null,
   "metadata": {
    "ExecuteTime": {
     "end_time": "2017-09-25T02:25:15.390073Z",
     "start_time": "2017-09-25T02:25:14.311Z"
    },
    "collapsed": true,
    "scrolled": false
   },
   "outputs": [],
   "source": [
    "#t, f, p, t0"
   ]
  },
  {
   "cell_type": "code",
   "execution_count": null,
   "metadata": {
    "ExecuteTime": {
     "end_time": "2017-09-25T02:25:15.392307Z",
     "start_time": "2017-09-25T02:25:14.318Z"
    },
    "collapsed": true
   },
   "outputs": [],
   "source": [
    "t0, p = opt.x[1], opt.x[2]\n",
    "\n",
    "tf, ff = fold(t, f, p, t0)\n",
    "ff /= np.median(ff)\n",
    "\n",
    "fig, ax = plt.subplots(1,1,figsize=(15,5))\n",
    "ax.plot(tf, ff, '.')\n",
    "plt.xlabel('Phase')\n",
    "plt.ylabel('Normalized Flux')"
   ]
  },
  {
   "cell_type": "code",
   "execution_count": null,
   "metadata": {
    "ExecuteTime": {
     "end_time": "2017-09-25T02:25:15.394564Z",
     "start_time": "2017-09-25T02:25:14.326Z"
    },
    "collapsed": true
   },
   "outputs": [],
   "source": [
    "from emcee import EnsembleSampler\n",
    "from emcee.utils import sample_ball\n",
    "\n",
    "# initial = opt.x\n",
    "\n",
    "ndim = len(initial)\n",
    "nwalkers = 8 * ndim\n",
    "nsteps1 = 500\n",
    "nsteps2 = 3000\n",
    "\n",
    "sampler = EnsembleSampler(nwalkers, ndim, lnprob, args=args, threads=4)\n",
    "pos0 = sample_ball(initial, [1e-1]*ndim, nwalkers)\n",
    "\n",
    "width = 3000\n",
    "print(\"\\nstage 1\")\n",
    "for i,(pos,_,_) in enumerate(sampler.sample(pos0, iterations=nsteps1)):\n",
    "    n = int((width+1) * float(i) / nsteps1)\n",
    "    sys.stdout.write(\"\\r[{0}{1}]\".format('#' * n, ' ' * (width - n)))\n",
    "\n",
    "print(\"\\nstage 2\")\n",
    "idx = np.argmax(sampler.lnprobability)\n",
    "best = sampler.flatchain[idx]\n",
    "pos0 = sample_ball(best, [1e-5]*ndim, nwalkers)\n",
    "sampler.reset()\n",
    "\n",
    "for i,(pos,_,_) in enumerate(sampler.sample(pos0, iterations=nsteps2)):\n",
    "    n = int((width+1) * float(i) / nsteps2)\n",
    "    sys.stdout.write(\"\\r[{0}{1}]\".format('#' * n, ' ' * (width - n)))"
   ]
  },
  {
   "cell_type": "code",
   "execution_count": null,
   "metadata": {
    "collapsed": true
   },
   "outputs": [],
   "source": []
  },
  {
   "cell_type": "code",
   "execution_count": null,
   "metadata": {
    "collapsed": true
   },
   "outputs": [],
   "source": []
  },
  {
   "cell_type": "code",
   "execution_count": null,
   "metadata": {
    "collapsed": true
   },
   "outputs": [],
   "source": []
  },
  {
   "cell_type": "code",
   "execution_count": null,
   "metadata": {
    "collapsed": true
   },
   "outputs": [],
   "source": []
  },
  {
   "cell_type": "code",
   "execution_count": null,
   "metadata": {
    "collapsed": true
   },
   "outputs": [],
   "source": []
  },
  {
   "cell_type": "code",
   "execution_count": null,
   "metadata": {
    "collapsed": true
   },
   "outputs": [],
   "source": []
  },
  {
   "cell_type": "code",
   "execution_count": null,
   "metadata": {
    "collapsed": true
   },
   "outputs": [],
   "source": []
  },
  {
   "cell_type": "code",
   "execution_count": null,
   "metadata": {
    "collapsed": true
   },
   "outputs": [],
   "source": []
  },
  {
   "cell_type": "code",
   "execution_count": null,
   "metadata": {
    "collapsed": true
   },
   "outputs": [],
   "source": []
  },
  {
   "cell_type": "code",
   "execution_count": null,
   "metadata": {
    "collapsed": true
   },
   "outputs": [],
   "source": []
  },
  {
   "cell_type": "code",
   "execution_count": null,
   "metadata": {
    "collapsed": true
   },
   "outputs": [],
   "source": []
  },
  {
   "cell_type": "code",
   "execution_count": null,
   "metadata": {
    "collapsed": true
   },
   "outputs": [],
   "source": []
  },
  {
   "cell_type": "code",
   "execution_count": null,
   "metadata": {
    "collapsed": true
   },
   "outputs": [],
   "source": []
  },
  {
   "cell_type": "code",
   "execution_count": null,
   "metadata": {
    "collapsed": true
   },
   "outputs": [],
   "source": []
  },
  {
   "cell_type": "code",
   "execution_count": null,
   "metadata": {
    "collapsed": true
   },
   "outputs": [],
   "source": []
  },
  {
   "cell_type": "code",
   "execution_count": null,
   "metadata": {
    "collapsed": true
   },
   "outputs": [],
   "source": []
  },
  {
   "cell_type": "code",
   "execution_count": null,
   "metadata": {
    "ExecuteTime": {
     "end_time": "2017-09-25T02:25:15.396600Z",
     "start_time": "2017-09-25T02:25:14.379Z"
    },
    "collapsed": true
   },
   "outputs": [],
   "source": [
    "from astropy.io import fits\n",
    "\n",
    "hdulist=fits.open(fitfiles[0])\n",
    "hdulist"
   ]
  },
  {
   "cell_type": "code",
   "execution_count": null,
   "metadata": {
    "ExecuteTime": {
     "end_time": "2017-09-25T02:25:15.398816Z",
     "start_time": "2017-09-25T02:25:14.384Z"
    },
    "collapsed": true
   },
   "outputs": [],
   "source": [
    "#BinTableHDU\n",
    "rec = hdulist[1].data"
   ]
  },
  {
   "cell_type": "code",
   "execution_count": null,
   "metadata": {
    "ExecuteTime": {
     "end_time": "2017-09-25T02:25:15.401222Z",
     "start_time": "2017-09-25T02:25:14.388Z"
    },
    "collapsed": true
   },
   "outputs": [],
   "source": [
    "time=rec.TIME\n",
    "time.shape"
   ]
  },
  {
   "cell_type": "code",
   "execution_count": null,
   "metadata": {
    "ExecuteTime": {
     "end_time": "2017-09-25T02:25:15.404582Z",
     "start_time": "2017-09-25T02:25:14.392Z"
    },
    "collapsed": true
   },
   "outputs": [],
   "source": [
    "f=rec.RAW_CNTS\n",
    "f.shape"
   ]
  },
  {
   "cell_type": "code",
   "execution_count": null,
   "metadata": {
    "ExecuteTime": {
     "end_time": "2017-09-25T02:25:15.407216Z",
     "start_time": "2017-09-25T02:25:14.396Z"
    },
    "collapsed": true
   },
   "outputs": [],
   "source": [
    "fmean=np.nanmean(f,axis=0)\n",
    "fmean.shape"
   ]
  },
  {
   "cell_type": "code",
   "execution_count": null,
   "metadata": {
    "ExecuteTime": {
     "end_time": "2017-09-25T02:25:15.409360Z",
     "start_time": "2017-09-25T02:25:14.401Z"
    },
    "collapsed": true
   },
   "outputs": [],
   "source": [
    "pl.imshow(fmean)\n",
    "pl.colorbar()"
   ]
  },
  {
   "cell_type": "code",
   "execution_count": null,
   "metadata": {
    "ExecuteTime": {
     "end_time": "2017-09-25T02:25:15.412435Z",
     "start_time": "2017-09-25T02:25:14.405Z"
    },
    "collapsed": true
   },
   "outputs": [],
   "source": [
    "fig = pl.figure(figsize=(12,6))\n",
    "\n",
    "fpix = f.reshape(f.shape[0], -1)\n",
    "pl.plot(time, np.nansum(fpix, axis=1), 'k,')\n",
    "#pl.ylim(4.1e7,4.18e7)"
   ]
  },
  {
   "cell_type": "code",
   "execution_count": null,
   "metadata": {
    "collapsed": true
   },
   "outputs": [],
   "source": []
  }
 ],
 "metadata": {
  "kernelspec": {
   "display_name": "Python 2",
   "language": "python",
   "name": "python2"
  },
  "language_info": {
   "codemirror_mode": {
    "name": "ipython",
    "version": 2
   },
   "file_extension": ".py",
   "mimetype": "text/x-python",
   "name": "python",
   "nbconvert_exporter": "python",
   "pygments_lexer": "ipython2",
   "version": "2.7.13"
  }
 },
 "nbformat": 4,
 "nbformat_minor": 2
}
