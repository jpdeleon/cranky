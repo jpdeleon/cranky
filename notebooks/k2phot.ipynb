{
 "cells": [
  {
   "cell_type": "markdown",
   "metadata": {},
   "source": [
    "## gotoflux() function\n",
    "\n",
    "* fixed on 09/11\n",
    "* see k2phot_v2 "
   ]
  },
  {
   "cell_type": "code",
   "execution_count": 1,
   "metadata": {
    "ExecuteTime": {
     "end_time": "2017-09-15T07:15:20.549904Z",
     "start_time": "2017-09-15T07:15:20.432898Z"
    }
   },
   "outputs": [
    {
     "name": "stdout",
     "output_type": "stream",
     "text": [
      "Python 2.7.13 :: Continuum Analytics, Inc.\r\n"
     ]
    }
   ],
   "source": [
    "!python --version"
   ]
  },
  {
   "cell_type": "code",
   "execution_count": 2,
   "metadata": {
    "ExecuteTime": {
     "end_time": "2017-09-15T07:15:20.612726Z",
     "start_time": "2017-09-15T07:15:20.592473Z"
    }
   },
   "outputs": [
    {
     "data": {
      "text/plain": [
       "'K2phot'"
      ]
     },
     "execution_count": 2,
     "metadata": {},
     "output_type": "execute_result"
    }
   ],
   "source": [
    "import os\n",
    "\n",
    "os.environ['CONDA_DEFAULT_ENV']"
   ]
  },
  {
   "cell_type": "raw",
   "metadata": {
    "ExecuteTime": {
     "end_time": "2017-09-07T12:55:34.382725Z",
     "start_time": "2017-09-07T12:55:34.369790Z"
    }
   },
   "source": [
    "hdr1=fits.getheader(fit[0])\n",
    "hdr1\n",
    "\n",
    "hdr2=fits.getheader(fit[0])\n",
    "hdr2"
   ]
  },
  {
   "cell_type": "code",
   "execution_count": 3,
   "metadata": {
    "ExecuteTime": {
     "end_time": "2017-09-15T07:15:22.881351Z",
     "start_time": "2017-09-15T07:15:22.193956Z"
    }
   },
   "outputs": [
    {
     "data": {
      "text/plain": [
       "['/home/jp/data/transit/c14/ktwo201609387-kadenza-lpd-targ.fits.gz',\n",
       " '/home/jp/data/transit/c14/ktwo201885041-kadenza-lpd-targ.fits.gz',\n",
       " '/home/jp/data/transit/c14/ktwo201497396-kadenza-lpd-targ.fits.gz',\n",
       " '/home/jp/data/transit/c14/ktwo201661761-kadenza-lpd-targ.fits.gz',\n",
       " '/home/jp/data/transit/c14/ktwo201454088-kadenza-lpd-targ.fits.gz',\n",
       " '/home/jp/data/transit/c14/ktwo248662696-kadenza-lpd-targ.fits.gz']"
      ]
     },
     "execution_count": 3,
     "metadata": {},
     "output_type": "execute_result"
    }
   ],
   "source": [
    "from astropy.io import fits\n",
    "import numpy as np\n",
    "import matplotlib.pyplot as pl\n",
    "%matplotlib inline\n",
    "from glob import glob\n",
    "import getpass\n",
    "\n",
    "#fitfiles = glob('new_example_input/*.fits')\n",
    "fitfiles = glob('/home/jp/data/transit/c14/*.fits.gz')\n",
    "fitfiles"
   ]
  },
  {
   "cell_type": "code",
   "execution_count": 6,
   "metadata": {
    "ExecuteTime": {
     "end_time": "2017-09-15T07:27:07.180887Z",
     "start_time": "2017-09-15T07:27:07.142609Z"
    }
   },
   "outputs": [
    {
     "ename": "ValueError",
     "evalue": "DataFrame constructor not properly called!",
     "output_type": "error",
     "traceback": [
      "\u001b[0;31m---------------------------------------------------------------------------\u001b[0m",
      "\u001b[0;31mValueError\u001b[0m                                Traceback (most recent call last)",
      "\u001b[0;32m<ipython-input-6-410748679428>\u001b[0m in \u001b[0;36m<module>\u001b[0;34m()\u001b[0m\n\u001b[1;32m      1\u001b[0m \u001b[0;32mimport\u001b[0m \u001b[0mpandas\u001b[0m \u001b[0;32mas\u001b[0m \u001b[0mpd\u001b[0m\u001b[0;34m\u001b[0m\u001b[0m\n\u001b[1;32m      2\u001b[0m \u001b[0;34m\u001b[0m\u001b[0m\n\u001b[0;32m----> 3\u001b[0;31m \u001b[0mdf\u001b[0m\u001b[0;34m=\u001b[0m\u001b[0mpd\u001b[0m\u001b[0;34m.\u001b[0m\u001b[0mDataFrame\u001b[0m\u001b[0;34m(\u001b[0m\u001b[0;34m'output/20143921/lightcurve_raw_20143921.txt'\u001b[0m\u001b[0;34m)\u001b[0m\u001b[0;34m\u001b[0m\u001b[0m\n\u001b[0m\u001b[1;32m      4\u001b[0m \u001b[0mdf\u001b[0m\u001b[0;34m.\u001b[0m\u001b[0mhead\u001b[0m\u001b[0;34m(\u001b[0m\u001b[0;34m)\u001b[0m\u001b[0;34m\u001b[0m\u001b[0m\n",
      "\u001b[0;32m/home/jp/miniconda2/envs/K2phot/lib/python2.7/site-packages/pandas/core/frame.pyc\u001b[0m in \u001b[0;36m__init__\u001b[0;34m(self, data, index, columns, dtype, copy)\u001b[0m\n\u001b[1;32m    352\u001b[0m                                          copy=False)\n\u001b[1;32m    353\u001b[0m             \u001b[0;32melse\u001b[0m\u001b[0;34m:\u001b[0m\u001b[0;34m\u001b[0m\u001b[0m\n\u001b[0;32m--> 354\u001b[0;31m                 \u001b[0;32mraise\u001b[0m \u001b[0mValueError\u001b[0m\u001b[0;34m(\u001b[0m\u001b[0;34m'DataFrame constructor not properly called!'\u001b[0m\u001b[0;34m)\u001b[0m\u001b[0;34m\u001b[0m\u001b[0m\n\u001b[0m\u001b[1;32m    355\u001b[0m \u001b[0;34m\u001b[0m\u001b[0m\n\u001b[1;32m    356\u001b[0m         \u001b[0mNDFrame\u001b[0m\u001b[0;34m.\u001b[0m\u001b[0m__init__\u001b[0m\u001b[0;34m(\u001b[0m\u001b[0mself\u001b[0m\u001b[0;34m,\u001b[0m \u001b[0mmgr\u001b[0m\u001b[0;34m,\u001b[0m \u001b[0mfastpath\u001b[0m\u001b[0;34m=\u001b[0m\u001b[0mTrue\u001b[0m\u001b[0;34m)\u001b[0m\u001b[0;34m\u001b[0m\u001b[0m\n",
      "\u001b[0;31mValueError\u001b[0m: DataFrame constructor not properly called!"
     ]
    }
   ],
   "source": [
    "import pandas as pd\n",
    "\n",
    "df=pd.DataFrame('output/20143921/lightcurve_raw_20143921.txt')\n",
    "df.head()"
   ]
  },
  {
   "cell_type": "code",
   "execution_count": null,
   "metadata": {
    "collapsed": true
   },
   "outputs": [],
   "source": []
  },
  {
   "cell_type": "code",
   "execution_count": null,
   "metadata": {
    "collapsed": true
   },
   "outputs": [],
   "source": []
  },
  {
   "cell_type": "code",
   "execution_count": null,
   "metadata": {
    "collapsed": true
   },
   "outputs": [],
   "source": []
  },
  {
   "cell_type": "code",
   "execution_count": 8,
   "metadata": {
    "ExecuteTime": {
     "end_time": "2017-09-14T07:56:57.637492Z",
     "start_time": "2017-09-14T07:56:57.492744Z"
    }
   },
   "outputs": [
    {
     "data": {
      "text/plain": [
       "[<astropy.io.fits.hdu.image.PrimaryHDU object at 0x7f21af2d8690>, <astropy.io.fits.hdu.table.BinTableHDU object at 0x7f21af2f4f10>, <astropy.io.fits.hdu.image.ImageHDU object at 0x7f21af303c10>]"
      ]
     },
     "execution_count": 8,
     "metadata": {},
     "output_type": "execute_result"
    }
   ],
   "source": [
    "from astropy.io import fits\n",
    "\n",
    "hdulist=fits.open(fitfiles[0])\n",
    "hdulist"
   ]
  },
  {
   "cell_type": "raw",
   "metadata": {
    "ExecuteTime": {
     "end_time": "2017-09-08T21:54:16.966139Z",
     "start_time": "2017-09-08T21:54:16.952660Z"
    }
   },
   "source": [
    "hdr1=fits.getheader(fitfiles[0])\n",
    "hdr1"
   ]
  },
  {
   "cell_type": "code",
   "execution_count": 9,
   "metadata": {
    "ExecuteTime": {
     "end_time": "2017-09-14T07:58:18.218988Z",
     "start_time": "2017-09-14T07:58:18.107860Z"
    },
    "collapsed": true
   },
   "outputs": [],
   "source": [
    "#BinTableHDU\n",
    "rec = hdulist[1].data"
   ]
  },
  {
   "cell_type": "raw",
   "metadata": {},
   "source": [
    "pyfits.open(inputfolder+filename,memmap=True)  # open a FITS file\n",
    "#print f.info()\n",
    "L=len(pixfile[1].data) # number of images\n",
    "\n",
    "Xabs = pixfile[2].header['CRVAL2P'] # X position of pixel on kepler spacecraft\n",
    "Yabs = pixfile[2].header['CRVAL1P'] # Y position\n",
    "\n",
    "keplerid = pixfile[0].header['KEPLERID']\n",
    "kepmag = pixfile[0].header['Kepmag']\n",
    "obsmode = pixfile[0].header['OBSMODE']\n",
    "channel = pixfile[0].header['CHANNEL']\n",
    "module = pixfile[0].header['MODULE']\n",
    "RA = pixfile[0].header['RA_OBJ']\n",
    "DEC = pixfile[0].header['DEC_OBJ']"
   ]
  },
  {
   "cell_type": "code",
   "execution_count": 8,
   "metadata": {
    "ExecuteTime": {
     "end_time": "2017-09-12T02:02:43.090729Z",
     "start_time": "2017-09-12T02:02:43.084242Z"
    },
    "scrolled": true
   },
   "outputs": [
    {
     "data": {
      "text/plain": [
       "dtype((numpy.record, [('TIME', '>f8'), ('TIMECORR', '>f4'), ('CADENCENO', '>i4'), ('RAW_CNTS', '>i4', (15, 13)), ('FLUX', '>f4', (15, 13)), ('FLUX_ERR', '>f4', (15, 13)), ('FLUX_BKG', '>f4', (15, 13)), ('FLUX_BKG_ERR', '>f4', (15, 13)), ('COSMIC_RAYS', '>f4', (15, 13)), ('QUALITY', '>i4'), ('POS_CORR1', '>f4'), ('POS_CORR2', '>f4')]))"
      ]
     },
     "execution_count": 8,
     "metadata": {},
     "output_type": "execute_result"
    }
   ],
   "source": [
    "rec.dtype"
   ]
  },
  {
   "cell_type": "code",
   "execution_count": 9,
   "metadata": {
    "ExecuteTime": {
     "end_time": "2017-09-12T02:02:43.394209Z",
     "start_time": "2017-09-12T02:02:43.388430Z"
    }
   },
   "outputs": [
    {
     "data": {
      "text/plain": [
       "(3895,)"
      ]
     },
     "execution_count": 9,
     "metadata": {},
     "output_type": "execute_result"
    }
   ],
   "source": [
    "time=rec.TIME\n",
    "time.shape"
   ]
  },
  {
   "cell_type": "raw",
   "metadata": {
    "ExecuteTime": {
     "end_time": "2017-09-08T08:14:09.506924Z",
     "start_time": "2017-09-08T08:14:09.492590Z"
    }
   },
   "source": [
    "f=rec.FLUX\n",
    "f.shape"
   ]
  },
  {
   "cell_type": "raw",
   "metadata": {
    "ExecuteTime": {
     "end_time": "2017-09-08T08:14:27.431665Z",
     "start_time": "2017-09-08T08:14:27.424146Z"
    }
   },
   "source": [
    "np.sum(np.isfinite(f))"
   ]
  },
  {
   "cell_type": "code",
   "execution_count": 10,
   "metadata": {
    "ExecuteTime": {
     "end_time": "2017-09-12T02:02:44.462207Z",
     "start_time": "2017-09-12T02:02:44.455499Z"
    }
   },
   "outputs": [
    {
     "data": {
      "text/plain": [
       "(3895, 15, 13)"
      ]
     },
     "execution_count": 10,
     "metadata": {},
     "output_type": "execute_result"
    }
   ],
   "source": [
    "f=rec.RAW_CNTS\n",
    "f.shape"
   ]
  },
  {
   "cell_type": "code",
   "execution_count": 11,
   "metadata": {
    "ExecuteTime": {
     "end_time": "2017-09-12T02:02:44.881063Z",
     "start_time": "2017-09-12T02:02:44.821752Z"
    }
   },
   "outputs": [
    {
     "data": {
      "text/plain": [
       "(15, 13)"
      ]
     },
     "execution_count": 11,
     "metadata": {},
     "output_type": "execute_result"
    }
   ],
   "source": [
    "fmean=np.nanmean(f,axis=0)\n",
    "fmean.shape"
   ]
  },
  {
   "cell_type": "code",
   "execution_count": 12,
   "metadata": {
    "ExecuteTime": {
     "end_time": "2017-09-12T02:02:45.835307Z",
     "start_time": "2017-09-12T02:02:45.448097Z"
    }
   },
   "outputs": [
    {
     "data": {
      "text/plain": [
       "<matplotlib.colorbar.Colorbar at 0x7f70c10018d0>"
      ]
     },
     "execution_count": 12,
     "metadata": {},
     "output_type": "execute_result"
    },
    {
     "data": {
      "image/png": "[encoded data removed]",
      "text/plain": [
       "<matplotlib.figure.Figure at 0x7f70c4268210>"
      ]
     },
     "metadata": {},
     "output_type": "display_data"
    }
   ],
   "source": [
    "pl.imshow(fmean)\n",
    "pl.colorbar()"
   ]
  },
  {
   "cell_type": "code",
   "execution_count": 14,
   "metadata": {
    "ExecuteTime": {
     "end_time": "2017-09-12T02:02:51.907356Z",
     "start_time": "2017-09-12T02:02:51.533527Z"
    }
   },
   "outputs": [
    {
     "data": {
      "text/plain": [
       "[<matplotlib.lines.Line2D at 0x7f70c0e026d0>]"
      ]
     },
     "execution_count": 14,
     "metadata": {},
     "output_type": "execute_result"
    },
    {
     "data": {
      "image/png": "[encoded data removed]",
      "text/plain": [
       "<matplotlib.figure.Figure at 0x7f70c0e88250>"
      ]
     },
     "metadata": {},
     "output_type": "display_data"
    }
   ],
   "source": [
    "fig = pl.figure(figsize=(12,6))\n",
    "\n",
    "fpix = f.reshape(f.shape[0], -1)\n",
    "pl.plot(time, np.nansum(fpix, axis=1), 'k,')\n",
    "#pl.ylim(4.1e7,4.18e7)"
   ]
  },
  {
   "cell_type": "markdown",
   "metadata": {},
   "source": [
    "## K2phot"
   ]
  },
  {
   "cell_type": "raw",
   "metadata": {
    "ExecuteTime": {
     "end_time": "2017-09-08T08:19:35.639505Z",
     "start_time": "2017-09-08T08:19:34.810867Z"
    },
    "collapsed": true
   },
   "source": [
    "# read dates and fluxes\n",
    "L=len(rec)\n",
    "dates= []\n",
    "fluxes = []\n",
    "i = 0\n",
    "while i < L:\n",
    "    # get dates and flux from file\n",
    "    dates.append(np.array(hdulist[1].data[i][0]))\n",
    "    \n",
    "    #flux = np.array(hdulist[1].data[i]['FLUX'], dtype='float64')\n",
    "    flux = np.array(hdulist[1].data[i]['RAW_CNTS'], dtype='float64')\n",
    "\n",
    "    # rework flux into 2D array\n",
    "    NY=hdulist[2].header['NAXIS1']\n",
    "    NX=hdulist[2].header['NAXIS2']\n",
    "    flux = flux.reshape(NX, NY)\n",
    "\n",
    "    fluxes.append(flux) # array over time of 2D array of flux-per-pixel\n",
    "\n",
    "    i = i +1\n",
    "    #print dates,fluxes\n",
    "    \n",
    "len(fluxes)"
   ]
  },
  {
   "cell_type": "markdown",
   "metadata": {},
   "source": [
    "## 2. gotoflux"
   ]
  },
  {
   "cell_type": "code",
   "execution_count": 12,
   "metadata": {
    "ExecuteTime": {
     "end_time": "2017-09-08T22:08:32.950031Z",
     "start_time": "2017-09-08T22:08:32.911350Z"
    },
    "collapsed": true
   },
   "outputs": [],
   "source": [
    "# read dates and fluxes\n",
    "\n",
    "from astropy.io import fits\n",
    "import numpy as np\n",
    "import matplotlib.pyplot as pl\n",
    "from glob import glob\n",
    "\n",
    "#fitfiles = glob('example_input/*.fits')\n",
    "inputpath='/home/jp/data/transit/'\n",
    "outputfolder='248662696/'\n",
    "fitfiles = glob(os.path.join(inputpath,'*.fits'))\n",
    "filename=fitfiles[0]\n",
    "\n",
    "# get all files in the folder, just grab the EPIC number of the filename\n",
    "starnames = np.unique([f[4:13] for f in os.listdir(inputpath) if os.path.isfile(os.path.join(inputpath,f))])\n",
    "starname=starnames[1] #248662696\n",
    "\n",
    "def get_pixelfluxes(filename,inputfolder='',outputfolder='',starname=''):\n",
    "  # Read a pixel file, and return the flux per pixel over time\n",
    "    \n",
    "    pixfile=fits.open(fitfiles[0])\n",
    "    \n",
    "    Xabs = pixfile[2].header['CRVAL2P'] # X position of pixel on kepler spacecraft\n",
    "    Yabs = pixfile[2].header['CRVAL1P'] # Y position\n",
    "\n",
    "    keplerid = pixfile[0].header['KEPLERID']\n",
    "    kepmag = pixfile[0].header['Kepmag']\n",
    "    obsmode = pixfile[0].header['OBSMODE']\n",
    "    channel = pixfile[0].header['CHANNEL']\n",
    "    module = pixfile[0].header['MODULE']\n",
    "    RA = pixfile[0].header['RA_OBJ']\n",
    "    DEC = pixfile[0].header['DEC_OBJ']\n",
    "\n",
    "    obj_basics = [keplerid,kepmag,obsmode,channel,module,RA,DEC]\n",
    "    obj_basics_head = '# 0 kepid, 1 kepmag, 2 obsmode, 3 channel, 4 module, 5 RA, 6 DEC'\n",
    "    np.savetxt(os.path.join(outputfolder,'obj_basics_' + str(starname) + '.txt'),obj_basics,header=obj_basics_head,fmt='%s')\n",
    "\n",
    "    rec = pixfile[1].data\n",
    "    dates=rec.TIME\n",
    "    fluxes=rec.RAW_CNTS\n",
    "    \n",
    "    return dates,fluxes,kepmag,Xabs,Yabs"
   ]
  },
  {
   "cell_type": "code",
   "execution_count": 13,
   "metadata": {
    "ExecuteTime": {
     "end_time": "2017-09-08T22:08:33.002419Z",
     "start_time": "2017-09-08T22:08:32.952506Z"
    },
    "collapsed": true
   },
   "outputs": [],
   "source": [
    "dates,fluxes,kepmag,Xabs,Yabs = get_pixelfluxes(filename,\n",
    "                                                inputfolder=inputpath,\n",
    "                                                outputfolder=outputfolder,\n",
    "                                                starname=starname)"
   ]
  },
  {
   "cell_type": "markdown",
   "metadata": {},
   "source": [
    "### gotoflux function"
   ]
  },
  {
   "cell_type": "code",
   "execution_count": 14,
   "metadata": {
    "ExecuteTime": {
     "end_time": "2017-09-08T22:08:33.184939Z",
     "start_time": "2017-09-08T22:08:33.008472Z"
    },
    "collapsed": true
   },
   "outputs": [],
   "source": [
    "from scipy.ndimage import measurements\n",
    "import matplotlib as mpl\n",
    "from matplotlib.colors import LogNorm\n",
    "\n",
    "\n",
    "def find_aperture(dates,fluxes,plot=False,starname='',outputfolder='',kepmag='na',cutoff_limit=2.):\n",
    "  #\n",
    "  # This definition reads a 2D array of fluxes (over time) and creates an aperture mask which can later be used to select those pixels for inclusion in light curve\n",
    "  #\n",
    "\n",
    "  # first sum all the flux over the different times, this assumes limited movement throughout the time series\n",
    "    flux = np.nansum(fluxes,axis=0)\n",
    "\n",
    "    # define which cutoff flux to use for including pixel in mask\n",
    "    cutoff = cutoff_limit*np.median(flux) # perhaps a more elaborate way to define this could be found in the future but this seems to work pretty well.\n",
    "\n",
    "    # define the aperture based on cutoff and make it into array of 1 and 0\n",
    "    aperture =  np.array([flux > cutoff]) #scipy.zeros((np.shape(flux)[0],np.shape(flux)[1]), int)\n",
    "    aperture = np.array(1*aperture)\n",
    "    #print aperture\n",
    "    outline_all = make_aperture_outline(aperture[0]) # an outline (ONLY for figure) of what we are including if we would make no breakups\n",
    "\n",
    "    # this cool little trick allows us to measure distinct blocks of apertures, and only select the biggest one\n",
    "    lw, num = measurements.label(aperture) # this numbers the different apertures distinctly\n",
    "    area = measurements.sum(aperture, lw, index=np.arange(lw.max() + 1)) # this measures the size of the apertures\n",
    "    aperture = area[lw].astype(int) # this replaces the 1s by the size of the aperture\n",
    "    aperture = (aperture >= np.max(aperture))*1 # remake into 0s and 1s but only keep the largest aperture\n",
    "\n",
    "    outline = make_aperture_outline(aperture[0]) # a new outline (ONLY for figure)\n",
    "\n",
    "    if plot: # make aperture figure\n",
    "        if not os.path.exists(outputfolder):\n",
    "            os.makedirs(outputfolder)\n",
    "        cmap = mpl.cm.get_cmap('Greys', 20)\n",
    "        pl.figure('Aperture_' + str(starname))\n",
    "        pl.imshow(flux,norm=LogNorm(),interpolation=\"none\")#,cmap=cmap)\n",
    "        pl.plot(outline_all[:, 0], outline_all[:, 1],color='green', zorder=10, lw=2.5)\n",
    "        pl.plot(outline[:, 0], outline[:, 1],color='red', zorder=10, lw=2.5)#,label=str(kepmag))\n",
    "\n",
    "        #pl.colorbar(orientation='vertical')\n",
    "        pl.xlabel('X',fontsize=15)\n",
    "        pl.ylabel('Y',fontsize=15)\n",
    "        pl.legend()\n",
    "        #pl.xlim([-1,18])\n",
    "        #pl.ylim([-1,16])\n",
    "        #pl.xticks([0,5,10,15])\n",
    "        #pl.yticks([0,5,10,15])\n",
    "        pl.tight_layout()\n",
    "        pl.savefig(os.path.join(outputfolder,'aperture_' + str(starname)+'.pdf'))\n",
    "        #pl.close()\n",
    "        #pl.show()\n",
    "    return aperture\n",
    "\n",
    "def make_aperture_outline(frame, no_combined_images=1, threshold=0.5):\n",
    "    ## this is a little module that defines so called outlines to be used for plotting apertures\n",
    "\n",
    "    thres_val = no_combined_images * threshold\n",
    "    mapimg = (frame > thres_val)\n",
    "    ver_seg = np.where(mapimg[:,1:] != mapimg[:,:-1])\n",
    "    hor_seg = np.where(mapimg[1:,:] != mapimg[:-1,:])\n",
    "\n",
    "    l = []\n",
    "    for p in zip(*hor_seg):\n",
    "        l.append((p[1], p[0]+1))\n",
    "        l.append((p[1]+1, p[0]+1))\n",
    "        l.append((np.nan,np.nan))\n",
    "\n",
    "  # and the same for vertical segments\n",
    "    for p in zip(*ver_seg):\n",
    "        l.append((p[1]+1, p[0]))\n",
    "        l.append((p[1]+1, p[0]+1))\n",
    "        l.append((np.nan, np.nan))\n",
    "\n",
    "\n",
    "    segments = np.array(l)\n",
    "\n",
    "    x0 = -0.5\n",
    "    x1 = frame.shape[1]+x0\n",
    "    y0 = -0.5\n",
    "    y1 = frame.shape[0]+y0\n",
    "\n",
    "    #   now we need to know something about the image which is shown\n",
    "    #   at this point let's assume it has extents (x0, y0)..(x1,y1) on the axis\n",
    "    #   drawn with origin='lower'\n",
    "    # with this information we can rescale our points\n",
    "    segments[:,0] = x0 + (x1-x0) * segments[:,0] / mapimg.shape[1]\n",
    "    segments[:,1] = y0 + (y1-y0) * segments[:,1] / mapimg.shape[0]\n",
    "\n",
    "    return segments"
   ]
  },
  {
   "cell_type": "code",
   "execution_count": 15,
   "metadata": {
    "ExecuteTime": {
     "end_time": "2017-09-08T22:08:33.528135Z",
     "start_time": "2017-09-08T22:08:33.188239Z"
    }
   },
   "outputs": [
    {
     "name": "stderr",
     "output_type": "stream",
     "text": [
      "/home/jp/miniconda2/lib/python2.7/site-packages/matplotlib/axes/_axes.py:545: UserWarning: No labelled objects found. Use label='...' kwarg on individual plots.\n",
      "  warnings.warn(\"No labelled objects found. \"\n"
     ]
    },
    {
     "data": {
      "image/png": "[encoded data removed]",
      "text/plain": [
       "<matplotlib.figure.Figure at 0x7ff51310bd90>"
      ]
     },
     "metadata": {},
     "output_type": "display_data"
    }
   ],
   "source": [
    "cutoff_limit=1.1 #default from run function\n",
    "\n",
    "# Define aperture\n",
    "aperture = find_aperture(dates,fluxes,plot=True,starname=starname,outputfolder=outputfolder,kepmag=kepmag,cutoff_limit=cutoff_limit)"
   ]
  },
  {
   "cell_type": "code",
   "execution_count": 16,
   "metadata": {
    "ExecuteTime": {
     "end_time": "2017-09-08T22:08:33.717018Z",
     "start_time": "2017-09-08T22:08:33.530246Z"
    },
    "collapsed": true
   },
   "outputs": [],
   "source": [
    "def get_lightcurve(dates,fluxes,aperture,starname='',plot=True,outputfolder='',Xabs=0,Yabs=0):\n",
    "    '''\n",
    "    Go from an array of fluxes per pixel (= X,Y,time) to a light curve, \n",
    "    by summing the flux in the pixels that are included in the aperture\n",
    "    \n",
    "    Get only the fluxes that full in the aperture. \n",
    "    Since aperture is defined as 0 everywhere outside we can just multiply\n",
    "    '''\n",
    "    \n",
    "    aperture_fluxes = fluxes*aperture\n",
    "    background_fluxes = estimate_background(dates,fluxes,aperture,outputfolder=outputfolder,starname=starname)\n",
    "\n",
    "    # sum over axis 2 and 1 (the X and Y positions), (axis 0 is the time)\n",
    "    f_t = np.nansum(np.nansum(aperture_fluxes,axis=2), axis=1) - background_fluxes\n",
    "\n",
    "    # first make a matrix that contains the x and y positions\n",
    "    x_pixels = [range(0,np.shape(aperture_fluxes)[2])] * np.shape(aperture_fluxes)[1]\n",
    "    y_pixels = np.transpose([range(0,np.shape(aperture_fluxes)[1])] * np.shape(aperture_fluxes)[2])\n",
    "\n",
    "    # multiply the position matrix with the aperture fluxes to obtain x_i*f_i and y_i*f_i\n",
    "    xpos_times_flux = np.nansum( np.nansum( x_pixels*aperture_fluxes, axis=2), axis=1)\n",
    "    ypos_times_flux = np.nansum( np.nansum( y_pixels*aperture_fluxes, axis=2), axis=1)\n",
    "\n",
    "    # calculate centroids\n",
    "    Xc = xpos_times_flux / f_t\n",
    "    Yc = ypos_times_flux / f_t\n",
    "\n",
    "    # remove the empty frames (why do they happen?), they have f_t zero\n",
    "    Xc = np.array(Xc)[f_t > 0]\n",
    "    Yc = np.array(Yc)[f_t > 0]\n",
    "    dates = np.array(dates)[f_t > 0]\n",
    "    f_t = np.array(f_t)[f_t > 0]\n",
    "\n",
    "    Xc = np.array(Xc) + Xabs\n",
    "    Yc = np.array(Yc) + Yabs\n",
    "\n",
    "    if plot:\n",
    "        # plot flux and centroid curve\n",
    "        g, (ax1, ax2, ax3) = pl.subplots(3, sharex='col', num='timeseries_'+str(starname))\n",
    "        ax1.plot(np.array(dates)[f_t>0],f_t[f_t>0],'*') # little hack to avoid values 0 that will skew the plot, but they are not (yet) removed from the LC\n",
    "        ax1.set_ylabel('Flux [count]')\n",
    "        ax2.plot(dates,Xc,'*')\n",
    "        ax2.set_ylabel('Xc')\n",
    "        ax3.plot(dates,Yc,'*')\n",
    "        ax3.set_ylabel('Yc')\n",
    "        ax3.set_xlabel('Time [d]')\n",
    "        g.savefig(os.path.join(outputfolder,'flux_centroids_' + str(starname) + '.png'))\n",
    "        #pl.show()\n",
    "\n",
    "        pl.figure('Raw data')\n",
    "        pl.plot(np.array(dates)[f_t>0],f_t[f_t>0],'.',color='grey')\n",
    "        pl.xlabel('Time [d]')\n",
    "        pl.ylabel('Flux [count]')\n",
    "        pl.savefig(os.path.join(outputfolder,'raw_data_' + str(starname) + '.png'))\n",
    "    return [dates,f_t,Xc,Yc]\n",
    "\n",
    "def estimate_background(dates,fluxes,aperture,outputfolder='',starname=''):\n",
    "    #\n",
    "    # estimate the background flux level. this is just the average level of flux on the pixels after correcting for outliers (times the amount of pixels includeed)\n",
    "    # (note that this may no longer be needed in later versions of K2 data release\n",
    "    #\n",
    "\n",
    "    number_of_pixels = np.sum(aperture)\n",
    "\n",
    "    # estimate background by looking at median, after repeated clipping of what are stars.\n",
    "    i = 0\n",
    "    \n",
    "    #flux_bg_list = [np.median(sigma_clip(np.array(img).ravel(), 3,iterative=False)) for img in fluxes]\n",
    "    flux_bg_list = []\n",
    "    while i < len(fluxes):\n",
    "        flux = np.array(fluxes[i]).ravel()\n",
    "        flux_clipped = sigma_clip(flux,3,iterative=False)\n",
    "        flux_bg_list.append(np.median(flux_clipped))\n",
    "        i = i + 1\n",
    "\n",
    "    pl.figure()\n",
    "    pl.plot(dates,flux_bg_list)#,label='')\n",
    "    pl.xlabel('Time [d]')\n",
    "    pl.ylabel('Background flux / pixel')\n",
    "    pl.legend()\n",
    "    pl.savefig(os.path.join(outputfolder,'background_' + str(starname) + '.png'))\n",
    "    #pl.show()\n",
    "    background = number_of_pixels * np.array(flux_bg_list)\n",
    "    \n",
    "    return background\n",
    "\n",
    "def sigma_clip(data,sigma=3,dependent_var=None,iterative=False,top_only=False):\n",
    "  #\n",
    "  # Auxiliary to sigma clip, option to run more than once, and to include only top data points (lower outliers may be transit events so we have to be careful what we clip)\n",
    "  #\n",
    "\n",
    "    repeat=True\n",
    "    while repeat:\n",
    "        # sigma clip data for outliers beyond sigma\n",
    "        data = np.array(data)\n",
    "        mean = np.nanmean(data)\n",
    "        std = np.nanstd(data)\n",
    "        \n",
    "        if top_only:\n",
    "            unclipped = (data < (mean + sigma*std))\n",
    "        else:\n",
    "            unclipped = (data < (mean + sigma*std))*(data > (mean - sigma*std)) # array of true and false\n",
    "\n",
    "        data = data[unclipped]\n",
    "\n",
    "        if dependent_var is not None:\n",
    "            dependent_var = np.array(dependent_var)\n",
    "            dependent_var = dependent_var[unclipped]\n",
    "\n",
    "        if (iterative and (np.sum(~unclipped) > 0)):\n",
    "          #\tprint 'Data points removed:'\n",
    "          #print np.sum(~unclipped)\n",
    "          #print 'Repeating..'\n",
    "          repeat = True\n",
    "\n",
    "        else:\n",
    "            #print 'End of sigma clipping, data points removed:'\n",
    "            #print np.sum(~unclipped)\n",
    "            repeat = False\n",
    "\n",
    "\n",
    "    if dependent_var is not None:\n",
    "        return [data,dependent_var]\n",
    "    else:\n",
    "        return data"
   ]
  },
  {
   "cell_type": "code",
   "execution_count": 17,
   "metadata": {
    "ExecuteTime": {
     "end_time": "2017-09-08T22:08:35.259386Z",
     "start_time": "2017-09-08T22:08:33.719085Z"
    }
   },
   "outputs": [
    {
     "data": {
      "image/png": "[encoded data removed]",
      "text/plain": [
       "<matplotlib.figure.Figure at 0x7ff50cd03190>"
      ]
     },
     "metadata": {},
     "output_type": "display_data"
    },
    {
     "data": {
      "image/png": "[encoded data removed]",
      "text/plain": [
       "<matplotlib.figure.Figure at 0x7ff5043f5850>"
      ]
     },
     "metadata": {},
     "output_type": "display_data"
    },
    {
     "data": {
      "image/png": "[encoded data removed]",
      "text/plain": [
       "<matplotlib.figure.Figure at 0x7ff50421e5d0>"
      ]
     },
     "metadata": {},
     "output_type": "display_data"
    }
   ],
   "source": [
    "# Create light curve out of fluxes and a fixel aperture\n",
    "t,f_t,Xc,Yc = get_lightcurve(dates,fluxes,aperture,starname=starname,outputfolder=outputfolder,Xabs=Xabs,Yabs=Yabs)"
   ]
  },
  {
   "cell_type": "code",
   "execution_count": 18,
   "metadata": {
    "ExecuteTime": {
     "end_time": "2017-09-08T22:08:35.280226Z",
     "start_time": "2017-09-08T22:08:35.261641Z"
    },
    "collapsed": true
   },
   "outputs": [],
   "source": [
    "def remove_known_outliers(t,f_t,Xc,Yc):\n",
    "    # remove predefined known outliers\n",
    "\n",
    "    t = np.array(t)\n",
    "    f_t = np.array(f_t)\n",
    "    Xc = np.array(Xc)\n",
    "    Yc = np.array(Yc)\n",
    "    pl.figure()\n",
    "    pl.plot(t,f_t,'r.')\n",
    "    outlier1 = [2064.11,2064.58] # some very large outliers\n",
    "    outlier2 = [2060.0,2061.4] # very first day is not great\n",
    "    outliers = [outlier1,outlier2]\n",
    "    i = 0\n",
    "    while i < len(outliers):\n",
    "        mask = ~( (t > outliers[i][0])*(t < outliers[i][1]))\n",
    "        t = t[mask]\n",
    "        f_t = f_t[mask]\n",
    "        Xc = Xc[mask]\n",
    "        Yc = Yc[mask]\n",
    "        i = i + 1\n",
    "\n",
    "        pl.plot(t,f_t,'b.')\n",
    "\n",
    "    return t,f_t,Xc,Yc"
   ]
  },
  {
   "cell_type": "code",
   "execution_count": 19,
   "metadata": {
    "ExecuteTime": {
     "end_time": "2017-09-08T22:08:35.506528Z",
     "start_time": "2017-09-08T22:08:35.282143Z"
    }
   },
   "outputs": [
    {
     "data": {
      "image/png": "[encoded data removed]",
      "text/plain": [
       "<matplotlib.figure.Figure at 0x7ff5040b9b50>"
      ]
     },
     "metadata": {},
     "output_type": "display_data"
    }
   ],
   "source": [
    "t,f_t,Xc,Yc = remove_known_outliers(t,f_t,Xc,Yc)"
   ]
  },
  {
   "cell_type": "code",
   "execution_count": 20,
   "metadata": {
    "ExecuteTime": {
     "end_time": "2017-09-08T22:08:35.527838Z",
     "start_time": "2017-09-08T22:08:35.508594Z"
    },
    "collapsed": true
   },
   "outputs": [],
   "source": [
    "def gotoflux(starname,outputpath='',inputpath='',cutoff_limit=2.): #,campaign=1:\n",
    "    '''\n",
    "    Read a specific pixel file and extract a light curve from it\n",
    "    '''\n",
    "    #filename = 'ktwo' + starname + '-c0' + str(campaign) + '_lpd-targ.fits' # filename as downloaded from MAST\n",
    "    filename = 'ktwo' + starname + '_lpd-targ.fits' # filename as downloaded from MAST\n",
    "\n",
    "    outputfolder = os.path.join(outputpath,str(starname))\n",
    "    if not os.path.exists(outputfolder):\n",
    "        os.makedirs(outputfolder)\n",
    "\n",
    "    # Read fluxes per (X,Y) over time\n",
    "    dates,fluxes,kepmag,Xabs,Yabs = get_pixelfluxes(filename,inputfolder=inputpath,outputfolder=outputfolder,starname=starname)\n",
    "\n",
    "    # Define aperture\n",
    "    aperture = find_aperture(dates,fluxes,plot=True,starname=starname,outputfolder=outputfolder,kepmag=kepmag,cutoff_limit=cutoff_limit)\n",
    "\n",
    "    # Create light curve out of fluxes and a fixel aperture\n",
    "    t,f_t,Xc,Yc = get_lightcurve(dates,fluxes,aperture,starname=starname,outputfolder=outputfolder,Xabs=Xabs,Yabs=Yabs)\n",
    "\n",
    "    # Remove simple known outliers\n",
    "    t,f_t,Xc,Yc = remove_known_outliers(t,f_t,Xc,Yc)\n",
    "\n",
    "    np.savetxt(os.path.join(outputfolder,'lightcurve_raw_' + str(starname) + '.txt'),np.transpose([t,f_t,Xc,Yc]),header='Time, flux, Xc, Yc')\n",
    "    np.savetxt(os.path.join(outputfolder,'centroids_' + str(starname) + '.txt'),np.transpose([t,Xc,Yc]),header='Time, Xc, Yc')\n",
    "\n",
    "\n",
    "    return [t,f_t,Xc,Yc]"
   ]
  },
  {
   "cell_type": "markdown",
   "metadata": {
    "collapsed": true
   },
   "source": [
    "## Final pixeltoflux"
   ]
  },
  {
   "cell_type": "code",
   "execution_count": 21,
   "metadata": {
    "ExecuteTime": {
     "end_time": "2017-09-08T22:08:36.303236Z",
     "start_time": "2017-09-08T22:08:35.530657Z"
    },
    "collapsed": true
   },
   "outputs": [],
   "source": [
    "from astropy.io import fits\n",
    "import numpy as np\n",
    "import matplotlib.pyplot as pl\n",
    "from scipy.ndimage import measurements\n",
    "import matplotlib as mpl\n",
    "from matplotlib.colors import LogNorm\n",
    "\n",
    "def gotoflux(starname,outputpath='',inputpath='',cutoff_limit=2.): #,campaign=1:\n",
    "    '''\n",
    "    Read a specific pixel file and extract a light curve from it\n",
    "    '''\n",
    "    #filename = 'ktwo' + starname + '-c0' + str(campaign) + '_lpd-targ.fits' # filename as downloaded from MAST\n",
    "    filename = 'ktwo' + starname + '_lpd-targ.fits'\n",
    "\n",
    "    outputfolder = os.path.join(outputpath,str(starname))\n",
    "    if not os.path.exists(outputfolder):\n",
    "        os.makedirs(outputfolder)\n",
    "\n",
    "    # Read fluxes per (X,Y) over time\n",
    "    dates,fluxes,kepmag,Xabs,Yabs = get_pixelfluxes(filename,inputfolder=inputpath,outputfolder=outputfolder,starname=starname)\n",
    "\n",
    "    # Define aperture\n",
    "    aperture = find_aperture(dates,fluxes,plot=True,starname=starname,outputfolder=outputfolder,kepmag=kepmag,cutoff_limit=cutoff_limit)\n",
    "\n",
    "    # Create light curve out of fluxes and a fixel aperture\n",
    "    t,f_t,Xc,Yc = get_lightcurve(dates,fluxes,aperture,starname=starname,outputfolder=outputfolder,Xabs=Xabs,Yabs=Yabs)\n",
    "\n",
    "    # Remove simple known outliers\n",
    "    t,f_t,Xc,Yc = remove_known_outliers(t,f_t,Xc,Yc)\n",
    "\n",
    "    np.savetxt(os.path.join(outputfolder,'lightcurve_raw_' + str(starname) + '.txt'),np.transpose([t,f_t,Xc,Yc]),header='Time, flux, Xc, Yc')\n",
    "    np.savetxt(os.path.join(outputfolder,'centroids_' + str(starname) + '.txt'),np.transpose([t,Xc,Yc]),header='Time, Xc, Yc')\n",
    "\n",
    "\n",
    "    return [t,f_t,Xc,Yc]\n",
    "\n",
    "def find_aperture(dates,fluxes,plot=False,starname='',outputfolder='',kepmag='na',cutoff_limit=2.):\n",
    "  #\n",
    "  # This definition reads a 2D array of fluxes (over time) and creates an aperture mask which can later be used to select those pixels for inclusion in light curve\n",
    "  #\n",
    "\n",
    "  # first sum all the flux over the different times, this assumes limited movement throughout the time series\n",
    "    flux = np.nansum(fluxes,axis=0)\n",
    "\n",
    "    # define which cutoff flux to use for including pixel in mask\n",
    "    cutoff = cutoff_limit*np.median(flux) # perhaps a more elaborate way to define this could be found in the future but this seems to work pretty well.\n",
    "\n",
    "    # define the aperture based on cutoff and make it into array of 1 and 0\n",
    "    aperture =  np.array([flux > cutoff]) #scipy.zeros((np.shape(flux)[0],np.shape(flux)[1]), int)\n",
    "    aperture = np.array(1*aperture)\n",
    "    #print aperture\n",
    "    outline_all = make_aperture_outline(aperture[0]) # an outline (ONLY for figure) of what we are including if we would make no breakups\n",
    "\n",
    "    # this cool little trick allows us to measure distinct blocks of apertures, and only select the biggest one\n",
    "    lw, num = measurements.label(aperture) # this numbers the different apertures distinctly\n",
    "    area = measurements.sum(aperture, lw, index=np.arange(lw.max() + 1)) # this measures the size of the apertures\n",
    "    aperture = area[lw].astype(int) # this replaces the 1s by the size of the aperture\n",
    "    aperture = (aperture >= np.max(aperture))*1 # remake into 0s and 1s but only keep the largest aperture\n",
    "\n",
    "    outline = make_aperture_outline(aperture[0]) # a new outline (ONLY for figure)\n",
    "\n",
    "    if plot: # make aperture figure\n",
    "        if not os.path.exists(outputfolder):\n",
    "            os.makedirs(outputfolder)\n",
    "        cmap = mpl.cm.get_cmap('Greys', 20)\n",
    "        pl.figure('Aperture_' + str(starname))\n",
    "        pl.imshow(flux,norm=LogNorm(),interpolation=\"none\")#,cmap=cmap)\n",
    "        pl.plot(outline_all[:, 0], outline_all[:, 1],color='green', zorder=10, lw=2.5)\n",
    "        pl.plot(outline[:, 0], outline[:, 1],color='red', zorder=10, lw=2.5)#,label=str(kepmag))\n",
    "\n",
    "        #pl.colorbar(orientation='vertical')\n",
    "        pl.xlabel('X',fontsize=15)\n",
    "        pl.ylabel('Y',fontsize=15)\n",
    "        pl.legend()\n",
    "        #pl.xlim([-1,18])\n",
    "        #pl.ylim([-1,16])\n",
    "        #pl.xticks([0,5,10,15])\n",
    "        #pl.yticks([0,5,10,15])\n",
    "        pl.tight_layout()\n",
    "        pl.savefig(os.path.join(outputfolder,'aperture_' + str(starname)+'.pdf'))\n",
    "        #pl.close()\n",
    "        #pl.show()\n",
    "    return aperture\n",
    "\n",
    "def make_aperture_outline(frame, no_combined_images=1, threshold=0.5):\n",
    "    ## this is a little module that defines so called outlines to be used for plotting apertures\n",
    "\n",
    "    thres_val = no_combined_images * threshold\n",
    "    mapimg = (frame > thres_val)\n",
    "    ver_seg = np.where(mapimg[:,1:] != mapimg[:,:-1])\n",
    "    hor_seg = np.where(mapimg[1:,:] != mapimg[:-1,:])\n",
    "\n",
    "    l = []\n",
    "    for p in zip(*hor_seg):\n",
    "        l.append((p[1], p[0]+1))\n",
    "        l.append((p[1]+1, p[0]+1))\n",
    "        l.append((np.nan,np.nan))\n",
    "\n",
    "  # and the same for vertical segments\n",
    "    for p in zip(*ver_seg):\n",
    "        l.append((p[1]+1, p[0]))\n",
    "        l.append((p[1]+1, p[0]+1))\n",
    "        l.append((np.nan, np.nan))\n",
    "\n",
    "\n",
    "    segments = np.array(l)\n",
    "\n",
    "    x0 = -0.5\n",
    "    x1 = frame.shape[1]+x0\n",
    "    y0 = -0.5\n",
    "    y1 = frame.shape[0]+y0\n",
    "\n",
    "    #   now we need to know something about the image which is shown\n",
    "    #   at this point let's assume it has extents (x0, y0)..(x1,y1) on the axis\n",
    "    #   drawn with origin='lower'\n",
    "    # with this information we can rescale our points\n",
    "    segments[:,0] = x0 + (x1-x0) * segments[:,0] / mapimg.shape[1]\n",
    "    segments[:,1] = y0 + (y1-y0) * segments[:,1] / mapimg.shape[0]\n",
    "\n",
    "    return segments\n",
    "\n",
    "def get_lightcurve(dates,fluxes,aperture,starname='',plot=True,outputfolder='',Xabs=0,Yabs=0):\n",
    "    '''\n",
    "    Go from an array of fluxes per pixel (= X,Y,time) to a light curve, \n",
    "    by summing the flux in the pixels that are included in the aperture\n",
    "    \n",
    "    Get only the fluxes that full in the aperture. \n",
    "    Since aperture is defined as 0 everywhere outside we can just multiply\n",
    "    '''\n",
    "    \n",
    "    aperture_fluxes = fluxes*aperture\n",
    "    background_fluxes = estimate_background(dates,fluxes,aperture,outputfolder=outputfolder,starname=starname)\n",
    "\n",
    "    # sum over axis 2 and 1 (the X and Y positions), (axis 0 is the time)\n",
    "    f_t = np.nansum(np.nansum(aperture_fluxes,axis=2), axis=1) - background_fluxes\n",
    "\n",
    "    # first make a matrix that contains the x and y positions\n",
    "    x_pixels = [range(0,np.shape(aperture_fluxes)[2])] * np.shape(aperture_fluxes)[1]\n",
    "    y_pixels = np.transpose([range(0,np.shape(aperture_fluxes)[1])] * np.shape(aperture_fluxes)[2])\n",
    "\n",
    "    # multiply the position matrix with the aperture fluxes to obtain x_i*f_i and y_i*f_i\n",
    "    xpos_times_flux = np.nansum( np.nansum( x_pixels*aperture_fluxes, axis=2), axis=1)\n",
    "    ypos_times_flux = np.nansum( np.nansum( y_pixels*aperture_fluxes, axis=2), axis=1)\n",
    "\n",
    "    # calculate centroids\n",
    "    Xc = xpos_times_flux / f_t\n",
    "    Yc = ypos_times_flux / f_t\n",
    "\n",
    "    # remove the empty frames (why do they happen?), they have f_t zero\n",
    "    Xc = np.array(Xc)[f_t > 0]\n",
    "    Yc = np.array(Yc)[f_t > 0]\n",
    "    dates = np.array(dates)[f_t > 0]\n",
    "    f_t = np.array(f_t)[f_t > 0]\n",
    "\n",
    "    Xc = np.array(Xc) + Xabs\n",
    "    Yc = np.array(Yc) + Yabs\n",
    "\n",
    "    if plot:\n",
    "        # plot flux and centroid curve\n",
    "        g, (ax1, ax2, ax3) = pl.subplots(3, sharex='col', num='timeseries_'+str(starname))\n",
    "        ax1.plot(np.array(dates)[f_t>0],f_t[f_t>0],'*') # little hack to avoid values 0 that will skew the plot, but they are not (yet) removed from the LC\n",
    "        ax1.set_ylabel('Flux [count]')\n",
    "        ax2.plot(dates,Xc,'*')\n",
    "        ax2.set_ylabel('Xc')\n",
    "        ax3.plot(dates,Yc,'*')\n",
    "        ax3.set_ylabel('Yc')\n",
    "        ax3.set_xlabel('Time [d]')\n",
    "        g.savefig(os.path.join(outputfolder,'flux_centroids_' + str(starname) + '.png'))\n",
    "        #pl.show()\n",
    "\n",
    "        pl.figure('Raw data')\n",
    "        pl.plot(np.array(dates)[f_t>0],f_t[f_t>0],'.',color='grey')\n",
    "        pl.xlabel('Time [d]')\n",
    "        pl.ylabel('Flux [count]')\n",
    "        pl.savefig(os.path.join(outputfolder,'raw_data_' + str(starname) + '.png'))\n",
    "    return [dates,f_t,Xc,Yc]\n",
    "\n",
    "def estimate_background(dates,fluxes,aperture,outputfolder='',starname=''):\n",
    "    #\n",
    "    # estimate the background flux level. this is just the average level of flux on the pixels after correcting for outliers (times the amount of pixels includeed)\n",
    "    # (note that this may no longer be needed in later versions of K2 data release\n",
    "    #\n",
    "\n",
    "    number_of_pixels = np.sum(aperture)\n",
    "\n",
    "    # estimate background by looking at median, after repeated clipping of what are stars.\n",
    "    i = 0\n",
    "    \n",
    "    #flux_bg_list = [np.median(sigma_clip(np.array(img).ravel(), 3,iterative=False)) for img in fluxes]\n",
    "    flux_bg_list = []\n",
    "    while i < len(fluxes):\n",
    "        flux = np.array(fluxes[i]).ravel()\n",
    "        flux_clipped = sigma_clip(flux,3,iterative=False)\n",
    "        flux_bg_list.append(np.median(flux_clipped))\n",
    "        i = i + 1\n",
    "\n",
    "    pl.figure()\n",
    "    pl.plot(dates,flux_bg_list)#,label='')\n",
    "    pl.xlabel('Time [d]')\n",
    "    pl.ylabel('Background flux / pixel')\n",
    "    pl.legend()\n",
    "    pl.savefig(os.path.join(outputfolder,'background_' + str(starname) + '.png'))\n",
    "    #pl.show()\n",
    "    background = number_of_pixels * np.array(flux_bg_list)\n",
    "    \n",
    "    return background\n",
    "\n",
    "def sigma_clip(data,sigma=3,dependent_var=None,iterative=False,top_only=False):\n",
    "  #\n",
    "  # Auxiliary to sigma clip, option to run more than once, and to include only top data points (lower outliers may be transit events so we have to be careful what we clip)\n",
    "  #\n",
    "\n",
    "    repeat=True\n",
    "    while repeat:\n",
    "        # sigma clip data for outliers beyond sigma\n",
    "        data = np.array(data)\n",
    "        mean = np.nanmean(data)\n",
    "        std = np.nanstd(data)\n",
    "        \n",
    "        if top_only:\n",
    "            unclipped = (data < (mean + sigma*std))\n",
    "        else:\n",
    "            unclipped = (data < (mean + sigma*std))*(data > (mean - sigma*std)) # array of true and false\n",
    "\n",
    "        data = data[unclipped]\n",
    "\n",
    "        if dependent_var is not None:\n",
    "            dependent_var = np.array(dependent_var)\n",
    "            dependent_var = dependent_var[unclipped]\n",
    "\n",
    "        if (iterative and (np.sum(~unclipped) > 0)):\n",
    "          #\tprint 'Data points removed:'\n",
    "          #print np.sum(~unclipped)\n",
    "          #print 'Repeating..'\n",
    "          repeat = True\n",
    "\n",
    "        else:\n",
    "            #print 'End of sigma clipping, data points removed:'\n",
    "            #print np.sum(~unclipped)\n",
    "            repeat = False\n",
    "\n",
    "\n",
    "    if dependent_var is not None:\n",
    "        return [data,dependent_var]\n",
    "    else:\n",
    "        return data\n",
    "    \n",
    "def remove_known_outliers(t,f_t,Xc,Yc):\n",
    "    # remove predefined known outliers\n",
    "\n",
    "    t = np.array(t)\n",
    "    f_t = np.array(f_t)\n",
    "    Xc = np.array(Xc)\n",
    "    Yc = np.array(Yc)\n",
    "    pl.figure()\n",
    "    pl.plot(t,f_t,'r.')\n",
    "    outlier1 = [2064.11,2064.58] # some very large outliers\n",
    "    outlier2 = [2060.0,2061.4] # very first day is not great\n",
    "    outliers = [outlier1,outlier2]\n",
    "    i = 0\n",
    "    while i < len(outliers):\n",
    "        mask = ~( (t > outliers[i][0])*(t < outliers[i][1]))\n",
    "        t = t[mask]\n",
    "        f_t = f_t[mask]\n",
    "        Xc = Xc[mask]\n",
    "        Yc = Yc[mask]\n",
    "        i = i + 1\n",
    "\n",
    "        pl.plot(t,f_t,'b.')\n",
    "\n",
    "    return t,f_t,Xc,Yc"
   ]
  },
  {
   "cell_type": "code",
   "execution_count": 22,
   "metadata": {
    "ExecuteTime": {
     "end_time": "2017-09-08T22:08:38.339742Z",
     "start_time": "2017-09-08T22:08:36.305885Z"
    }
   },
   "outputs": [
    {
     "data": {
      "image/png": "[encoded data removed]",
      "text/plain": [
       "<matplotlib.figure.Figure at 0x7ff504478090>"
      ]
     },
     "metadata": {},
     "output_type": "display_data"
    },
    {
     "data": {
      "image/png": "[encoded data removed]",
      "text/plain": [
       "<matplotlib.figure.Figure at 0x7ff50403c690>"
      ]
     },
     "metadata": {},
     "output_type": "display_data"
    },
    {
     "data": {
      "image/png": "[encoded data removed]",
      "text/plain": [
       "<matplotlib.figure.Figure at 0x7ff504159750>"
      ]
     },
     "metadata": {},
     "output_type": "display_data"
    },
    {
     "data": {
      "image/png": "[encoded data removed]",
      "text/plain": [
       "<matplotlib.figure.Figure at 0x7ff5043ada90>"
      ]
     },
     "metadata": {},
     "output_type": "display_data"
    },
    {
     "data": {
      "image/png": "[encoded data removed]",
      "text/plain": [
       "<matplotlib.figure.Figure at 0x7ff5043ec250>"
      ]
     },
     "metadata": {},
     "output_type": "display_data"
    }
   ],
   "source": [
    "gotoflux(starnames[1],outputpath='.',inputpath=inputpath,cutoff_limit=1.1);"
   ]
  },
  {
   "cell_type": "markdown",
   "metadata": {},
   "source": [
    "## 2. centroidfit"
   ]
  },
  {
   "cell_type": "code",
   "execution_count": 23,
   "metadata": {
    "ExecuteTime": {
     "end_time": "2017-09-08T22:18:32.214168Z",
     "start_time": "2017-09-08T22:18:31.171507Z"
    },
    "collapsed": true
   },
   "outputs": [],
   "source": [
    "'''\n",
    "% Routines to go from MAST pixel files to light curves. Use run_pipeline.run() for regular use of this, or run gotoflux()\n",
    "% Author Vincent Van Eylen\n",
    "% Contact vincent@phys.au.dk\n",
    "% See Van Eylen et al. 2015 (ApJ) for details. Please reference this work if you found this code helpful!\n",
    "'''\n",
    "\n",
    "# general python files\n",
    "import os\n",
    "import matplotlib.pyplot as pl\n",
    "import numpy as np\n",
    "from lmfit import minimize, Parameters\n",
    "\n",
    "# pipeline files\n",
    "from auxiliaries import *\n",
    "\n",
    "\n",
    "def sliceIterator(lst, sliceLen):\n",
    "    for i in range(len(lst) - sliceLen + 1):\n",
    "        yield lst[i:i + sliceLen]\n",
    "\n",
    "        \n",
    "def chunks(l, n):\n",
    "    \"\"\" \n",
    "    Yield successive n-sized chunks from l.\n",
    "    \"\"\"\n",
    "    for i in xrange(0, len(l), n):\n",
    "        yield l[i:i+n]\n",
    "\n",
    "        \n",
    "def median_filter(time,data,binsize=100):\n",
    "  # do a running median filter dividing all data points by the median of their immediate surroundings\n",
    "    i = 0\n",
    "    data_filtered = []\n",
    "    while i < len(time):\n",
    "        bin_begin = max(0, (i - binsize/2))\n",
    "        bin_end = min(len(time),(i+binsize/2))\n",
    "        the_bin = data[bin_begin:bin_end]\n",
    "        the_bin = sorted(the_bin)\n",
    "        median = np.median(the_bin) #[len(the_bin)/2]\n",
    "        data_filtered.append(data[i]/median)\n",
    "        i = i + 1\n",
    "    return data_filtered\n",
    "\n",
    "\n",
    "def spitzer_residual(params,time,data,Xc,Yc,robust=True):\n",
    "    '''\n",
    "    residual function used for calculating a fit to centroid (and time), \n",
    "    borrowed from reducing data for Spitzer\n",
    "    '''\n",
    "\n",
    "    # unpack all parameters (note: some may be fixed rather than variable)\n",
    "    X1 = params['X1'].value\n",
    "    X2 = params['X2'].value\n",
    "    X3 = params['X3'].value\n",
    "    Y1 = params['Y1'].value\n",
    "    Y2 = params['Y2'].value\n",
    "    Y3 = params['Y3'].value\n",
    "    XY1 = params['XY1'].value\n",
    "    XY2 = params['XY2'].value\n",
    "    T0 = params['T0'].value\n",
    "    T1 = params['T1'].value\n",
    "    T2 = params['T2'].value\n",
    "    T3 = params['T3'].value\n",
    "    T4 = params['T4'].value\n",
    "    TsinAmp = params['TsinAmp'].value\n",
    "    TsinOff = params['TsinOff'].value\n",
    "\n",
    "    mean_Xc = np.array(0.) #np.mean(Xc)\n",
    "    mean_Yc = np.array(0.) #np.mean(Yc)\n",
    "    time0 = time[0] - 1.#np.array(1994.0) #time[0]-1.\n",
    "\n",
    "    model = (T0 + TsinAmp*np.sin((time-time0)+TsinOff) + T1*(time-time0) + T2*((time-time0)**2.) + T3*((time-time0)**3.) + T4*((time-time0)**4.) + X1*(Xc-mean_Xc) + X2*((Xc-mean_Xc)**2) + X3*((Xc-mean_Xc)**3) + Y1*(Yc-mean_Yc) + Y2*((Yc-mean_Yc)**2) + Y3*((Yc-mean_Yc)**3) + XY1*(Xc-mean_Xc)*(Yc-mean_Yc) + XY2*((Xc-mean_Xc)**2)*((Yc-mean_Yc)**2))\n",
    "\n",
    "    residual = np.array(data-model)\n",
    "\n",
    "    if robust:\n",
    "        # calculate residual in a robust way\n",
    "        residual = residual[np.abs(residual) < np.mean(residual) + 3.*np.std(residual)]\n",
    "\n",
    "    return residual\n",
    "\n",
    "\n",
    "def find_thruster_events(time,data,Xc,Yc,outputpath='',starname=''):\n",
    "    '''\n",
    "    Find events when the spacecruft thruster are fired. \n",
    "    Usually no useful data points are gathered when this happens\n",
    "    '''\n",
    "\n",
    "    diff_centroid = np.diff(Xc)**2 + np.diff(Yc)**2\n",
    "\n",
    "    thruster_mask = diff_centroid < (1.5*np.mean(diff_centroid) + 0.*np.std(diff_centroid))\n",
    "    thruster_mask1 = np.insert(thruster_mask,0, False) # this little trick helps us remove 2 data points each time instead of just 1\n",
    "    thruster_mask2 = np.append(thruster_mask,False)\n",
    "    thruster_mask = thruster_mask1*thruster_mask2\n",
    "\n",
    "    time_thruster = time[ thruster_mask ]\n",
    "    diff_centroid_thruster = diff_centroid[ thruster_mask[1:] ]\n",
    "\n",
    "    Xc_clipped = Xc[:][thruster_mask]\n",
    "    Yc_clipped = Yc[:][thruster_mask]\n",
    "    time_clipped = time[:][thruster_mask]\n",
    "    data_clipped = data[:][thruster_mask]\n",
    "\n",
    "\n",
    "    #pl.figure('Data with / without thruster events')\n",
    "    #pl.plot(time,data)\n",
    "    #pl.plot(time_clipped,data_clipped)\n",
    "    #pl.figure('Differential of centroid movement')\n",
    "    #pl.plot(time[1:],diff_centroid)\n",
    "    #pl.plot(time_thruster,diff_centroid_thruster,'*')\n",
    "\n",
    "    pl.figure()\n",
    "    pl.plot(time_clipped,data_clipped)\n",
    "    pl.savefig(os.path.join(outputpath,'raw_nothrusters_' + str(starname) + '.png'))\n",
    "    np.savetxt(os.path.join(outputpath, 'lightcurve_raw_nothrusters_' + str(starname) + '.txt'),np.transpose([time_clipped,np.array(data_clipped)/np.mean(data_clipped)]),header='Time, Flux')\n",
    "\n",
    "    return [time_clipped,data_clipped,Xc_clipped,Yc_clipped]\n",
    "\n",
    "\n",
    "def clean_data(time,data):\n",
    "    '''\n",
    "    Module for basic data cleaning up\n",
    "    '''\n",
    "\n",
    "    time = time[0:]\n",
    "    data = data[0:]\n",
    "\n",
    "    pl.figure('Cleaning up')\n",
    "    #pl.plot(time,data,'.')\n",
    "    [data,time] = sigma_clip(data,3,dependent_var=time,top_only=True) # do sigma-clipping (but only at the top of light curve, in bottom outliers may be transit events\n",
    "    [data,time] = sigma_clip(data,3,dependent_var=time,top_only=True)\n",
    "\n",
    "    [data,time,lowerbound,upperbound] = running_sigma_clip(data,8,binsize=10,dependent_var=time)\n",
    "    pl.plot(time,data,'.',color='grey')\n",
    "    pl.xlabel('Time [d]')\n",
    "    pl.ylabel('Relative flux')\n",
    "    return time,data\n",
    "\n",
    "\n",
    "def spitzer_fit(time,data,Xc,Yc,starname='',outputpath='',chunksize=300):\n",
    "    '''\n",
    "    Fit a polynomial to the data and return corrected data\n",
    "    '''\n",
    "\n",
    "    outputfolder = os.path.join(outputpath,str(starname))\n",
    "\n",
    "    # Remove NaN etc.\n",
    "    time = np.array(time)[np.array(time) > 0.]\n",
    "    data = np.array(data)[np.array(time) > 0.]\n",
    "    Xc = np.array(Xc)[np.array(time) > 0.]\n",
    "    Yc = np.array(Yc)[np.array(time) > 0.]\n",
    "\n",
    "    data = np.array(data) / np.mean(data)\n",
    "\n",
    "    params = Parameters() # fitting parameters, set to vary=false to fix\n",
    "    params.add('X1', value = 0.,vary=True)\n",
    "    params.add('X2', value = 0.,vary=True)\n",
    "    params.add('X3', value = 0.,vary=True)\n",
    "    params.add('Y1', value = 0.,vary=True)\n",
    "    params.add('Y2', value = 0.,vary=True)\n",
    "    params.add('Y3', value = 0.,vary=True)\n",
    "    params.add('XY1', value = 0.,vary=True)\n",
    "    params.add('XY2', value = 0.,vary=False)\n",
    "    params.add('T0', value = 0.,vary=True)\n",
    "    params.add('T1', value = 0.,vary=True)\n",
    "    params.add('T2', value = 0.,vary=True) #\n",
    "    params.add('T3', value = 0.,vary=True) #\n",
    "    params.add('T4', value = 0.,vary=False)\n",
    "    params.add('TsinAmp', value = 0.,vary=False)\n",
    "    params.add('TsinOff', value = 0.,vary=False)\n",
    "\n",
    "    # first divide data in different chunks\n",
    "    chunksize=chunksize\n",
    "    time_chunks = list(chunks(time,chunksize))\n",
    "    data_chunks = list(chunks(data,chunksize))\n",
    "    Xc_chunks = list(chunks(Xc,chunksize))\n",
    "    Yc_chunks = list(chunks(Yc,chunksize))\n",
    "\n",
    "    i = 0\n",
    "    corrected_data = []\n",
    "    pl.figure('Data correction Spitzer ' + str(starname))\n",
    "    while i < len(time_chunks):\n",
    "        fit = minimize(spitzer_residual, params, args=(time_chunks[i],data_chunks[i],Xc_chunks[i],Yc_chunks[i],False))#,method='leastsq') # first fit is not robust, to get a good first estimate\n",
    "        fit = minimize(spitzer_residual, fit.params, args=(time_chunks[i],data_chunks[i],Xc_chunks[i],Yc_chunks[i],True))\n",
    "\n",
    "        final_model = data_chunks[i] - spitzer_residual(fit.params,time_chunks[i],data_chunks[i],Xc_chunks[i],Yc_chunks[i],robust=False)\n",
    "        corrected_data.append(data_chunks[i] - final_model) # + np.mean(data_chunks[i])\n",
    "\n",
    "        pl.figure('Data correction Spitzer ' + str(starname))\n",
    "        pl.plot(time_chunks[i],data_chunks[i],'*',label='Raw data')\n",
    "        pl.plot(time_chunks[i],final_model,'*',label='Modeled data')\n",
    "\n",
    "        pl.figure('Corrected data Spitzer ' + str(starname))\n",
    "        pl.plot(time_chunks[i],corrected_data[i],'*')#,label='Corrected data')\n",
    "\n",
    "        i = i + 1\n",
    "    pl.legend()\n",
    "    pl.savefig(os.path.join(outputfolder, 'centroiddetrended_lightcurve_' + str(starname) + '.png'))\n",
    "\n",
    "\n",
    "    import itertools # to go from list of lists to one list again\n",
    "    corrected_time = list(itertools.chain(*time_chunks))\n",
    "    corrected_data = list(itertools.chain(*corrected_data))\n",
    "\n",
    "    # finally do a broad running median filtering to remove remaining trends. can be turned off if one wants to keep long term trends\n",
    "    corrected_data = np.array(median_filter(corrected_time,np.array(corrected_data)+1.,49))-1. #\n",
    "    corrected_data = np.array(median_filter(corrected_time,np.array(corrected_data)+1.,49))-1. #\n",
    "\n",
    "    return [corrected_time,corrected_data]"
   ]
  },
  {
   "cell_type": "code",
   "execution_count": 25,
   "metadata": {
    "ExecuteTime": {
     "end_time": "2017-09-08T22:19:09.308417Z",
     "start_time": "2017-09-08T22:19:08.980060Z"
    }
   },
   "outputs": [
    {
     "data": {
      "image/png": "[encoded data removed]",
      "text/plain": [
       "<matplotlib.figure.Figure at 0x7ff50431f450>"
      ]
     },
     "metadata": {},
     "output_type": "display_data"
    }
   ],
   "source": [
    "t,f_t,Xc,Yc = find_thruster_events(t,f_t,Xc,Yc,starname=starname,outputpath=outputfolder)"
   ]
  },
  {
   "cell_type": "code",
   "execution_count": 30,
   "metadata": {
    "ExecuteTime": {
     "end_time": "2017-09-08T22:21:57.470347Z",
     "start_time": "2017-09-08T22:21:54.500140Z"
    }
   },
   "outputs": [
    {
     "name": "stderr",
     "output_type": "stream",
     "text": [
      "/home/jp/miniconda2/lib/python2.7/site-packages/numpy/lib/function_base.py:3858: RuntimeWarning: Invalid value encountered in median\n",
      "  r = func(a, **kwargs)\n",
      "auxiliaries.py:91: RuntimeWarning: invalid value encountered in less\n",
      "  unclipped = (data < (mean + sigma*std))\n"
     ]
    },
    {
     "data": {
      "image/png": "[encoded data removed]",
      "text/plain": [
       "<matplotlib.figure.Figure at 0x7ff4ff8a3f90>"
      ]
     },
     "metadata": {},
     "output_type": "display_data"
    },
    {
     "data": {
      "image/png": "[encoded data removed]",
      "text/plain": [
       "<matplotlib.figure.Figure at 0x7ff4ff804610>"
      ]
     },
     "metadata": {},
     "output_type": "display_data"
    },
    {
     "data": {
      "image/png": "[encoded data removed]",
      "text/plain": [
       "<matplotlib.figure.Figure at 0x7ff504227c50>"
      ]
     },
     "metadata": {},
     "output_type": "display_data"
    }
   ],
   "source": [
    "chunksize=300\n",
    "\n",
    "# now fit a polynomial to the data (inspired by Spitzer data reduction), ignore first data points which are not usually very high-qual\n",
    "[t,f_t] = spitzer_fit(t[90:],f_t[90:],Xc[90:],Yc[90:],starname=starname,outputpath='.',chunksize=chunksize)\n",
    "[t,f_t] = clean_data(t,f_t) # do a bit of cleaning\n",
    "outputlightcurvefolder = os.path.join(outputfolder,'lcs/') # one may want to put the LCs in a different folder e.g. to keep all together\n",
    "\n",
    "if not os.path.exists(outputlightcurvefolder):\n",
    "    os.makedirs(outputlightcurvefolder)\n",
    "np.savetxt(os.path.join(outputlightcurvefolder, 'centroiddetrended_lightcurve_' + str(starname) + '.txt'),np.transpose([t,f_t]),header='Time, Flux')"
   ]
  },
  {
   "cell_type": "markdown",
   "metadata": {},
   "source": [
    "## 3. periodfinder"
   ]
  },
  {
   "cell_type": "code",
   "execution_count": null,
   "metadata": {
    "collapsed": true
   },
   "outputs": [],
   "source": [
    "'''\n",
    "#\n",
    "# Module to find periodicities of a light curve of flux using BLS. Best periods are automatically folded, other periods are tried and other nice stuff can be done.\n",
    "# Credit for this Box-least-square (BLS) algorithm goes to Ruth Angus and Dan Foreman-Mackey! See https://github.com/dfm/python-bls, but included here for completeness\n",
    "#\n",
    "#\n",
    "'''\n",
    "\n",
    "# general python files\n",
    "import os\n",
    "import matplotlib.pyplot as pl\n",
    "import numpy as np\n",
    "\n",
    "from auxiliaries import *\n",
    "\n",
    "import bls\n",
    "\n",
    "def fold_data(t,y,period):\n",
    "  # simple module to fold data based on period\n",
    "\n",
    "  folded = t % period\n",
    "  inds = np.array(folded).argsort()\n",
    "  t_folded = folded[inds]\n",
    "  y_folded = y[inds]\n",
    "\n",
    "  return t_folded,y_folded\n",
    "\n",
    "\n",
    "def get_period(t,f_t,get_mandelagolmodel=True,outputpath='',starname=''):\n",
    "  #\n",
    "  # here we use a BLS algorithm to create a periodogram and find the best periods. The BLS is implemented in Python by Ruth Angus and Dan Foreman-Macey\n",
    "  #\n",
    "\n",
    "  outputfolder = os.path.join(outputpath,str(starname))\n",
    "\n",
    "  fmin = 0.03 # minimum frequency. we can't find anything longer than 90 days obviously\n",
    "  nf = 60000 # amount of frequencies to try\n",
    "  df = 0.00001 # frequency step\n",
    "\n",
    "  qmi = 0.0005 # min relative length of transit (in phase unit)\n",
    "  qma = 0.1 # max relative length of transit (in phase unit)\n",
    "  nb = 200 # number of bins in folded LC\n",
    "\n",
    "  u = np.linspace(fmin,fmin + nf*df,nf)\n",
    "  v = np.array(0)\n",
    "  t = np.array(t)\n",
    "  print t[0]\n",
    "  f_t = np.array(f_t)\n",
    "\n",
    "  t_orig = np.copy(t)\n",
    "  f_t_orig = f_t\n",
    "  results = bls.eebls(t,f_t,t,f_t,nf,fmin,df,nb,qmi,qma)\n",
    "  freqlist = u\n",
    "  powers = results[0]\n",
    "  period = results[1]\n",
    "\n",
    "  folded,f_t_folded = fold_data(t,f_t,period)\n",
    "\n",
    "  np.savetxt(os.path.join(outputfolder, 'folded_P' + str(period) + 'star_' + str(starname) + '.txt'),np.transpose([folded,f_t_folded]),header='Time, Flux')\n",
    "\n",
    "  t_foldbin,f_t_foldbin,stdv_foldbin = rebin_dataset(folded,f_t_folded,15)\n",
    "  f_t_smooth = savitzky_golay(f_t_folded,29,1)\n",
    "  pl.figure('my data folded bls')\n",
    "  pl.plot(folded,f_t_folded+1.,'.',color='black',label='K2 photometry')\n",
    "  pl.xlabel('Time [d]')\n",
    "  pl.ylabel('Relative Flux')\n",
    "\n",
    "  if get_mandelagolmodel:\n",
    "    # this is not a core part of the module and uses a transit model by Mandel & Agol, implemented in Python by Ian Crossfield.\n",
    "\n",
    "    #[T0,b,R_over_a,Rp_over_Rstar,flux_star,gamma1,gamma2]\n",
    "    transit_params = np.array([4.11176,0.9,0.104,np.sqrt(0.0036),1.,0.2,0.2])\n",
    "    import model_transits\n",
    "    times_full = np.linspace(0.,period,10000)\n",
    "    model = model_transits.modeltransit(transit_params,model_transits.occultquad,period,times_full)\n",
    "\n",
    "    pl.figure('Transit model')\n",
    "    pl.scatter((folded-transit_params[0])*24.,f_t_folded+1.,color='black',label='K2 photometry',s=10.)\n",
    "\n",
    "    pl.plot((times_full-transit_params[0])*24.,model,color='grey',lw=4,label='Transit model')\n",
    "    pl.xlabel('Time from mid-transit [hr]',fontsize=17)\n",
    "    pl.ylabel('Relative flux',fontsize=17)\n",
    "    legend = pl.legend(loc='upper center',numpoints=1,scatterpoints=1,fontsize=15,prop={'size':15},title='EPIC 205071984')\n",
    "    pl.tick_params(labelsize=17)\n",
    "    pl.tick_params(axis='both', which='major', width=1.5)\n",
    "\n",
    "    pl.tight_layout()\n",
    "    pl.setp(legend.get_title(),fontsize=17)\n",
    "  pl.savefig(os.path.join(outputfolder, 'folded_P_' + 'star_' + str(starname) +str(period) + '.png'))\n",
    "\n",
    "  # unravel again\n",
    "  n_start = int(np.round(t[0] / period))\n",
    "  n_end = np.round(t[-1] / period) + 1\n",
    "  i = n_start\n",
    "  pl.figure()\n",
    "  pl.plot(t_orig,f_t,'*')\n",
    "\n",
    "  t_unravel = []\n",
    "  f_t_unravel = []\n",
    "  while i < n_end:\n",
    "    t_unravel.append(np.array(folded) + i*period + t_orig[0])\n",
    "    f_t_unravel.append(np.array(f_t_smooth))\n",
    "\n",
    "    pl.plot(t_unravel[i],f_t_unravel[i],color='black',lw='1.5')\n",
    "    i = i + 1\n",
    "\n",
    "  print 'best period is '\n",
    "  print period\n",
    "\n",
    "  return folded,f_t_folded,period,freqlist,powers\n",
    "\n",
    "\n",
    "def maskout_freqs(freqs,power,freq=float,lim=0.05):\n",
    "  # little definition to remove certain frequencies and their nearby surroundings from an array, so that other frequencies can be found which are truly different\n",
    "  freqs = np.array(freqs)\n",
    "  power = np.array(power)\n",
    "  selection = ~((freqs > (freq - lim))*((freqs < (freq + lim))))\n",
    "  newfreqs = freqs[selection]\n",
    "  newpower = power[selection]\n",
    "\n",
    "  return newfreqs,newpower\n",
    "\n",
    "\n",
    "def make_combo_figure(t,f_t,period,freqs,power,starname='',outputpath=''):\n",
    "  #\n",
    "  # This definition can be used to make a single overview figure, showing the lightcurve + a zoom, a BLS periodogram, and folded (+ smoothed) light curves based on the best frequencies and their multiples\n",
    "  # This figure is used to eyeball good candidates\n",
    "  #\n",
    "\n",
    "\n",
    "  t = np.array(t)\n",
    "  f_t = np.array(f_t)\n",
    "  freqs = np.array(freqs)\n",
    "  power = np.array(power)\n",
    "\n",
    "  pl.figure('Combo figure',figsize=(35.,20.))\n",
    "  ax1 = pl.subplot2grid((6,3), (0,0), colspan=3,rowspan=2)\n",
    "  ax2 = pl.subplot2grid((6,3), (2,0), colspan=3)\n",
    "  ax3 = pl.subplot2grid((6,3), (3,0), colspan=3)\n",
    "  ax4 = pl.subplot2grid((6,3), (4,0))#, rowspan=2)\n",
    "  ax5 = pl.subplot2grid((6,3), (4,1))\n",
    "  ax6 = pl.subplot2grid((6,3), (4,2))\n",
    "  ax7 = pl.subplot2grid((6,3), (5,0))#, rowspan=2)\n",
    "  ax8 = pl.subplot2grid((6,3), (5,1))\n",
    "  ax9 = pl.subplot2grid((6,3), (5,2))\n",
    "\n",
    "  sn = np.max(power)/np.median(power)\n",
    "  if sn > 4.:\n",
    "    titlecolor = 'green'\n",
    "    outputfigfolder = os.path.join(outputpath,'figs/high_sn/')\n",
    "  else:\n",
    "    titlecolor = 'red'\n",
    "    outputfigfolder = os.path.join(outputpath,'figs/low_sn/')\n",
    "  pl.suptitle('star = ' + str(starname),fontsize=35,color=titlecolor)\n",
    "  ax1.plot(t,f_t,'.-')\n",
    "\n",
    "  ax2.plot(t,f_t,'.-.',lw=0.5)\n",
    "  ax2.set_ylim([-0.002,0.002])\n",
    "  ax2.set_xlabel('Time [d]')\n",
    "\n",
    "  P_min = freqs[-1]\n",
    "  P_max = freqs[0]\n",
    "  freq_best = 1./period\n",
    "  label = ' (Pmin = ' + str(np.round(P_min,3)) + ', Pmax = ' + str(np.round(P_max,3)) + ')'\n",
    "  freqs = np.array(freqs)\n",
    "  freqs = 1./freqs\n",
    "  ax3.plot(freqs,power,'-',lw=0.5,label=label,color='black')\n",
    "  ax3.axvline(period,lw=3,color='red',label='Period = ' + str(np.round(period,3)))\n",
    "  ax3.legend(loc='best')\n",
    "\n",
    "\n",
    "  t_folded,f_t_folded = fold_data(t,f_t,period)\n",
    "  f_t_smooth = savitzky_golay(f_t_folded,29,1)\n",
    "  ax4.plot(t_folded,f_t_folded,'.',color='grey',label='Period = ' + str(np.round(period,3))+ ' S/N=' + str(np.round(sn,2)))\n",
    "  ax4.plot(t_folded,f_t_smooth,color='red',lw=3)\n",
    "  ax4.legend(loc='best')\n",
    "\n",
    "  t_folded_2P,f_t_folded_2P = fold_data(t,f_t,period*2.)\n",
    "  f_t_smooth_2P = savitzky_golay(f_t_folded_2P,29,1)\n",
    "  ax5.plot(t_folded_2P,f_t_folded_2P,'.',color='grey',label='2 x Period = ' + str(np.round(period*2.,3)))\n",
    "  ax5.plot(t_folded_2P,f_t_smooth_2P,color='red',lw=3)\n",
    "  ax5.legend(loc='best')\n",
    "\n",
    "  t_folded_halfP,f_t_folded_halfP = fold_data(t,f_t,period/2.)\n",
    "  f_t_smooth_halfP = savitzky_golay(f_t_folded_halfP,29,1)\n",
    "  ax6.plot(t_folded_halfP,f_t_folded_halfP,'.',color='grey',label='Period/2 = ' + str(np.round(period/2.,3)))\n",
    "  ax6.plot(t_folded_halfP,f_t_smooth_halfP,color='red',lw=3)\n",
    "  ax6.legend(loc='best')\n",
    "\n",
    "\n",
    "  # find next best period, avoid the one already taken, and always avoid 0.5 and 0.25 days\n",
    "  newfreqs,newpower = maskout_freqs(freqs,power,freq=period)\n",
    "  newfreqs,newpower = maskout_freqs(newfreqs,newpower,freq=period/2.)\n",
    "  newfreqs,newpower = maskout_freqs(newfreqs,newpower,freq=period*2.)\n",
    "  newfreqs,newpower = maskout_freqs(newfreqs,newpower,freq=period*3.)\n",
    "  newfreqs,newpower = maskout_freqs(newfreqs,newpower,freq=period/3.)\n",
    "\n",
    "  newfreqs,newpower = maskout_freqs(newfreqs,newpower,freq=0.25) # spacecraft freqs\n",
    "  newfreqs,newpower = maskout_freqs(newfreqs,newpower,freq=0.5) # spacecraft freqs\n",
    "  newfreqs,newpower = maskout_freqs(newfreqs,newpower,freq=0.125) # spacecraft freqs\n",
    "\n",
    "  newbestfreq2 = newfreqs[np.argmax(newpower)]\n",
    "  period2 = newbestfreq2\n",
    "  sn2 = np.max(newpower)/np.median(newpower)\n",
    "\n",
    "  newfreqs,newpower = maskout_freqs(newfreqs,newpower,freq=newbestfreq2)\n",
    "  newfreqs,newpower = maskout_freqs(newfreqs,newpower,freq=newbestfreq2/2.)\n",
    "  newfreqs,newpower = maskout_freqs(newfreqs,newpower,freq=newbestfreq2*2.)\n",
    "  newbestfreq3 = newfreqs[np.argmax(newpower)]\n",
    "  period3 = newbestfreq3\n",
    "  sn3 = np.max(newpower)/np.median(newpower)\n",
    "\n",
    "  newfreqs,newpower = maskout_freqs(newfreqs,newpower,freq=newbestfreq3)\n",
    "  newfreqs,newpower = maskout_freqs(newfreqs,newpower,freq=newbestfreq3/2.)\n",
    "  newfreqs,newpower = maskout_freqs(newfreqs,newpower,freq=newbestfreq3*2.)\n",
    "  newbestfreq4 = newfreqs[np.argmax(newpower)]\n",
    "  period4 = newbestfreq4\n",
    "  sn4 = np.max(newpower)/np.median(newpower)\n",
    "\n",
    "  ax3.axvline(newbestfreq2,lw=2,color='blue',label='Period2 = ' + str(np.round(period2,3)),ls='--')\n",
    "  ax3.axvline(newbestfreq3,lw=2,color='orange',label='Period3 = ' + str(np.round(period3,3)),ls='--')\n",
    "  ax3.axvline(newbestfreq4,lw=2,color='green',label='Period4 = ' + str(np.round(period4,3)),ls='--')\n",
    "  ax3.legend(loc='best',ncol=5)\n",
    "\n",
    "  t_folded,f_t_folded = fold_data(t,f_t,period2)\n",
    "  f_t_smooth = savitzky_golay(f_t_folded,29,1)\n",
    "  ax7.plot(t_folded,f_t_folded,'.',color='grey',label='Period = ' + str(np.round(period2,3))+ ' S/N=' + str(np.round(sn2,2)))\n",
    "  ax7.plot(t_folded,f_t_smooth,color='blue',lw=3)\n",
    "  ax7.legend(loc='best')\n",
    "\n",
    "  t_folded,f_t_folded = fold_data(t,f_t,period3)\n",
    "  f_t_smooth = savitzky_golay(f_t_folded,29,1)\n",
    "  ax8.plot(t_folded,f_t_folded,'.',color='grey',label='Period = ' + str(np.round(period3,3))+ ' S/N=' + str(np.round(sn3,2)))\n",
    "  ax8.plot(t_folded,f_t_smooth,color='orange',lw=3)\n",
    "  ax8.legend(loc='best')\n",
    "\n",
    "  t_folded,f_t_folded = fold_data(t,f_t,period4)\n",
    "  f_t_smooth = savitzky_golay(f_t_folded,29,1)\n",
    "  ax9.plot(t_folded,f_t_folded,'.',color='grey',label='Period = ' + str(np.round(period4,3))+ ' S/N=' + str(np.round(sn4,2)))\n",
    "  ax9.plot(t_folded,f_t_smooth,color='green',lw=3)\n",
    "  ax9.legend(loc='best')\n",
    "\n",
    "\n",
    "  ax7.set_xlabel('Time [d]')\n",
    "  ax8.set_xlabel('Time [d]')\n",
    "  ax9.set_xlabel('Time [d]')\n",
    "  ax3.set_ylabel('Power')\n",
    "  ax3.set_xlabel('Period [d]')\n",
    "  ax1.set_ylabel('Flux')\n",
    "  ax2.set_ylabel('Flux (zoom)')\n",
    "  ax4.set_ylabel('Flux')\n",
    "  ax7.set_ylabel('Flux')\n",
    "  print 'saving combo figure...'\n",
    "\n",
    "  if not os.path.exists(outputfigfolder):\n",
    "    os.makedirs(outputfigfolder)\n",
    "  pl.savefig(os.path.join(outputfigfolder, 'combo_' + 'star_' + str(starname) + '.png'),figsize=(10.,20.))\n"
   ]
  },
  {
   "cell_type": "code",
   "execution_count": null,
   "metadata": {
    "collapsed": true
   },
   "outputs": [],
   "source": []
  },
  {
   "cell_type": "code",
   "execution_count": null,
   "metadata": {
    "collapsed": true
   },
   "outputs": [],
   "source": []
  },
  {
   "cell_type": "code",
   "execution_count": null,
   "metadata": {
    "collapsed": true
   },
   "outputs": [],
   "source": []
  },
  {
   "cell_type": "code",
   "execution_count": null,
   "metadata": {
    "collapsed": true
   },
   "outputs": [],
   "source": []
  },
  {
   "cell_type": "code",
   "execution_count": null,
   "metadata": {
    "collapsed": true
   },
   "outputs": [],
   "source": []
  },
  {
   "cell_type": "code",
   "execution_count": null,
   "metadata": {
    "collapsed": true
   },
   "outputs": [],
   "source": []
  },
  {
   "cell_type": "code",
   "execution_count": null,
   "metadata": {
    "collapsed": true
   },
   "outputs": [],
   "source": []
  },
  {
   "cell_type": "code",
   "execution_count": null,
   "metadata": {
    "collapsed": true
   },
   "outputs": [],
   "source": []
  },
  {
   "cell_type": "code",
   "execution_count": null,
   "metadata": {
    "collapsed": true
   },
   "outputs": [],
   "source": []
  },
  {
   "cell_type": "code",
   "execution_count": null,
   "metadata": {
    "collapsed": true
   },
   "outputs": [],
   "source": []
  },
  {
   "cell_type": "code",
   "execution_count": null,
   "metadata": {
    "collapsed": true
   },
   "outputs": [],
   "source": []
  },
  {
   "cell_type": "code",
   "execution_count": null,
   "metadata": {
    "collapsed": true
   },
   "outputs": [],
   "source": []
  },
  {
   "cell_type": "code",
   "execution_count": null,
   "metadata": {
    "collapsed": true
   },
   "outputs": [],
   "source": []
  }
 ],
 "metadata": {
  "kernelspec": {
   "display_name": "Python 2",
   "language": "python",
   "name": "python2"
  },
  "language_info": {
   "codemirror_mode": {
    "name": "ipython",
    "version": 2
   },
   "file_extension": ".py",
   "mimetype": "text/x-python",
   "name": "python",
   "nbconvert_exporter": "python",
   "pygments_lexer": "ipython2",
   "version": "2.7.13"
  }
 },
 "nbformat": 4,
 "nbformat_minor": 2
}
