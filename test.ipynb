{
 "cells": [
  {
   "cell_type": "code",
   "execution_count": null,
   "metadata": {
    "collapsed": true
   },
   "outputs": [],
   "source": []
  },
  {
   "cell_type": "code",
   "execution_count": 1,
   "metadata": {
    "ExecuteTime": {
     "end_time": "2017-09-29T03:47:53.815826Z",
     "start_time": "2017-09-29T03:47:53.809436Z"
    },
    "collapsed": true
   },
   "outputs": [],
   "source": [
    "from os import listdir\n",
    "from os.path import isfile, join"
   ]
  },
  {
   "cell_type": "code",
   "execution_count": 2,
   "metadata": {
    "ExecuteTime": {
     "end_time": "2017-09-29T03:47:54.331532Z",
     "start_time": "2017-09-29T03:47:54.325096Z"
    },
    "collapsed": true
   },
   "outputs": [],
   "source": [
    "inputpath='/home/jp/data/transit/c14/c14-all/everest_out/'\n",
    "\n",
    "starnames = [ f[4:13] for f in listdir(inputpath) if isfile(join(inputpath,f)) ]"
   ]
  },
  {
   "cell_type": "code",
   "execution_count": 3,
   "metadata": {
    "ExecuteTime": {
     "end_time": "2017-09-29T03:47:56.982585Z",
     "start_time": "2017-09-29T03:47:56.959569Z"
    }
   },
   "outputs": [
    {
     "data": {
      "text/plain": [
       "['28765-eve',\n",
       " '00315-eve',\n",
       " '23069-eve',\n",
       " '51182-eve',\n",
       " '25204-eve',\n",
       " '66918-eve',\n",
       " '32894-eve',\n",
       " '29216-eve',\n",
       " '84584-eve',\n",
       " '54591-eve',\n",
       " '33904-eve',\n",
       " '96929-eve',\n",
       " '84736-eve',\n",
       " '85041-eve',\n",
       " '94849-eve',\n",
       " '14623-eve',\n",
       " '47435-eve',\n",
       " '64731-eve',\n",
       " '05973-eve',\n",
       " '07356-eve',\n",
       " '43336-eve',\n",
       " '33514-eve',\n",
       " '74768-eve',\n",
       " '40681-eve',\n",
       " '80525-eve',\n",
       " '09758-eve',\n",
       " '33233-eve',\n",
       " '76320-eve',\n",
       " '54918-eve',\n",
       " '24228-eve',\n",
       " '58339-eve',\n",
       " '32486-eve',\n",
       " '69993-eve',\n",
       " '94287-eve',\n",
       " '13508-eve',\n",
       " '37341-eve',\n",
       " '24564-eve',\n",
       " '52899-eve',\n",
       " '43249-eve',\n",
       " '31970-eve',\n",
       " '31548-eve',\n",
       " '28107-eve',\n",
       " '84553-eve',\n",
       " '47862-eve',\n",
       " '89981-eve',\n",
       " '07082-eve',\n",
       " '11821-eve',\n",
       " '69579-eve',\n",
       " '08085-eve',\n",
       " '37069-eve',\n",
       " '77337-eve',\n",
       " '44088-eve',\n",
       " '53489-eve',\n",
       " '56897-eve',\n",
       " '09939-eve',\n",
       " '20692-eve',\n",
       " '37142-eve',\n",
       " '14313-eve',\n",
       " '32053-eve',\n",
       " '50613-eve',\n",
       " '33739-eve',\n",
       " '32941-eve',\n",
       " '71368-eve',\n",
       " '59614-eve',\n",
       " '67357-eve',\n",
       " '42949-eve',\n",
       " '33909-eve',\n",
       " '77109-eve',\n",
       " '70868-eve',\n",
       " '16043-eve',\n",
       " '60770-eve',\n",
       " '05415-eve',\n",
       " '41166-eve',\n",
       " '64536-eve',\n",
       " '44025-eve',\n",
       " '39215-eve',\n",
       " '09062-eve',\n",
       " '74997-eve',\n",
       " '54767-eve',\n",
       " '88786-eve',\n",
       " '04412-eve',\n",
       " '63039-eve',\n",
       " '76419-eve',\n",
       " '26322-eve',\n",
       " '62787-eve',\n",
       " '93675-eve',\n",
       " '54088-eve',\n",
       " '38255-eve',\n",
       " '38551-eve',\n",
       " '31833-eve',\n",
       " '05887-eve',\n",
       " '73181-eve',\n",
       " '62696-eve',\n",
       " '95451-eve',\n",
       " '81575-eve',\n",
       " '46592-eve',\n",
       " '69002-eve',\n",
       " '61356-eve',\n",
       " '41094-eve',\n",
       " '86682-eve',\n",
       " '45803-eve',\n",
       " '09387-eve',\n",
       " '89382-eve',\n",
       " '75710-eve',\n",
       " '56236-eve',\n",
       " '32540-eve',\n",
       " '23298-eve',\n",
       " '32394-eve',\n",
       " '08679-eve',\n",
       " '85659-eve',\n",
       " '47508-eve',\n",
       " '37266-eve',\n",
       " '30579-eve',\n",
       " '25376-eve']"
      ]
     },
     "execution_count": 3,
     "metadata": {},
     "output_type": "execute_result"
    }
   ],
   "source": [
    "starnames"
   ]
  },
  {
   "cell_type": "code",
   "execution_count": null,
   "metadata": {
    "collapsed": true
   },
   "outputs": [],
   "source": []
  }
 ],
 "metadata": {
  "kernelspec": {
   "display_name": "Python 2",
   "language": "python",
   "name": "python2"
  },
  "language_info": {
   "codemirror_mode": {
    "name": "ipython",
    "version": 2
   },
   "file_extension": ".py",
   "mimetype": "text/x-python",
   "name": "python",
   "nbconvert_exporter": "python",
   "pygments_lexer": "ipython2",
   "version": "2.7.13"
  }
 },
 "nbformat": 4,
 "nbformat_minor": 2
}
