{
 "cells": [
  {
   "cell_type": "code",
   "execution_count": null,
   "metadata": {
    "collapsed": true
   },
   "outputs": [],
   "source": []
  },
  {
   "cell_type": "code",
   "execution_count": 1,
   "metadata": {
    "ExecuteTime": {
     "end_time": "2017-09-29T03:47:53.815826Z",
     "start_time": "2017-09-29T03:47:53.809436Z"
    },
    "collapsed": true
   },
   "outputs": [],
   "source": [
    "from os import listdir\n",
    "from os.path import isfile, join"
   ]
  },
  {
   "cell_type": "code",
   "execution_count": 15,
   "metadata": {
    "ExecuteTime": {
     "end_time": "2017-09-29T03:57:22.870109Z",
     "start_time": "2017-09-29T03:57:22.851876Z"
    }
   },
   "outputs": [
    {
     "ename": "TypeError",
     "evalue": "'builtin_function_or_method' object has no attribute '__getitem__'",
     "output_type": "error",
     "traceback": [
      "\u001b[0;31m---------------------------------------------------------------------------\u001b[0m",
      "\u001b[0;31mTypeError\u001b[0m                                 Traceback (most recent call last)",
      "\u001b[0;32m<ipython-input-15-33b95940e734>\u001b[0m in \u001b[0;36m<module>\u001b[0;34m()\u001b[0m\n\u001b[1;32m      2\u001b[0m \u001b[0;34m\u001b[0m\u001b[0m\n\u001b[1;32m      3\u001b[0m \u001b[0mfilenames\u001b[0m \u001b[0;34m=\u001b[0m \u001b[0;34m[\u001b[0m \u001b[0mstr\u001b[0m\u001b[0;34m(\u001b[0m\u001b[0mf\u001b[0m\u001b[0;34m)\u001b[0m \u001b[0;32mfor\u001b[0m \u001b[0mf\u001b[0m \u001b[0;32min\u001b[0m \u001b[0mlistdir\u001b[0m\u001b[0;34m(\u001b[0m\u001b[0minputpath\u001b[0m\u001b[0;34m)\u001b[0m \u001b[0;32mif\u001b[0m \u001b[0misfile\u001b[0m\u001b[0;34m(\u001b[0m\u001b[0mjoin\u001b[0m\u001b[0;34m(\u001b[0m\u001b[0minputpath\u001b[0m\u001b[0;34m,\u001b[0m\u001b[0mf\u001b[0m\u001b[0;34m)\u001b[0m\u001b[0;34m)\u001b[0m \u001b[0;34m]\u001b[0m\u001b[0;34m\u001b[0m\u001b[0m\n\u001b[0;32m----> 4\u001b[0;31m \u001b[0mstarnames\u001b[0m \u001b[0;34m=\u001b[0m \u001b[0;34m[\u001b[0m\u001b[0mi\u001b[0m\u001b[0;34m.\u001b[0m\u001b[0msplit\u001b[0m\u001b[0;34m[\u001b[0m\u001b[0;34m'-'\u001b[0m\u001b[0;34m]\u001b[0m\u001b[0;34m[\u001b[0m\u001b[0;36m0\u001b[0m\u001b[0;34m]\u001b[0m \u001b[0;32mfor\u001b[0m \u001b[0mi\u001b[0m \u001b[0;32min\u001b[0m \u001b[0mfilenames\u001b[0m\u001b[0;34m]\u001b[0m\u001b[0;34m\u001b[0m\u001b[0m\n\u001b[0m",
      "\u001b[0;31mTypeError\u001b[0m: 'builtin_function_or_method' object has no attribute '__getitem__'"
     ]
    }
   ],
   "source": [
    "inputpath='/home/jp/data/transit/c14/c14-all/everest_out/'\n",
    "\n",
    "filenames = [ str(f) for f in listdir(inputpath) if isfile(join(inputpath,f)) ]\n",
    "starnames = [i.split['-'][0] for i in filenames]"
   ]
  },
  {
   "cell_type": "code",
   "execution_count": 11,
   "metadata": {
    "ExecuteTime": {
     "end_time": "2017-09-29T03:50:45.576901Z",
     "start_time": "2017-09-29T03:50:45.567347Z"
    }
   },
   "outputs": [
    {
     "data": {
      "text/plain": [
       "['248428765-everest-dt-lc-gpflat.txt',\n",
       " '201700315-everest-dt-lc-gpflat.txt',\n",
       " '201623069-everest-dt-lc-gpflat.txt',\n",
       " '248451182-everest-dt-lc-gpflat.txt',\n",
       " '201625204-everest-dt-lc-gpflat.txt',\n",
       " '248466918-everest-dt-lc-gpflat.txt',\n",
       " '201732894-everest-dt-lc-gpflat.txt',\n",
       " '201529216-everest-dt-lc-gpflat.txt',\n",
       " '248484584-everest-dt-lc-gpflat.txt',\n",
       " '201854591-everest-dt-lc-gpflat.txt',\n",
       " '248433904-everest-dt-lc-gpflat.txt',\n",
       " '201896929-everest-dt-lc-gpflat.txt',\n",
       " '248484736-everest-dt-lc-gpflat.txt',\n",
       " '201885041-everest-dt-lc-gpflat.txt',\n",
       " '201794849-everest-dt-lc-gpflat.txt',\n",
       " '248414623-everest-dt-lc-gpflat.txt',\n",
       " '248447435-everest-dt-lc-gpflat.txt',\n",
       " '201664731-everest-dt-lc-gpflat.txt',\n",
       " '201705973-everest-dt-lc-gpflat.txt',\n",
       " '248407356-everest-dt-lc-gpflat.txt',\n",
       " '248443336-everest-dt-lc-gpflat.txt',\n",
       " '248433514-everest-dt-lc-gpflat.txt',\n",
       " '201674768-everest-dt-lc-gpflat.txt',\n",
       " '248440681-everest-dt-lc-gpflat.txt',\n",
       " '201580525-everest-dt-lc-gpflat.txt',\n",
       " '201609758-everest-dt-lc-gpflat.txt',\n",
       " '201633233-everest-dt-lc-gpflat.txt',\n",
       " '248476320-everest-dt-lc-gpflat.txt',\n",
       " '248454918-everest-dt-lc-gpflat.txt',\n",
       " '248424228-everest-dt-lc-gpflat.txt',\n",
       " '248458339-everest-dt-lc-gpflat.txt',\n",
       " '248432486-everest-dt-lc-gpflat.txt',\n",
       " '248469993-everest-dt-lc-gpflat.txt',\n",
       " '201594287-everest-dt-lc-gpflat.txt',\n",
       " '248413508-everest-dt-lc-gpflat.txt',\n",
       " '201437341-everest-dt-lc-gpflat.txt',\n",
       " '248424564-everest-dt-lc-gpflat.txt',\n",
       " '201652899-everest-dt-lc-gpflat.txt',\n",
       " '248443249-everest-dt-lc-gpflat.txt',\n",
       " '201731970-everest-dt-lc-gpflat.txt',\n",
       " '248431548-everest-dt-lc-gpflat.txt',\n",
       " '201528107-everest-dt-lc-gpflat.txt',\n",
       " '248484553-everest-dt-lc-gpflat.txt',\n",
       " '248447862-everest-dt-lc-gpflat.txt',\n",
       " '201689981-everest-dt-lc-gpflat.txt',\n",
       " '201807082-everest-dt-lc-gpflat.txt',\n",
       " '201611821-everest-dt-lc-gpflat.txt',\n",
       " '248469579-everest-dt-lc-gpflat.txt',\n",
       " '201908085-everest-dt-lc-gpflat.txt',\n",
       " '248637069-everest-dt-lc-gpflat.txt',\n",
       " '248477337-everest-dt-lc-gpflat.txt',\n",
       " '201844088-everest-dt-lc-gpflat.txt',\n",
       " '201553489-everest-dt-lc-gpflat.txt',\n",
       " '201556897-everest-dt-lc-gpflat.txt',\n",
       " '201509939-everest-dt-lc-gpflat.txt',\n",
       " '201620692-everest-dt-lc-gpflat.txt',\n",
       " '248437142-everest-dt-lc-gpflat.txt',\n",
       " '201814313-everest-dt-lc-gpflat.txt',\n",
       " '248432053-everest-dt-lc-gpflat.txt',\n",
       " '248450613-everest-dt-lc-gpflat.txt',\n",
       " '248433739-everest-dt-lc-gpflat.txt',\n",
       " '248432941-everest-dt-lc-gpflat.txt',\n",
       " '248471368-everest-dt-lc-gpflat.txt',\n",
       " '201659614-everest-dt-lc-gpflat.txt',\n",
       " '248467357-everest-dt-lc-gpflat.txt',\n",
       " '248442949-everest-dt-lc-gpflat.txt',\n",
       " '248433909-everest-dt-lc-gpflat.txt',\n",
       " '248477109-everest-dt-lc-gpflat.txt',\n",
       " '248470868-everest-dt-lc-gpflat.txt',\n",
       " '248416043-everest-dt-lc-gpflat.txt',\n",
       " '248660770-everest-dt-lc-gpflat.txt',\n",
       " '248505415-everest-dt-lc-gpflat.txt',\n",
       " '248441166-everest-dt-lc-gpflat.txt',\n",
       " '201564536-everest-dt-lc-gpflat.txt',\n",
       " '201644025-everest-dt-lc-gpflat.txt',\n",
       " '201439215-everest-dt-lc-gpflat.txt',\n",
       " '248409062-everest-dt-lc-gpflat.txt',\n",
       " '248474997-everest-dt-lc-gpflat.txt',\n",
       " '248454767-everest-dt-lc-gpflat.txt',\n",
       " '201488786-everest-dt-lc-gpflat.txt',\n",
       " '201904412-everest-dt-lc-gpflat.txt',\n",
       " '201563039-everest-dt-lc-gpflat.txt',\n",
       " '201576419-everest-dt-lc-gpflat.txt',\n",
       " '201826322-everest-dt-lc-gpflat.txt',\n",
       " '248462787-everest-dt-lc-gpflat.txt',\n",
       " '201693675-everest-dt-lc-gpflat.txt',\n",
       " '201454088-everest-dt-lc-gpflat.txt',\n",
       " '248438255-everest-dt-lc-gpflat.txt',\n",
       " '248438551-everest-dt-lc-gpflat.txt',\n",
       " '248431833-everest-dt-lc-gpflat.txt',\n",
       " '248505887-everest-dt-lc-gpflat.txt',\n",
       " '201673181-everest-dt-lc-gpflat.txt',\n",
       " '248662696-everest-dt-lc-gpflat.txt',\n",
       " '201495451-everest-dt-lc-gpflat.txt',\n",
       " '248481575-everest-dt-lc-gpflat.txt',\n",
       " '248446592-everest-dt-lc-gpflat.txt',\n",
       " '248469002-everest-dt-lc-gpflat.txt',\n",
       " '248461356-everest-dt-lc-gpflat.txt',\n",
       " '248441094-everest-dt-lc-gpflat.txt',\n",
       " '201786682-everest-dt-lc-gpflat.txt',\n",
       " '248445803-everest-dt-lc-gpflat.txt',\n",
       " '201609387-everest-dt-lc-gpflat.txt',\n",
       " '201689382-everest-dt-lc-gpflat.txt',\n",
       " '201475710-everest-dt-lc-gpflat.txt',\n",
       " '201556236-everest-dt-lc-gpflat.txt',\n",
       " '201532540-everest-dt-lc-gpflat.txt',\n",
       " '248423298-everest-dt-lc-gpflat.txt',\n",
       " '201532394-everest-dt-lc-gpflat.txt',\n",
       " '248508679-everest-dt-lc-gpflat.txt',\n",
       " '201885659-everest-dt-lc-gpflat.txt',\n",
       " '201447508-everest-dt-lc-gpflat.txt',\n",
       " '201537266-everest-dt-lc-gpflat.txt',\n",
       " '248430579-everest-dt-lc-gpflat.txt',\n",
       " '248425376-everest-dt-lc-gpflat.txt']"
      ]
     },
     "execution_count": 11,
     "metadata": {},
     "output_type": "execute_result"
    }
   ],
   "source": [
    "starnames"
   ]
  },
  {
   "cell_type": "code",
   "execution_count": null,
   "metadata": {
    "collapsed": true
   },
   "outputs": [],
   "source": []
  }
 ],
 "metadata": {
  "kernelspec": {
   "display_name": "Python 2",
   "language": "python",
   "name": "python2"
  },
  "language_info": {
   "codemirror_mode": {
    "name": "ipython",
    "version": 2
   },
   "file_extension": ".py",
   "mimetype": "text/x-python",
   "name": "python",
   "nbconvert_exporter": "python",
   "pygments_lexer": "ipython2",
   "version": "2.7.13"
  }
 },
 "nbformat": 4,
 "nbformat_minor": 2
}
